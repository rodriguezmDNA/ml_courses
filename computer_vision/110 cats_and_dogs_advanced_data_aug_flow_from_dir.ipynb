{
 "cells": [
  {
   "cell_type": "markdown",
   "metadata": {
    "_uuid": "573d864dadb09a4bd57946dc7967cd5eace46b5b"
   },
   "source": [
    "# Cats and Dogs"
   ]
  },
  {
   "cell_type": "code",
   "execution_count": 13,
   "metadata": {
    "_cell_guid": "b1076dfc-b9ad-4769-8c92-a6c4dae69d19",
    "_uuid": "8f2839f25d086af736a60e9eeb907d3b93b6e0e5"
   },
   "outputs": [],
   "source": [
    "# This Python 3 environment comes with many helpful analytics libraries installed\n",
    "# It is defined by the kaggle/python docker image: https://github.com/kaggle/docker-python\n",
    "# For example, here's several helpful packages to load in \n",
    "\n",
    "import numpy as np # linear algebra\n",
    "import pandas as pd # data processing, CSV file I/O (e.g. pd.read_csv)\n",
    "import cv2\n",
    "import matplotlib.pyplot as plt\n",
    "plt.style.use('ggplot')\n",
    "from sklearn.model_selection import train_test_split\n",
    "\n",
    "rows = 128\n",
    "cols= 128\n",
    "\n",
    "# Input data files are available in the \"../input/\" directory.\n",
    "# For example, running this (by clicking run or pressing Shift+Enter) will list the files in the input directory\n",
    "import os, shutil\n",
    "# print(os.listdir(\"../input\"))"
   ]
  },
  {
   "cell_type": "code",
   "execution_count": 5,
   "metadata": {},
   "outputs": [],
   "source": [
    "source_data_dir = \"data/train\"\n",
    "try:\n",
    "    os.mkdir(\"data/training_set/cats\")\n",
    "    os.mkdir(\"data/training_set/dogs\")\n",
    "    os.mkdir(\"data/validation_set/cats\")\n",
    "    os.mkdir(\"data/validation_set/dogs\")\n",
    "except:\n",
    "    pass"
   ]
  },
  {
   "cell_type": "code",
   "execution_count": 6,
   "metadata": {},
   "outputs": [],
   "source": [
    "if os.listdir(\"data/training_set/cats\")==\"\":\n",
    "    # If the folder contains no pictures start copying\n",
    "    for file in [\"cat.{}.jpg\".format(i) for i in range (2000)]:\n",
    "        shutil.copyfile(os.path.join(source_data_dir, file), os.path.join(\"data/training_set/cats\", file))\n",
    "    for file in [\"dog.{}.jpg\".format(i) for i in range (2000)]:\n",
    "        shutil.copyfile(os.path.join(source_data_dir, file), os.path.join(\"data/training_set/dogs\", file))\n",
    "    for file in [\"cat.{}.jpg\".format(i) for i in range (2000, 2500)]:\n",
    "        shutil.copyfile(os.path.join(source_data_dir, file), os.path.join(\"data/validation_set/cats\", file))\n",
    "    for file in [\"dog.{}.jpg\".format(i) for i in range (2000, 2500)]:\n",
    "        shutil.copyfile(os.path.join(source_data_dir, file), os.path.join(\"data/validation_set/dogs\", file))"
   ]
  },
  {
   "cell_type": "markdown",
   "metadata": {
    "_uuid": "35f974a2088b822ff91886dd221ce124924efacc"
   },
   "source": [
    "# Data Pre-processing"
   ]
  },
  {
   "cell_type": "code",
   "execution_count": 9,
   "metadata": {
    "_uuid": "bed2deee652a7d4815cb7f2c219fb4b75e82a24c"
   },
   "outputs": [
    {
     "name": "stdout",
     "output_type": "stream",
     "text": [
      "_________________________________________________________________\n",
      "Layer (type)                 Output Shape              Param #   \n",
      "=================================================================\n",
      "conv2d_4 (Conv2D)            (None, 126, 126, 32)      896       \n",
      "_________________________________________________________________\n",
      "max_pooling2d_4 (MaxPooling2 (None, 63, 63, 32)        0         \n",
      "_________________________________________________________________\n",
      "conv2d_5 (Conv2D)            (None, 61, 61, 64)        18496     \n",
      "_________________________________________________________________\n",
      "max_pooling2d_5 (MaxPooling2 (None, 30, 30, 64)        0         \n",
      "_________________________________________________________________\n",
      "conv2d_6 (Conv2D)            (None, 28, 28, 64)        36928     \n",
      "_________________________________________________________________\n",
      "max_pooling2d_6 (MaxPooling2 (None, 14, 14, 64)        0         \n",
      "_________________________________________________________________\n",
      "flatten_2 (Flatten)          (None, 12544)             0         \n",
      "_________________________________________________________________\n",
      "dropout_1 (Dropout)          (None, 12544)             0         \n",
      "_________________________________________________________________\n",
      "dense_1 (Dense)              (None, 512)               6423040   \n",
      "_________________________________________________________________\n",
      "dense_2 (Dense)              (None, 1)                 513       \n",
      "=================================================================\n",
      "Total params: 6,479,873\n",
      "Trainable params: 6,479,873\n",
      "Non-trainable params: 0\n",
      "_________________________________________________________________\n"
     ]
    }
   ],
   "source": [
    "from keras.layers import Conv2D, MaxPooling2D, Flatten, Dense, Dropout\n",
    "from keras import models\n",
    "\n",
    "model = models.Sequential()\n",
    "model.add(Conv2D(32, (3,3), activation='relu', input_shape=(rows, cols, 3)))\n",
    "model.add(MaxPooling2D((2, 2)))\n",
    "\n",
    "model.add(Conv2D(64, (3,3), activation='relu'))\n",
    "model.add(MaxPooling2D((2, 2)))\n",
    "\n",
    "model.add(Conv2D(64, (3,3), activation='relu'))\n",
    "model.add(MaxPooling2D((2, 2)))\n",
    "\n",
    "model.add(Flatten())\n",
    "model.add(Dropout(0.5))\n",
    "model.add(Dense(512, activation='relu'))\n",
    "model.add(Dense(1, activation='sigmoid'))\n",
    "model.summary()"
   ]
  },
  {
   "cell_type": "code",
   "execution_count": 10,
   "metadata": {
    "_uuid": "2e632292213c8971db21fbc4f45cc273671c6eed"
   },
   "outputs": [],
   "source": [
    "from keras import optimizers\n",
    "model.compile(loss='binary_crossentropy',\n",
    "              optimizer=optimizers.rmsprop(lr=1e-4),\n",
    "              metrics=['acc'])"
   ]
  },
  {
   "cell_type": "code",
   "execution_count": 14,
   "metadata": {
    "_uuid": "5ac36be02bb78e97e34d3b1e06a08b2f8bd32808"
   },
   "outputs": [
    {
     "name": "stdout",
     "output_type": "stream",
     "text": [
      "Found 4000 images belonging to 2 classes.\n",
      "Found 1000 images belonging to 2 classes.\n"
     ]
    }
   ],
   "source": [
    "from keras.preprocessing.image import ImageDataGenerator\n",
    "\n",
    "x_train_datagen = ImageDataGenerator(rescale=1./255,\n",
    "                                     rotation_range=40,\n",
    "                                     width_shift_range=0.2,\n",
    "                                     height_shift_range=0.2,\n",
    "                                     shear_range=0.2,\n",
    "                                     zoom_range=0.2,\n",
    "                                     horizontal_flip=True,)\n",
    "x_val_datagen = ImageDataGenerator(rescale=1./255)\n",
    "\n",
    "train_datagen = x_train_datagen.flow_from_directory(\"data/training_set\",\n",
    "                                                    target_size=(rows,cols),\n",
    "                                                    batch_size=40,\n",
    "                                                    class_mode='binary')\n",
    "val_datagen = x_val_datagen.flow_from_directory(\"data/validation_set\",\n",
    "                                                target_size=(rows,cols),\n",
    "                                                batch_size=40,\n",
    "                                                class_mode='binary')"
   ]
  },
  {
   "cell_type": "code",
   "execution_count": 15,
   "metadata": {
    "_uuid": "96dae75d7622f6bd5871e72a6c6635e48312596b"
   },
   "outputs": [
    {
     "name": "stdout",
     "output_type": "stream",
     "text": [
      "Epoch 1/100\n",
      "100/100 [==============================] - 25s 255ms/step - loss: 0.6929 - acc: 0.5260 - val_loss: 0.6640 - val_acc: 0.6050\n",
      "Epoch 2/100\n",
      "100/100 [==============================] - 24s 236ms/step - loss: 0.6674 - acc: 0.5768 - val_loss: 0.6619 - val_acc: 0.5500\n",
      "Epoch 3/100\n",
      "100/100 [==============================] - 22s 219ms/step - loss: 0.6528 - acc: 0.6050 - val_loss: 0.6084 - val_acc: 0.6670\n",
      "Epoch 4/100\n",
      "100/100 [==============================] - 22s 225ms/step - loss: 0.6436 - acc: 0.6293 - val_loss: 0.5900 - val_acc: 0.7070\n",
      "Epoch 5/100\n",
      "100/100 [==============================] - 22s 220ms/step - loss: 0.6236 - acc: 0.6460 - val_loss: 0.5708 - val_acc: 0.7060\n",
      "Epoch 6/100\n",
      "100/100 [==============================] - 22s 220ms/step - loss: 0.6151 - acc: 0.6575 - val_loss: 0.5969 - val_acc: 0.6530\n",
      "Epoch 7/100\n",
      "100/100 [==============================] - 22s 224ms/step - loss: 0.6080 - acc: 0.6748 - val_loss: 0.5758 - val_acc: 0.7030\n",
      "Epoch 8/100\n",
      "100/100 [==============================] - 23s 226ms/step - loss: 0.5986 - acc: 0.6735 - val_loss: 0.5440 - val_acc: 0.7150\n",
      "Epoch 9/100\n",
      "100/100 [==============================] - 24s 242ms/step - loss: 0.5946 - acc: 0.6833 - val_loss: 0.5429 - val_acc: 0.7160\n",
      "Epoch 10/100\n",
      "100/100 [==============================] - 22s 225ms/step - loss: 0.5824 - acc: 0.6920 - val_loss: 0.5302 - val_acc: 0.7240\n",
      "Epoch 11/100\n",
      "100/100 [==============================] - 22s 218ms/step - loss: 0.5780 - acc: 0.6918 - val_loss: 0.5173 - val_acc: 0.7270\n",
      "Epoch 12/100\n",
      "100/100 [==============================] - 22s 217ms/step - loss: 0.5801 - acc: 0.6863 - val_loss: 0.5169 - val_acc: 0.7320\n",
      "Epoch 13/100\n",
      "100/100 [==============================] - 22s 218ms/step - loss: 0.5739 - acc: 0.6895 - val_loss: 0.5360 - val_acc: 0.7130\n",
      "Epoch 14/100\n",
      "100/100 [==============================] - 22s 217ms/step - loss: 0.5630 - acc: 0.7080 - val_loss: 0.5046 - val_acc: 0.7440\n",
      "Epoch 15/100\n",
      "100/100 [==============================] - 22s 218ms/step - loss: 0.5598 - acc: 0.7063 - val_loss: 0.5610 - val_acc: 0.7090\n",
      "Epoch 16/100\n",
      "100/100 [==============================] - 22s 218ms/step - loss: 0.5614 - acc: 0.7095 - val_loss: 0.5479 - val_acc: 0.7130\n",
      "Epoch 17/100\n",
      "100/100 [==============================] - 22s 218ms/step - loss: 0.5560 - acc: 0.7123 - val_loss: 0.5044 - val_acc: 0.7530\n",
      "Epoch 18/100\n",
      "100/100 [==============================] - 22s 218ms/step - loss: 0.5466 - acc: 0.7175 - val_loss: 0.5593 - val_acc: 0.7050\n",
      "Epoch 19/100\n",
      "100/100 [==============================] - 22s 217ms/step - loss: 0.5482 - acc: 0.7203 - val_loss: 0.4905 - val_acc: 0.7650\n",
      "Epoch 20/100\n",
      "100/100 [==============================] - 22s 219ms/step - loss: 0.5395 - acc: 0.7243 - val_loss: 0.5293 - val_acc: 0.7300\n",
      "Epoch 21/100\n",
      "100/100 [==============================] - 22s 217ms/step - loss: 0.5341 - acc: 0.7260 - val_loss: 0.4946 - val_acc: 0.7620\n",
      "Epoch 22/100\n",
      "100/100 [==============================] - 23s 227ms/step - loss: 0.5398 - acc: 0.7218 - val_loss: 0.5225 - val_acc: 0.7400\n",
      "Epoch 23/100\n",
      "100/100 [==============================] - 23s 229ms/step - loss: 0.5314 - acc: 0.7350 - val_loss: 0.5498 - val_acc: 0.7190\n",
      "Epoch 24/100\n",
      "100/100 [==============================] - 23s 228ms/step - loss: 0.5338 - acc: 0.7243 - val_loss: 0.4794 - val_acc: 0.7520\n",
      "Epoch 25/100\n",
      "100/100 [==============================] - 23s 228ms/step - loss: 0.5286 - acc: 0.7325 - val_loss: 0.4672 - val_acc: 0.7770\n",
      "Epoch 26/100\n",
      "100/100 [==============================] - 23s 226ms/step - loss: 0.5324 - acc: 0.7338 - val_loss: 0.4774 - val_acc: 0.7590\n",
      "Epoch 27/100\n",
      "100/100 [==============================] - 23s 227ms/step - loss: 0.5316 - acc: 0.7325 - val_loss: 0.4849 - val_acc: 0.7570\n",
      "Epoch 28/100\n",
      "100/100 [==============================] - 23s 227ms/step - loss: 0.5171 - acc: 0.7455 - val_loss: 0.4890 - val_acc: 0.7580\n",
      "Epoch 29/100\n",
      "100/100 [==============================] - 23s 227ms/step - loss: 0.5153 - acc: 0.7510 - val_loss: 0.4686 - val_acc: 0.7710\n",
      "Epoch 30/100\n",
      "100/100 [==============================] - 23s 225ms/step - loss: 0.5094 - acc: 0.7435 - val_loss: 0.5113 - val_acc: 0.7370\n",
      "Epoch 31/100\n",
      "100/100 [==============================] - 23s 228ms/step - loss: 0.5088 - acc: 0.7458 - val_loss: 0.4567 - val_acc: 0.7760\n",
      "Epoch 32/100\n",
      "100/100 [==============================] - 23s 230ms/step - loss: 0.5107 - acc: 0.7458 - val_loss: 0.4782 - val_acc: 0.7590\n",
      "Epoch 33/100\n",
      "100/100 [==============================] - 23s 228ms/step - loss: 0.5152 - acc: 0.7425 - val_loss: 0.4521 - val_acc: 0.7900\n",
      "Epoch 34/100\n",
      "100/100 [==============================] - 23s 228ms/step - loss: 0.5108 - acc: 0.7435 - val_loss: 0.4878 - val_acc: 0.7650\n",
      "Epoch 35/100\n",
      "100/100 [==============================] - 23s 230ms/step - loss: 0.5139 - acc: 0.7480 - val_loss: 0.5233 - val_acc: 0.7260\n",
      "Epoch 36/100\n",
      "100/100 [==============================] - 23s 232ms/step - loss: 0.5106 - acc: 0.7438 - val_loss: 0.4684 - val_acc: 0.7650\n",
      "Epoch 37/100\n",
      "100/100 [==============================] - 23s 232ms/step - loss: 0.5037 - acc: 0.7508 - val_loss: 0.5122 - val_acc: 0.7530\n",
      "Epoch 38/100\n",
      "100/100 [==============================] - 23s 229ms/step - loss: 0.5055 - acc: 0.7480 - val_loss: 0.4554 - val_acc: 0.7890\n",
      "Epoch 39/100\n",
      "100/100 [==============================] - 23s 230ms/step - loss: 0.5025 - acc: 0.7523 - val_loss: 0.4626 - val_acc: 0.7720\n",
      "Epoch 40/100\n",
      "100/100 [==============================] - 23s 229ms/step - loss: 0.5054 - acc: 0.7465 - val_loss: 0.4659 - val_acc: 0.7710\n",
      "Epoch 41/100\n",
      "100/100 [==============================] - 23s 230ms/step - loss: 0.5018 - acc: 0.7478 - val_loss: 0.4518 - val_acc: 0.7860\n",
      "Epoch 42/100\n",
      "100/100 [==============================] - 23s 228ms/step - loss: 0.4895 - acc: 0.7620 - val_loss: 0.4504 - val_acc: 0.7890\n",
      "Epoch 43/100\n",
      "100/100 [==============================] - 23s 229ms/step - loss: 0.4897 - acc: 0.7595 - val_loss: 0.4674 - val_acc: 0.7710\n",
      "Epoch 44/100\n",
      "100/100 [==============================] - 23s 228ms/step - loss: 0.4937 - acc: 0.7633 - val_loss: 0.4421 - val_acc: 0.7870\n",
      "Epoch 45/100\n",
      "100/100 [==============================] - 23s 229ms/step - loss: 0.4984 - acc: 0.7540 - val_loss: 0.4456 - val_acc: 0.7880\n",
      "Epoch 46/100\n",
      "100/100 [==============================] - 23s 229ms/step - loss: 0.4850 - acc: 0.7613 - val_loss: 0.5101 - val_acc: 0.7500\n",
      "Epoch 47/100\n",
      "100/100 [==============================] - 23s 229ms/step - loss: 0.4850 - acc: 0.7625 - val_loss: 0.4389 - val_acc: 0.7810\n",
      "Epoch 48/100\n",
      "100/100 [==============================] - 23s 228ms/step - loss: 0.4878 - acc: 0.7648 - val_loss: 0.4467 - val_acc: 0.7860\n",
      "Epoch 49/100\n",
      "100/100 [==============================] - 23s 229ms/step - loss: 0.4838 - acc: 0.7735 - val_loss: 0.4426 - val_acc: 0.7920\n",
      "Epoch 50/100\n",
      "100/100 [==============================] - 23s 230ms/step - loss: 0.4822 - acc: 0.7660 - val_loss: 0.4885 - val_acc: 0.7580\n",
      "Epoch 51/100\n",
      "100/100 [==============================] - 23s 227ms/step - loss: 0.4795 - acc: 0.7765 - val_loss: 0.4352 - val_acc: 0.7880\n",
      "Epoch 52/100\n",
      "100/100 [==============================] - 23s 227ms/step - loss: 0.4902 - acc: 0.7623 - val_loss: 0.5010 - val_acc: 0.7620\n",
      "Epoch 53/100\n",
      "100/100 [==============================] - 23s 228ms/step - loss: 0.4812 - acc: 0.7720 - val_loss: 0.4316 - val_acc: 0.7940\n",
      "Epoch 54/100\n",
      "100/100 [==============================] - 23s 228ms/step - loss: 0.4740 - acc: 0.7723 - val_loss: 0.4880 - val_acc: 0.7540\n",
      "Epoch 55/100\n",
      "100/100 [==============================] - 23s 227ms/step - loss: 0.4697 - acc: 0.7683 - val_loss: 0.4807 - val_acc: 0.7560\n",
      "Epoch 56/100\n",
      "100/100 [==============================] - 23s 228ms/step - loss: 0.4719 - acc: 0.7713 - val_loss: 0.4656 - val_acc: 0.7910\n",
      "Epoch 57/100\n",
      "100/100 [==============================] - 23s 229ms/step - loss: 0.4772 - acc: 0.7723 - val_loss: 0.4541 - val_acc: 0.7960\n",
      "Epoch 58/100\n",
      "100/100 [==============================] - 23s 230ms/step - loss: 0.4689 - acc: 0.7780 - val_loss: 0.4916 - val_acc: 0.7500\n",
      "Epoch 59/100\n",
      "100/100 [==============================] - 23s 230ms/step - loss: 0.4703 - acc: 0.7708 - val_loss: 0.4343 - val_acc: 0.8020\n",
      "Epoch 60/100\n",
      "100/100 [==============================] - 23s 228ms/step - loss: 0.4784 - acc: 0.7700 - val_loss: 0.4193 - val_acc: 0.8060\n",
      "Epoch 61/100\n",
      "100/100 [==============================] - 23s 228ms/step - loss: 0.4697 - acc: 0.7740 - val_loss: 0.4267 - val_acc: 0.7980\n",
      "Epoch 62/100\n",
      "100/100 [==============================] - 23s 228ms/step - loss: 0.4705 - acc: 0.7803 - val_loss: 0.4188 - val_acc: 0.7980\n",
      "Epoch 63/100\n",
      "100/100 [==============================] - 23s 228ms/step - loss: 0.4599 - acc: 0.7760 - val_loss: 0.4236 - val_acc: 0.8060\n",
      "Epoch 64/100\n",
      "100/100 [==============================] - 23s 226ms/step - loss: 0.4673 - acc: 0.7798 - val_loss: 0.4603 - val_acc: 0.7920\n",
      "Epoch 65/100\n",
      "100/100 [==============================] - 23s 227ms/step - loss: 0.4652 - acc: 0.7755 - val_loss: 0.4260 - val_acc: 0.8080\n",
      "Epoch 66/100\n",
      "100/100 [==============================] - 23s 225ms/step - loss: 0.4653 - acc: 0.7760 - val_loss: 0.4422 - val_acc: 0.7980\n",
      "Epoch 67/100\n",
      "100/100 [==============================] - 23s 228ms/step - loss: 0.4629 - acc: 0.7743 - val_loss: 0.4538 - val_acc: 0.7970\n",
      "Epoch 68/100\n",
      "100/100 [==============================] - 23s 226ms/step - loss: 0.4612 - acc: 0.7818 - val_loss: 0.4283 - val_acc: 0.7980\n",
      "Epoch 69/100\n",
      "100/100 [==============================] - 22s 216ms/step - loss: 0.4534 - acc: 0.7885 - val_loss: 0.4524 - val_acc: 0.7890\n",
      "Epoch 70/100\n",
      "100/100 [==============================] - 22s 216ms/step - loss: 0.4643 - acc: 0.7733 - val_loss: 0.4446 - val_acc: 0.8080\n",
      "Epoch 71/100\n",
      "100/100 [==============================] - 22s 218ms/step - loss: 0.4610 - acc: 0.7778 - val_loss: 0.4386 - val_acc: 0.7970\n",
      "Epoch 72/100\n",
      "100/100 [==============================] - 21s 215ms/step - loss: 0.4524 - acc: 0.7868 - val_loss: 0.4347 - val_acc: 0.8110\n",
      "Epoch 73/100\n",
      "100/100 [==============================] - 22s 216ms/step - loss: 0.4447 - acc: 0.7860 - val_loss: 0.4172 - val_acc: 0.7990\n",
      "Epoch 74/100\n",
      "100/100 [==============================] - 22s 217ms/step - loss: 0.4562 - acc: 0.7758 - val_loss: 0.4210 - val_acc: 0.8080\n",
      "Epoch 75/100\n",
      "100/100 [==============================] - 22s 217ms/step - loss: 0.4526 - acc: 0.7800 - val_loss: 0.4100 - val_acc: 0.8140\n",
      "Epoch 76/100\n",
      "100/100 [==============================] - 22s 219ms/step - loss: 0.4524 - acc: 0.7875 - val_loss: 0.4308 - val_acc: 0.8190\n",
      "Epoch 77/100\n",
      "100/100 [==============================] - 22s 218ms/step - loss: 0.4552 - acc: 0.7818 - val_loss: 0.4266 - val_acc: 0.8060\n",
      "Epoch 78/100\n",
      "100/100 [==============================] - 22s 217ms/step - loss: 0.4617 - acc: 0.7815 - val_loss: 0.4449 - val_acc: 0.7960\n",
      "Epoch 79/100\n",
      "100/100 [==============================] - 22s 218ms/step - loss: 0.4459 - acc: 0.7923 - val_loss: 0.4260 - val_acc: 0.8070\n",
      "Epoch 80/100\n",
      "100/100 [==============================] - 22s 216ms/step - loss: 0.4481 - acc: 0.7878 - val_loss: 0.4429 - val_acc: 0.7950\n",
      "Epoch 81/100\n",
      "100/100 [==============================] - 22s 216ms/step - loss: 0.4487 - acc: 0.7975 - val_loss: 0.4349 - val_acc: 0.8010\n",
      "Epoch 82/100\n",
      "100/100 [==============================] - 22s 217ms/step - loss: 0.4378 - acc: 0.7903 - val_loss: 0.4099 - val_acc: 0.8130\n",
      "Epoch 83/100\n",
      "100/100 [==============================] - 22s 216ms/step - loss: 0.4441 - acc: 0.7888 - val_loss: 0.4239 - val_acc: 0.8150\n",
      "Epoch 84/100\n",
      "100/100 [==============================] - 22s 223ms/step - loss: 0.4444 - acc: 0.7945 - val_loss: 0.4993 - val_acc: 0.7670\n",
      "Epoch 85/100\n",
      "100/100 [==============================] - 22s 218ms/step - loss: 0.4478 - acc: 0.7883 - val_loss: 0.4677 - val_acc: 0.7860\n",
      "Epoch 86/100\n",
      "100/100 [==============================] - 22s 218ms/step - loss: 0.4368 - acc: 0.7983 - val_loss: 0.4220 - val_acc: 0.8110\n",
      "Epoch 87/100\n",
      "100/100 [==============================] - 22s 218ms/step - loss: 0.4381 - acc: 0.7953 - val_loss: 0.4185 - val_acc: 0.8130\n",
      "Epoch 88/100\n",
      "100/100 [==============================] - 22s 218ms/step - loss: 0.4377 - acc: 0.7920 - val_loss: 0.4740 - val_acc: 0.7940\n",
      "Epoch 89/100\n",
      "100/100 [==============================] - 22s 217ms/step - loss: 0.4417 - acc: 0.7860 - val_loss: 0.4355 - val_acc: 0.8050\n",
      "Epoch 90/100\n",
      "100/100 [==============================] - 22s 219ms/step - loss: 0.4393 - acc: 0.7933 - val_loss: 0.4329 - val_acc: 0.8060\n",
      "Epoch 91/100\n",
      "100/100 [==============================] - 22s 216ms/step - loss: 0.4363 - acc: 0.7960 - val_loss: 0.4107 - val_acc: 0.8150\n",
      "Epoch 92/100\n",
      "100/100 [==============================] - 22s 217ms/step - loss: 0.4339 - acc: 0.8020 - val_loss: 0.4044 - val_acc: 0.8210\n",
      "Epoch 93/100\n",
      "100/100 [==============================] - 22s 217ms/step - loss: 0.4311 - acc: 0.8020 - val_loss: 0.4007 - val_acc: 0.8190\n",
      "Epoch 94/100\n",
      "100/100 [==============================] - 22s 218ms/step - loss: 0.4313 - acc: 0.7985 - val_loss: 0.3782 - val_acc: 0.8320\n",
      "Epoch 95/100\n",
      "100/100 [==============================] - 22s 218ms/step - loss: 0.4418 - acc: 0.7893 - val_loss: 0.4477 - val_acc: 0.7910\n",
      "Epoch 96/100\n",
      "100/100 [==============================] - 22s 217ms/step - loss: 0.4324 - acc: 0.7938 - val_loss: 0.4099 - val_acc: 0.8190\n",
      "Epoch 97/100\n",
      "100/100 [==============================] - 22s 217ms/step - loss: 0.4276 - acc: 0.7998 - val_loss: 0.4027 - val_acc: 0.8180\n",
      "Epoch 98/100\n",
      "100/100 [==============================] - 22s 218ms/step - loss: 0.4255 - acc: 0.8005 - val_loss: 0.3943 - val_acc: 0.8280\n",
      "Epoch 99/100\n",
      "100/100 [==============================] - 22s 218ms/step - loss: 0.4291 - acc: 0.8030 - val_loss: 0.3877 - val_acc: 0.8210\n",
      "Epoch 100/100\n",
      "100/100 [==============================] - 22s 219ms/step - loss: 0.4270 - acc: 0.8048 - val_loss: 0.3909 - val_acc: 0.8270\n"
     ]
    }
   ],
   "source": [
    "epochs = 100\n",
    "\n",
    "H = model.fit_generator(train_datagen,\n",
    "                        steps_per_epoch=100, \n",
    "                        epochs=epochs,\n",
    "                        validation_data=val_datagen,\n",
    "                        validation_steps=50)"
   ]
  },
  {
   "cell_type": "code",
   "execution_count": 16,
   "metadata": {
    "_uuid": "4b0bcde2937339283b69a9ea59b9b49c9e36a956"
   },
   "outputs": [
    {
     "data": {
      "image/png": "[encoded data removed]",
      "text/plain": [
       "<matplotlib.figure.Figure at 0x2b501dbe470>"
      ]
     },
     "metadata": {},
     "output_type": "display_data"
    },
    {
     "data": {
      "image/png": "[encoded data removed]",
      "text/plain": [
       "<matplotlib.figure.Figure at 0x2b5013d2d68>"
      ]
     },
     "metadata": {},
     "output_type": "display_data"
    }
   ],
   "source": [
    "acc = H.history['acc']\n",
    "val_acc = H.history['val_acc']\n",
    "loss = H.history['loss']\n",
    "val_loss = H.history['val_loss']\n",
    "\n",
    "epochs = range(1, len(acc) + 1)\n",
    "\n",
    "plt.plot(epochs, acc, 'bo', label='Training acc')\n",
    "plt.plot(epochs, val_acc, 'g', label='Validation acc')\n",
    "plt.title('Training and validation accuracy')\n",
    "plt.legend()\n",
    "\n",
    "plt.figure()\n",
    "plt.plot(epochs, loss, 'bo', label='Training loss')\n",
    "plt.plot(epochs, val_loss, 'g', label='Validation loss')\n",
    "plt.title('Training and validation loss')\n",
    "plt.legend()\n",
    "plt.show()"
   ]
  },
  {
   "cell_type": "markdown",
   "metadata": {
    "_uuid": "435de8a2b6def2abef3a1d3e0489545bfbdcd348"
   },
   "source": [
    "References:\n",
    "\n",
    "1. [Anthony Tanbakuchi](http://tanbakuchi.com/posts/comparison-of-openv-interpolation-algorithms/ )\n",
    "\n",
    "\n",
    "\n",
    "\n",
    "\n",
    "\n",
    "\n"
   ]
  }
 ],
 "metadata": {
  "kernelspec": {
   "display_name": "Python 3",
   "language": "python",
   "name": "python3"
  },
  "language_info": {
   "codemirror_mode": {
    "name": "ipython",
    "version": 3
   },
   "file_extension": ".py",
   "mimetype": "text/x-python",
   "name": "python",
   "nbconvert_exporter": "python",
   "pygments_lexer": "ipython3",
   "version": "3.6.5"
  }
 },
 "nbformat": 4,
 "nbformat_minor": 2
}
