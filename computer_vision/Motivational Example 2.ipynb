{
 "cells": [
  {
   "cell_type": "markdown",
   "metadata": {},
   "source": [
    "# Motivational Example\n"
   ]
  },
  {
   "cell_type": "markdown",
   "metadata": {},
   "source": [
    "## Artificial Neural Networks (ANN)"
   ]
  },
  {
   "cell_type": "code",
   "execution_count": 1,
   "metadata": {},
   "outputs": [
    {
     "name": "stderr",
     "output_type": "stream",
     "text": [
      "Using TensorFlow backend.\n"
     ]
    },
    {
     "name": "stdout",
     "output_type": "stream",
     "text": [
      "2.2.0\n"
     ]
    }
   ],
   "source": [
    "import numpy as np\n",
    "import keras\n",
    "print(keras.__version__)\n",
    "from keras.utils import to_categorical"
   ]
  },
  {
   "cell_type": "code",
   "execution_count": 2,
   "metadata": {},
   "outputs": [],
   "source": [
    "from keras.datasets import mnist\n",
    "(x_train, y_train), (x_test, y_test) = mnist.load_data()\n",
    "x_train = x_train.reshape((60000, 28 * 28))\n",
    "x_train = x_train.astype('float32') / 255\n",
    "x_test = x_test.reshape((10000, 28 * 28))\n",
    "x_test = x_test.astype('float32') / 255\n",
    "\n",
    "y_train = to_categorical(y_train)\n",
    "y_test = to_categorical(y_test)\n",
    "\n",
    "x_train_dat = x_train[:50000]\n",
    "x_val = x_train[50000:]\n",
    "y_train_dat = y_train[:50000]\n",
    "y_val = y_train[50000:]"
   ]
  },
  {
   "cell_type": "code",
   "execution_count": 3,
   "metadata": {},
   "outputs": [
    {
     "name": "stdout",
     "output_type": "stream",
     "text": [
      "Train on 50000 samples, validate on 10000 samples\n",
      "Epoch 1/10\n",
      "50000/50000 [==============================] - 4s 74us/step - loss: 0.2438 - acc: 0.9280 - val_loss: 0.1240 - val_acc: 0.9644\n",
      "Epoch 2/10\n",
      "50000/50000 [==============================] - 2s 40us/step - loss: 0.0998 - acc: 0.9700 - val_loss: 0.0901 - val_acc: 0.9733\n",
      "Epoch 3/10\n",
      "50000/50000 [==============================] - 2s 38us/step - loss: 0.0665 - acc: 0.9799 - val_loss: 0.0786 - val_acc: 0.9771\n",
      "Epoch 4/10\n",
      "50000/50000 [==============================] - 2s 40us/step - loss: 0.0495 - acc: 0.9851 - val_loss: 0.0964 - val_acc: 0.9746\n",
      "Epoch 5/10\n",
      "50000/50000 [==============================] - 2s 39us/step - loss: 0.0370 - acc: 0.9887 - val_loss: 0.0783 - val_acc: 0.9798\n",
      "Epoch 6/10\n",
      "50000/50000 [==============================] - 2s 39us/step - loss: 0.0281 - acc: 0.9915 - val_loss: 0.0877 - val_acc: 0.9787\n",
      "Epoch 7/10\n",
      "50000/50000 [==============================] - 2s 39us/step - loss: 0.0220 - acc: 0.9936 - val_loss: 0.0778 - val_acc: 0.9807\n",
      "Epoch 8/10\n",
      "50000/50000 [==============================] - 2s 41us/step - loss: 0.0169 - acc: 0.9950 - val_loss: 0.0854 - val_acc: 0.9807\n",
      "Epoch 9/10\n",
      "50000/50000 [==============================] - 2s 39us/step - loss: 0.0131 - acc: 0.9963 - val_loss: 0.0892 - val_acc: 0.9803\n",
      "Epoch 10/10\n",
      "50000/50000 [==============================] - 2s 39us/step - loss: 0.0101 - acc: 0.9970 - val_loss: 0.0948 - val_acc: 0.9806\n",
      "_________________________________________________________________\n",
      "Layer (type)                 Output Shape              Param #   \n",
      "=================================================================\n",
      "dense_1 (Dense)              (None, 512)               401920    \n",
      "_________________________________________________________________\n",
      "dense_2 (Dense)              (None, 10)                5130      \n",
      "=================================================================\n",
      "Total params: 407,050\n",
      "Trainable params: 407,050\n",
      "Non-trainable params: 0\n",
      "_________________________________________________________________\n",
      "None\n",
      "10000/10000 [==============================] - 0s 24us/step\n",
      "0.9801\n"
     ]
    }
   ],
   "source": [
    "from keras import models\n",
    "from keras.layers import Dense\n",
    "ann = models.Sequential()\n",
    "ann.add(Dense(units=512,activation='relu', input_shape=(28 * 28,)))\n",
    "ann.add(Dense(units=10, activation='softmax'))\n",
    "ann.compile(optimizer='rmsprop',\n",
    "            loss='categorical_crossentropy',\n",
    "            metrics=['accuracy'])\n",
    "ann.fit(x_train_dat, y_train_dat, epochs=10,\n",
    "        batch_size=64, \n",
    "        validation_data=(x_val, y_val));\n",
    "print(ann.summary())\n",
    "test_loss, test_acc = ann.evaluate(x_test, y_test)\n",
    "print(test_acc)"
   ]
  },
  {
   "cell_type": "markdown",
   "metadata": {},
   "source": [
    "## Convolutional Neural Networks (CNN)"
   ]
  },
  {
   "cell_type": "code",
   "execution_count": 4,
   "metadata": {},
   "outputs": [],
   "source": [
    "from keras.datasets import mnist\n",
    "(x_train, y_train), (x_test, y_test) = mnist.load_data()\n",
    "(x_train, y_train), (x_test, y_test) = mnist.load_data()\n",
    "x_train = x_train.reshape((60000, 28, 28, 1))\n",
    "x_train = x_train.astype('float32') / 255\n",
    "x_test = x_test.reshape((10000, 28, 28, 1))\n",
    "x_test = x_test.astype('float32') / 255\n",
    "\n",
    "y_train = to_categorical(y_train)\n",
    "y_test = to_categorical(y_test)\n",
    "\n",
    "x_train_dat = x_train[:50000]\n",
    "x_val = x_train[50000:]\n",
    "y_train_dat = y_train[:50000]\n",
    "y_val = y_train[50000:]"
   ]
  },
  {
   "cell_type": "markdown",
   "metadata": {},
   "source": [
    "Without padding"
   ]
  },
  {
   "cell_type": "code",
   "execution_count": 5,
   "metadata": {
    "scrolled": false
   },
   "outputs": [
    {
     "name": "stdout",
     "output_type": "stream",
     "text": [
      "Train on 50000 samples, validate on 10000 samples\n",
      "Epoch 1/10\n",
      "50000/50000 [==============================] - 5s 108us/step - loss: 0.1944 - acc: 0.9395 - val_loss: 0.0654 - val_acc: 0.9801\n",
      "Epoch 2/10\n",
      "50000/50000 [==============================] - 4s 87us/step - loss: 0.0531 - acc: 0.9835 - val_loss: 0.0415 - val_acc: 0.9879\n",
      "Epoch 3/10\n",
      "50000/50000 [==============================] - 4s 88us/step - loss: 0.0360 - acc: 0.9885 - val_loss: 0.0336 - val_acc: 0.9898\n",
      "Epoch 4/10\n",
      "50000/50000 [==============================] - 4s 87us/step - loss: 0.0264 - acc: 0.9915 - val_loss: 0.0386 - val_acc: 0.9893\n",
      "Epoch 5/10\n",
      "50000/50000 [==============================] - 4s 86us/step - loss: 0.0212 - acc: 0.9934 - val_loss: 0.0371 - val_acc: 0.9899\n",
      "Epoch 6/10\n",
      "50000/50000 [==============================] - 4s 87us/step - loss: 0.0166 - acc: 0.9948 - val_loss: 0.0436 - val_acc: 0.9878\n",
      "Epoch 7/10\n",
      "50000/50000 [==============================] - 4s 87us/step - loss: 0.0128 - acc: 0.9958 - val_loss: 0.0400 - val_acc: 0.9902\n",
      "Epoch 8/10\n",
      "50000/50000 [==============================] - 4s 86us/step - loss: 0.0108 - acc: 0.9966 - val_loss: 0.0469 - val_acc: 0.9904\n",
      "Epoch 9/10\n",
      "50000/50000 [==============================] - 4s 87us/step - loss: 0.0102 - acc: 0.9967 - val_loss: 0.0435 - val_acc: 0.9910\n",
      "Epoch 10/10\n",
      "50000/50000 [==============================] - 4s 90us/step - loss: 0.0082 - acc: 0.9974 - val_loss: 0.0574 - val_acc: 0.9907\n",
      "_________________________________________________________________\n",
      "Layer (type)                 Output Shape              Param #   \n",
      "=================================================================\n",
      "conv2d_1 (Conv2D)            (None, 26, 26, 32)        320       \n",
      "_________________________________________________________________\n",
      "max_pooling2d_1 (MaxPooling2 (None, 13, 13, 32)        0         \n",
      "_________________________________________________________________\n",
      "conv2d_2 (Conv2D)            (None, 11, 11, 64)        18496     \n",
      "_________________________________________________________________\n",
      "max_pooling2d_2 (MaxPooling2 (None, 5, 5, 64)          0         \n",
      "_________________________________________________________________\n",
      "conv2d_3 (Conv2D)            (None, 3, 3, 64)          36928     \n",
      "_________________________________________________________________\n",
      "flatten_1 (Flatten)          (None, 576)               0         \n",
      "_________________________________________________________________\n",
      "dense_3 (Dense)              (None, 64)                36928     \n",
      "_________________________________________________________________\n",
      "dense_4 (Dense)              (None, 10)                650       \n",
      "=================================================================\n",
      "Total params: 93,322\n",
      "Trainable params: 93,322\n",
      "Non-trainable params: 0\n",
      "_________________________________________________________________\n",
      "None\n",
      "10000/10000 [==============================] - 1s 51us/step\n",
      "0.9916\n"
     ]
    }
   ],
   "source": [
    "from keras import models\n",
    "from keras.layers import Conv2D, MaxPooling2D, Flatten, Dense\n",
    "cnn = models.Sequential()\n",
    "cnn.add(Conv2D(32, (3, 3), activation='relu', input_shape=(28, 28, 1)))\n",
    "cnn.add(MaxPooling2D(2, 2))\n",
    "cnn.add(Conv2D(64, (3, 3), activation='relu'))\n",
    "cnn.add(MaxPooling2D(2, 2))\n",
    "cnn.add(Conv2D(64, (3, 3), activation='relu'))\n",
    "cnn.add(Flatten())\n",
    "cnn.add(Dense(64, activation='relu'))\n",
    "cnn.add(Dense(10, activation='softmax'))\n",
    "cnn.compile(optimizer='rmsprop',\n",
    "            loss='categorical_crossentropy',\n",
    "            metrics=['accuracy'])\n",
    "cnn.fit(x_train_dat, y_train_dat, epochs=10,\n",
    "        batch_size=64, \n",
    "        validation_data=(x_val, y_val));\n",
    "print(cnn.summary())\n",
    "test_loss, test_acc = cnn.evaluate(x_test, y_test)\n",
    "print(test_acc)"
   ]
  },
  {
   "cell_type": "markdown",
   "metadata": {},
   "source": [
    "***"
   ]
  },
  {
   "cell_type": "markdown",
   "metadata": {},
   "source": [
    "With padding=\"same\""
   ]
  },
  {
   "cell_type": "code",
   "execution_count": 6,
   "metadata": {},
   "outputs": [
    {
     "name": "stdout",
     "output_type": "stream",
     "text": [
      "Train on 50000 samples, validate on 10000 samples\n",
      "Epoch 1/10\n",
      "50000/50000 [==============================] - 5s 100us/step - loss: 0.1757 - acc: 0.9452 - val_loss: 0.0527 - val_acc: 0.9842\n",
      "Epoch 2/10\n",
      "50000/50000 [==============================] - 5s 91us/step - loss: 0.0464 - acc: 0.9850 - val_loss: 0.0403 - val_acc: 0.9881\n",
      "Epoch 3/10\n",
      "50000/50000 [==============================] - 5s 91us/step - loss: 0.0319 - acc: 0.9898 - val_loss: 0.0318 - val_acc: 0.9916\n",
      "Epoch 4/10\n",
      "50000/50000 [==============================] - 5s 93us/step - loss: 0.0244 - acc: 0.9925 - val_loss: 0.0372 - val_acc: 0.9894\n",
      "Epoch 5/10\n",
      "50000/50000 [==============================] - 5s 91us/step - loss: 0.0191 - acc: 0.9943 - val_loss: 0.0327 - val_acc: 0.9915\n",
      "Epoch 6/10\n",
      "50000/50000 [==============================] - 5s 91us/step - loss: 0.0139 - acc: 0.9954 - val_loss: 0.0334 - val_acc: 0.9924\n",
      "Epoch 7/10\n",
      "50000/50000 [==============================] - 5s 93us/step - loss: 0.0112 - acc: 0.9964 - val_loss: 0.0356 - val_acc: 0.9913\n",
      "Epoch 8/10\n",
      "50000/50000 [==============================] - 5s 92us/step - loss: 0.0100 - acc: 0.9970 - val_loss: 0.0397 - val_acc: 0.9921\n",
      "Epoch 9/10\n",
      "50000/50000 [==============================] - 5s 93us/step - loss: 0.0079 - acc: 0.9977 - val_loss: 0.0402 - val_acc: 0.9916\n",
      "Epoch 10/10\n",
      "50000/50000 [==============================] - 5s 90us/step - loss: 0.0066 - acc: 0.9982 - val_loss: 0.0649 - val_acc: 0.9883\n",
      "_________________________________________________________________\n",
      "Layer (type)                 Output Shape              Param #   \n",
      "=================================================================\n",
      "conv2d_4 (Conv2D)            (None, 28, 28, 32)        320       \n",
      "_________________________________________________________________\n",
      "max_pooling2d_3 (MaxPooling2 (None, 14, 14, 32)        0         \n",
      "_________________________________________________________________\n",
      "conv2d_5 (Conv2D)            (None, 12, 12, 64)        18496     \n",
      "_________________________________________________________________\n",
      "max_pooling2d_4 (MaxPooling2 (None, 6, 6, 64)          0         \n",
      "_________________________________________________________________\n",
      "conv2d_6 (Conv2D)            (None, 4, 4, 64)          36928     \n",
      "_________________________________________________________________\n",
      "flatten_2 (Flatten)          (None, 1024)              0         \n",
      "_________________________________________________________________\n",
      "dense_5 (Dense)              (None, 64)                65600     \n",
      "_________________________________________________________________\n",
      "dense_6 (Dense)              (None, 10)                650       \n",
      "=================================================================\n",
      "Total params: 121,994\n",
      "Trainable params: 121,994\n",
      "Non-trainable params: 0\n",
      "_________________________________________________________________\n",
      "None\n",
      "10000/10000 [==============================] - 1s 55us/step\n",
      "0.9901\n"
     ]
    }
   ],
   "source": [
    "from keras import models\n",
    "from keras.layers import Conv2D, MaxPooling2D, Flatten, Dense\n",
    "cnn = models.Sequential()\n",
    "cnn.add(Conv2D(32, (3, 3), padding='same', activation='relu', input_shape=(28, 28, 1)))\n",
    "cnn.add(MaxPooling2D(2, 2))\n",
    "cnn.add(Conv2D(64, (3, 3), activation='relu'))\n",
    "cnn.add(MaxPooling2D(2, 2))\n",
    "cnn.add(Conv2D(64, (3, 3), activation='relu'))\n",
    "cnn.add(Flatten())\n",
    "cnn.add(Dense(64, activation='relu'))\n",
    "cnn.add(Dense(10, activation='softmax'))\n",
    "cnn.compile(optimizer='rmsprop',\n",
    "            loss='categorical_crossentropy',\n",
    "            metrics=['accuracy'])\n",
    "cnn.fit(x_train_dat, y_train_dat, epochs=10,\n",
    "        batch_size=64, \n",
    "        validation_data=(x_val, y_val));\n",
    "print(cnn.summary())\n",
    "test_loss, test_acc = cnn.evaluate(x_test, y_test)\n",
    "print(test_acc)"
   ]
  },
  {
   "cell_type": "markdown",
   "metadata": {},
   "source": [
    "***"
   ]
  }
 ],
 "metadata": {
  "kernelspec": {
   "display_name": "Python 3",
   "language": "python",
   "name": "python3"
  },
  "language_info": {
   "codemirror_mode": {
    "name": "ipython",
    "version": 3
   },
   "file_extension": ".py",
   "mimetype": "text/x-python",
   "name": "python",
   "nbconvert_exporter": "python",
   "pygments_lexer": "ipython3",
   "version": "3.6.5"
  }
 },
 "nbformat": 4,
 "nbformat_minor": 2
}
