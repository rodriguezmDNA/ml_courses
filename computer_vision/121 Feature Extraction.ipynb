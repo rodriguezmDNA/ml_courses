{
 "cells": [
  {
   "cell_type": "markdown",
   "metadata": {
    "_uuid": "573d864dadb09a4bd57946dc7967cd5eace46b5b"
   },
   "source": [
    "# Cats and Dogs (Feature Extraction - VGG16)"
   ]
  },
  {
   "cell_type": "code",
   "execution_count": 1,
   "metadata": {
    "_cell_guid": "b1076dfc-b9ad-4769-8c92-a6c4dae69d19",
    "_uuid": "8f2839f25d086af736a60e9eeb907d3b93b6e0e5"
   },
   "outputs": [],
   "source": [
    "# This Python 3 environment comes with many helpful analytics libraries installed\n",
    "# It is defined by the kaggle/python docker image: https://github.com/kaggle/docker-python\n",
    "# For example, here's several helpful packages to load in \n",
    "\n",
    "import numpy as np # linear algebra\n",
    "import pandas as pd # data processing, CSV file I/O (e.g. pd.read_csv)\n",
    "import cv2\n",
    "import matplotlib.pyplot as plt\n",
    "plt.style.use('ggplot')\n",
    "from sklearn.model_selection import train_test_split\n",
    "\n",
    "rows = 128\n",
    "cols= 128\n",
    "\n",
    "# Input data files are available in the \"../input/\" directory.\n",
    "# For example, running this (by clicking run or pressing Shift+Enter) will list the files in the input directory\n",
    "import os, shutil\n",
    "# print(os.listdir(\"../input\"))"
   ]
  },
  {
   "cell_type": "code",
   "execution_count": 2,
   "metadata": {},
   "outputs": [],
   "source": [
    "source_data_dir = \"data/train\"\n",
    "try:\n",
    "    os.mkdir(\"data/training_set/cats\")\n",
    "    os.mkdir(\"data/training_set/dogs\")\n",
    "    os.mkdir(\"data/validation_set/cats\")\n",
    "    os.mkdir(\"data/validation_set/dogs\")\n",
    "except:\n",
    "    pass"
   ]
  },
  {
   "cell_type": "code",
   "execution_count": 3,
   "metadata": {},
   "outputs": [],
   "source": [
    "if os.listdir(\"data/training_set/cats\")==\"\":\n",
    "    # If the folder contains no pictures start copying\n",
    "    for file in [\"cat.{}.jpg\".format(i) for i in range (2000)]:\n",
    "        shutil.copyfile(os.path.join(source_data_dir, file), os.path.join(\"data/training_set/cats\", file))\n",
    "    for file in [\"dog.{}.jpg\".format(i) for i in range (2000)]:\n",
    "        shutil.copyfile(os.path.join(source_data_dir, file), os.path.join(\"data/training_set/dogs\", file))\n",
    "    for file in [\"cat.{}.jpg\".format(i) for i in range (2000, 2500)]:\n",
    "        shutil.copyfile(os.path.join(source_data_dir, file), os.path.join(\"data/validation_set/cats\", file))\n",
    "    for file in [\"dog.{}.jpg\".format(i) for i in range (2000, 2500)]:\n",
    "        shutil.copyfile(os.path.join(source_data_dir, file), os.path.join(\"data/validation_set/dogs\", file))"
   ]
  },
  {
   "cell_type": "markdown",
   "metadata": {},
   "source": [
    "# Feature Extraction"
   ]
  },
  {
   "cell_type": "code",
   "execution_count": 4,
   "metadata": {},
   "outputs": [
    {
     "name": "stderr",
     "output_type": "stream",
     "text": [
      "Using TensorFlow backend.\n"
     ]
    }
   ],
   "source": [
    "from keras.applications.vgg16 import VGG16\n",
    "\n",
    "base_model = VGG16(weights='imagenet', include_top=False, input_shape=(128, 128, 3))"
   ]
  },
  {
   "cell_type": "code",
   "execution_count": 5,
   "metadata": {},
   "outputs": [
    {
     "name": "stdout",
     "output_type": "stream",
     "text": [
      "_________________________________________________________________\n",
      "Layer (type)                 Output Shape              Param #   \n",
      "=================================================================\n",
      "input_1 (InputLayer)         (None, 128, 128, 3)       0         \n",
      "_________________________________________________________________\n",
      "block1_conv1 (Conv2D)        (None, 128, 128, 64)      1792      \n",
      "_________________________________________________________________\n",
      "block1_conv2 (Conv2D)        (None, 128, 128, 64)      36928     \n",
      "_________________________________________________________________\n",
      "block1_pool (MaxPooling2D)   (None, 64, 64, 64)        0         \n",
      "_________________________________________________________________\n",
      "block2_conv1 (Conv2D)        (None, 64, 64, 128)       73856     \n",
      "_________________________________________________________________\n",
      "block2_conv2 (Conv2D)        (None, 64, 64, 128)       147584    \n",
      "_________________________________________________________________\n",
      "block2_pool (MaxPooling2D)   (None, 32, 32, 128)       0         \n",
      "_________________________________________________________________\n",
      "block3_conv1 (Conv2D)        (None, 32, 32, 256)       295168    \n",
      "_________________________________________________________________\n",
      "block3_conv2 (Conv2D)        (None, 32, 32, 256)       590080    \n",
      "_________________________________________________________________\n",
      "block3_conv3 (Conv2D)        (None, 32, 32, 256)       590080    \n",
      "_________________________________________________________________\n",
      "block3_pool (MaxPooling2D)   (None, 16, 16, 256)       0         \n",
      "_________________________________________________________________\n",
      "block4_conv1 (Conv2D)        (None, 16, 16, 512)       1180160   \n",
      "_________________________________________________________________\n",
      "block4_conv2 (Conv2D)        (None, 16, 16, 512)       2359808   \n",
      "_________________________________________________________________\n",
      "block4_conv3 (Conv2D)        (None, 16, 16, 512)       2359808   \n",
      "_________________________________________________________________\n",
      "block4_pool (MaxPooling2D)   (None, 8, 8, 512)         0         \n",
      "_________________________________________________________________\n",
      "block5_conv1 (Conv2D)        (None, 8, 8, 512)         2359808   \n",
      "_________________________________________________________________\n",
      "block5_conv2 (Conv2D)        (None, 8, 8, 512)         2359808   \n",
      "_________________________________________________________________\n",
      "block5_conv3 (Conv2D)        (None, 8, 8, 512)         2359808   \n",
      "_________________________________________________________________\n",
      "block5_pool (MaxPooling2D)   (None, 4, 4, 512)         0         \n",
      "=================================================================\n",
      "Total params: 14,714,688\n",
      "Trainable params: 14,714,688\n",
      "Non-trainable params: 0\n",
      "_________________________________________________________________\n"
     ]
    }
   ],
   "source": [
    "base_model.summary()"
   ]
  },
  {
   "cell_type": "code",
   "execution_count": 6,
   "metadata": {},
   "outputs": [
    {
     "name": "stdout",
     "output_type": "stream",
     "text": [
      "Found 4000 images belonging to 2 classes.\n"
     ]
    }
   ],
   "source": [
    "from keras.preprocessing.image import ImageDataGenerator\n",
    "\n",
    "x_train_datagen = ImageDataGenerator(rescale=1./255,\n",
    "                                     rotation_range=40,\n",
    "                                     width_shift_range=0.2,\n",
    "                                     height_shift_range=0.2,\n",
    "                                     shear_range=0.2,\n",
    "                                     zoom_range=0.2,\n",
    "                                     horizontal_flip=True,)\n",
    "\n",
    "train_datagen = x_train_datagen.flow_from_directory(\"data/training_set\",\n",
    "                                                    target_size=(rows,cols),\n",
    "                                                    batch_size=40,\n",
    "                                                    class_mode='binary')"
   ]
  },
  {
   "cell_type": "code",
   "execution_count": 7,
   "metadata": {},
   "outputs": [],
   "source": [
    "train_sample_size = train_datagen.samples\n",
    "train_features = np.zeros(shape=(train_sample_size, 4, 4, 512))    # rows, cols, depth are based on block5_pool dim\n",
    "train_labels = np.zeros(train_sample_size)\n",
    "i = 0\n",
    "for batch_features, batch_labels in train_datagen:\n",
    "    extracted_features = base_model.predict(batch_features)\n",
    "    train_features[i * train_datagen.batch_size : (i+1) * train_datagen.batch_size] = extracted_features\n",
    "    train_labels[i * train_datagen.batch_size : (i+1) * train_datagen.batch_size] = batch_labels\n",
    "    i += 1\n",
    "    if i * train_datagen.batch_size >= train_sample_size:\n",
    "        break"
   ]
  },
  {
   "cell_type": "code",
   "execution_count": 8,
   "metadata": {},
   "outputs": [
    {
     "name": "stdout",
     "output_type": "stream",
     "text": [
      "Found 1000 images belonging to 2 classes.\n"
     ]
    }
   ],
   "source": [
    "x_val_datagen = ImageDataGenerator(rescale=1./255)\n",
    "\n",
    "val_datagen = x_val_datagen.flow_from_directory(\"data/validation_set\",\n",
    "                                                target_size=(rows,cols),\n",
    "                                                batch_size=40,\n",
    "                                                class_mode='binary')"
   ]
  },
  {
   "cell_type": "code",
   "execution_count": 9,
   "metadata": {},
   "outputs": [],
   "source": [
    "val_sample_size = val_datagen.samples\n",
    "val_features = np.zeros(shape=(val_sample_size, 4, 4, 512))    # rows, cols, depth are based on block5_pool dim\n",
    "val_labels = np.zeros(val_sample_size)\n",
    "i = 0\n",
    "for batch_features, batch_labels in val_datagen:\n",
    "    extracted_features = base_model.predict(batch_features)\n",
    "    val_features[i * val_datagen.batch_size : (i+1) * val_datagen.batch_size] = extracted_features\n",
    "    val_labels[i * val_datagen.batch_size : (i+1) * val_datagen.batch_size] = batch_labels\n",
    "    i += 1\n",
    "    if i * val_datagen.batch_size >= val_sample_size:\n",
    "        break"
   ]
  },
  {
   "cell_type": "code",
   "execution_count": 10,
   "metadata": {},
   "outputs": [],
   "source": [
    "train_features = np.reshape(train_features, (train_sample_size, 4 * 4 * 512))\n",
    "val_features = np.reshape(val_features, (val_sample_size, 4 * 4 * 512))"
   ]
  },
  {
   "cell_type": "code",
   "execution_count": 11,
   "metadata": {},
   "outputs": [],
   "source": [
    "from keras import models, optimizers\n",
    "from keras.layers import Dense, Dropout\n",
    "from keras.models import Model\n",
    "\n",
    "model = models.Sequential()\n",
    "model.add(Dense(512, activation = 'relu', input_dim = (4 * 4 * 512)))\n",
    "model.add(Dropout(0.5))\n",
    "model.add(Dense(1, activation = 'sigmoid'))"
   ]
  },
  {
   "cell_type": "code",
   "execution_count": 12,
   "metadata": {
    "_uuid": "2e632292213c8971db21fbc4f45cc273671c6eed"
   },
   "outputs": [],
   "source": [
    "from keras import optimizers\n",
    "model.compile(loss='binary_crossentropy',\n",
    "              optimizer=optimizers.rmsprop(lr=1e-4),\n",
    "              metrics=['acc'])"
   ]
  },
  {
   "cell_type": "code",
   "execution_count": 13,
   "metadata": {},
   "outputs": [
    {
     "name": "stdout",
     "output_type": "stream",
     "text": [
      "Train on 4000 samples, validate on 1000 samples\n",
      "Epoch 1/50\n",
      "4000/4000 [==============================] - 2s 431us/step - loss: 0.5712 - acc: 0.7038 - val_loss: 0.3234 - val_acc: 0.8550\n",
      "Epoch 2/50\n",
      "4000/4000 [==============================] - 1s 320us/step - loss: 0.4266 - acc: 0.8035 - val_loss: 0.4799 - val_acc: 0.7740\n",
      "Epoch 3/50\n",
      "4000/4000 [==============================] - 1s 320us/step - loss: 0.3608 - acc: 0.8353 - val_loss: 0.3404 - val_acc: 0.8540\n",
      "Epoch 4/50\n",
      "4000/4000 [==============================] - 1s 319us/step - loss: 0.3340 - acc: 0.8503 - val_loss: 0.2921 - val_acc: 0.8800\n",
      "Epoch 5/50\n",
      "4000/4000 [==============================] - 1s 322us/step - loss: 0.2958 - acc: 0.8690 - val_loss: 0.3437 - val_acc: 0.8570\n",
      "Epoch 6/50\n",
      "4000/4000 [==============================] - 1s 327us/step - loss: 0.2661 - acc: 0.8868 - val_loss: 0.3349 - val_acc: 0.8610\n",
      "Epoch 7/50\n",
      "4000/4000 [==============================] - 1s 320us/step - loss: 0.2444 - acc: 0.8975 - val_loss: 0.3055 - val_acc: 0.8810\n",
      "Epoch 8/50\n",
      "4000/4000 [==============================] - 1s 321us/step - loss: 0.2296 - acc: 0.9058 - val_loss: 0.4096 - val_acc: 0.8360\n",
      "Epoch 9/50\n",
      "4000/4000 [==============================] - 1s 325us/step - loss: 0.2085 - acc: 0.9175 - val_loss: 0.3179 - val_acc: 0.8720\n",
      "Epoch 10/50\n",
      "4000/4000 [==============================] - 1s 330us/step - loss: 0.1896 - acc: 0.9245 - val_loss: 0.3031 - val_acc: 0.8740\n",
      "Epoch 11/50\n",
      "4000/4000 [==============================] - 1s 321us/step - loss: 0.1711 - acc: 0.9353 - val_loss: 0.3238 - val_acc: 0.8730\n",
      "Epoch 12/50\n",
      "4000/4000 [==============================] - 1s 319us/step - loss: 0.1583 - acc: 0.9363 - val_loss: 0.3034 - val_acc: 0.8810\n",
      "Epoch 13/50\n",
      "4000/4000 [==============================] - 1s 323us/step - loss: 0.1387 - acc: 0.9495 - val_loss: 0.3091 - val_acc: 0.8780\n",
      "Epoch 14/50\n",
      "4000/4000 [==============================] - 1s 323us/step - loss: 0.1327 - acc: 0.9495 - val_loss: 0.3028 - val_acc: 0.8870\n",
      "Epoch 15/50\n",
      "4000/4000 [==============================] - 1s 322us/step - loss: 0.1166 - acc: 0.9578 - val_loss: 0.3178 - val_acc: 0.8820\n",
      "Epoch 16/50\n",
      "4000/4000 [==============================] - 1s 322us/step - loss: 0.1021 - acc: 0.9633 - val_loss: 0.3127 - val_acc: 0.8900\n",
      "Epoch 17/50\n",
      "4000/4000 [==============================] - 1s 322us/step - loss: 0.0981 - acc: 0.9653 - val_loss: 0.3243 - val_acc: 0.8860\n",
      "Epoch 18/50\n",
      "4000/4000 [==============================] - 1s 322us/step - loss: 0.0867 - acc: 0.9710 - val_loss: 0.3049 - val_acc: 0.8810\n",
      "Epoch 19/50\n",
      "4000/4000 [==============================] - 1s 326us/step - loss: 0.0745 - acc: 0.9793 - val_loss: 0.3512 - val_acc: 0.8760\n",
      "Epoch 20/50\n",
      "4000/4000 [==============================] - 1s 323us/step - loss: 0.0729 - acc: 0.9778 - val_loss: 0.3411 - val_acc: 0.8840\n",
      "Epoch 21/50\n",
      "4000/4000 [==============================] - 1s 324us/step - loss: 0.0626 - acc: 0.9838 - val_loss: 0.3585 - val_acc: 0.8830\n",
      "Epoch 22/50\n",
      "4000/4000 [==============================] - 1s 325us/step - loss: 0.0573 - acc: 0.9853 - val_loss: 0.3749 - val_acc: 0.8780\n",
      "Epoch 23/50\n",
      "4000/4000 [==============================] - 1s 327us/step - loss: 0.0506 - acc: 0.9870 - val_loss: 0.3717 - val_acc: 0.8820\n",
      "Epoch 24/50\n",
      "4000/4000 [==============================] - 1s 323us/step - loss: 0.0458 - acc: 0.9883 - val_loss: 0.3891 - val_acc: 0.8700\n",
      "Epoch 25/50\n",
      "4000/4000 [==============================] - 1s 330us/step - loss: 0.0397 - acc: 0.9928 - val_loss: 0.3869 - val_acc: 0.8800\n",
      "Epoch 26/50\n",
      "4000/4000 [==============================] - 1s 326us/step - loss: 0.0380 - acc: 0.9903 - val_loss: 0.3902 - val_acc: 0.8740\n",
      "Epoch 27/50\n",
      "4000/4000 [==============================] - 1s 325us/step - loss: 0.0337 - acc: 0.9920 - val_loss: 0.4258 - val_acc: 0.8710\n",
      "Epoch 28/50\n",
      "4000/4000 [==============================] - 1s 323us/step - loss: 0.0284 - acc: 0.9953 - val_loss: 0.4429 - val_acc: 0.8760\n",
      "Epoch 29/50\n",
      "4000/4000 [==============================] - 1s 325us/step - loss: 0.0245 - acc: 0.9960 - val_loss: 0.4051 - val_acc: 0.8790\n",
      "Epoch 30/50\n",
      "4000/4000 [==============================] - 1s 323us/step - loss: 0.0231 - acc: 0.9965 - val_loss: 0.5660 - val_acc: 0.8630\n",
      "Epoch 31/50\n",
      "4000/4000 [==============================] - 1s 324us/step - loss: 0.0212 - acc: 0.9948 - val_loss: 0.4454 - val_acc: 0.8760\n",
      "Epoch 32/50\n",
      "4000/4000 [==============================] - 1s 322us/step - loss: 0.0170 - acc: 0.9968 - val_loss: 0.4744 - val_acc: 0.8820\n",
      "Epoch 33/50\n",
      "4000/4000 [==============================] - 1s 322us/step - loss: 0.0158 - acc: 0.9973 - val_loss: 0.4564 - val_acc: 0.8800\n",
      "Epoch 34/50\n",
      "4000/4000 [==============================] - 1s 321us/step - loss: 0.0146 - acc: 0.9978 - val_loss: 0.4692 - val_acc: 0.8820\n",
      "Epoch 35/50\n",
      "4000/4000 [==============================] - 1s 331us/step - loss: 0.0152 - acc: 0.9975 - val_loss: 0.5062 - val_acc: 0.8810\n",
      "Epoch 36/50\n",
      "4000/4000 [==============================] - 1s 326us/step - loss: 0.0116 - acc: 0.9985 - val_loss: 0.5317 - val_acc: 0.8700\n",
      "Epoch 37/50\n",
      "4000/4000 [==============================] - 1s 320us/step - loss: 0.0125 - acc: 0.9970 - val_loss: 0.5075 - val_acc: 0.8800\n",
      "Epoch 38/50\n",
      "4000/4000 [==============================] - 1s 323us/step - loss: 0.0079 - acc: 0.9995 - val_loss: 0.5423 - val_acc: 0.8820\n",
      "Epoch 39/50\n",
      "4000/4000 [==============================] - 1s 322us/step - loss: 0.0082 - acc: 0.9983 - val_loss: 0.5630 - val_acc: 0.8770\n",
      "Epoch 40/50\n",
      "4000/4000 [==============================] - 1s 322us/step - loss: 0.0099 - acc: 0.9975 - val_loss: 0.5314 - val_acc: 0.8820\n",
      "Epoch 41/50\n",
      "4000/4000 [==============================] - 1s 323us/step - loss: 0.0052 - acc: 0.9995 - val_loss: 0.5631 - val_acc: 0.8740\n",
      "Epoch 42/50\n",
      "4000/4000 [==============================] - 1s 326us/step - loss: 0.0095 - acc: 0.9975 - val_loss: 0.5422 - val_acc: 0.8730\n",
      "Epoch 43/50\n",
      "4000/4000 [==============================] - 1s 326us/step - loss: 0.0047 - acc: 0.9998 - val_loss: 0.5453 - val_acc: 0.8770\n",
      "Epoch 44/50\n",
      "4000/4000 [==============================] - 1s 318us/step - loss: 0.0042 - acc: 0.9998 - val_loss: 0.5601 - val_acc: 0.8760\n",
      "Epoch 45/50\n",
      "4000/4000 [==============================] - 1s 324us/step - loss: 0.0038 - acc: 0.9998 - val_loss: 0.5646 - val_acc: 0.8860\n",
      "Epoch 46/50\n",
      "4000/4000 [==============================] - 1s 324us/step - loss: 0.0038 - acc: 0.9998 - val_loss: 0.6306 - val_acc: 0.8760\n",
      "Epoch 47/50\n",
      "4000/4000 [==============================] - 1s 330us/step - loss: 0.0056 - acc: 0.9985 - val_loss: 0.5818 - val_acc: 0.8810\n",
      "Epoch 48/50\n",
      "4000/4000 [==============================] - 1s 323us/step - loss: 0.0033 - acc: 1.0000 - val_loss: 0.6563 - val_acc: 0.8670\n",
      "Epoch 49/50\n",
      "4000/4000 [==============================] - 1s 326us/step - loss: 0.0038 - acc: 0.9990 - val_loss: 0.6039 - val_acc: 0.8730\n",
      "Epoch 50/50\n",
      "4000/4000 [==============================] - 1s 323us/step - loss: 0.0031 - acc: 1.0000 - val_loss: 0.6129 - val_acc: 0.8820\n"
     ]
    }
   ],
   "source": [
    "epochs = 50\n",
    "\n",
    "H = model.fit(train_features, train_labels,\n",
    "                epochs=epochs,\n",
    "                batch_size = 30,\n",
    "                validation_data=(val_features,val_labels))"
   ]
  },
  {
   "cell_type": "code",
   "execution_count": 14,
   "metadata": {
    "_uuid": "4b0bcde2937339283b69a9ea59b9b49c9e36a956"
   },
   "outputs": [
    {
     "data": {
      "image/png": "[encoded data removed]",
      "text/plain": [
       "<matplotlib.figure.Figure at 0x1caeff145c0>"
      ]
     },
     "metadata": {},
     "output_type": "display_data"
    },
    {
     "data": {
      "image/png": "[encoded data removed]",
      "text/plain": [
       "<matplotlib.figure.Figure at 0x1caf00170f0>"
      ]
     },
     "metadata": {},
     "output_type": "display_data"
    }
   ],
   "source": [
    "acc = H.history['acc']\n",
    "val_acc = H.history['val_acc']\n",
    "loss = H.history['loss']\n",
    "val_loss = H.history['val_loss']\n",
    "\n",
    "epochs = range(1, len(acc) + 1)\n",
    "\n",
    "plt.plot(epochs, acc, 'bo', label='Training acc')\n",
    "plt.plot(epochs, val_acc, 'g', label='Validation acc')\n",
    "plt.title('Training and validation accuracy')\n",
    "plt.legend()\n",
    "\n",
    "plt.figure()\n",
    "plt.plot(epochs, loss, 'bo', label='Training loss')\n",
    "plt.plot(epochs, val_loss, 'g', label='Validation loss')\n",
    "plt.title('Training and validation loss')\n",
    "plt.legend()\n",
    "plt.show()"
   ]
  },
  {
   "cell_type": "markdown",
   "metadata": {
    "_uuid": "435de8a2b6def2abef3a1d3e0489545bfbdcd348"
   },
   "source": [
    "References:\n",
    "\n",
    "1. [Anthony Tanbakuchi](http://tanbakuchi.com/posts/comparison-of-openv-interpolation-algorithms/ )\n",
    "\n",
    "\n",
    "\n",
    "\n",
    "\n",
    "\n",
    "\n"
   ]
  }
 ],
 "metadata": {
  "kernelspec": {
   "display_name": "Python 3",
   "language": "python",
   "name": "python3"
  },
  "language_info": {
   "codemirror_mode": {
    "name": "ipython",
    "version": 3
   },
   "file_extension": ".py",
   "mimetype": "text/x-python",
   "name": "python",
   "nbconvert_exporter": "python",
   "pygments_lexer": "ipython3",
   "version": "3.6.5"
  }
 },
 "nbformat": 4,
 "nbformat_minor": 2
}
