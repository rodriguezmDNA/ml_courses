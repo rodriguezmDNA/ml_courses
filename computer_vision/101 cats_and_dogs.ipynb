{
 "cells": [
  {
   "cell_type": "markdown",
   "metadata": {
    "_uuid": "573d864dadb09a4bd57946dc7967cd5eace46b5b"
   },
   "source": [
    "# Cats and Dogs"
   ]
  },
  {
   "cell_type": "code",
   "execution_count": 1,
   "metadata": {
    "_cell_guid": "b1076dfc-b9ad-4769-8c92-a6c4dae69d19",
    "_uuid": "8f2839f25d086af736a60e9eeb907d3b93b6e0e5"
   },
   "outputs": [],
   "source": [
    "# This Python 3 environment comes with many helpful analytics libraries installed\n",
    "# It is defined by the kaggle/python docker image: https://github.com/kaggle/docker-python\n",
    "# For example, here's several helpful packages to load in \n",
    "\n",
    "import numpy as np # linear algebra\n",
    "import pandas as pd # data processing, CSV file I/O (e.g. pd.read_csv)\n",
    "import cv2\n",
    "import matplotlib.pyplot as plt\n",
    "plt.style.use('ggplot')\n",
    "from sklearn.model_selection import train_test_split\n",
    "\n",
    "rows = 128\n",
    "cols= 128\n",
    "\n",
    "# Input data files are available in the \"../input/\" directory.\n",
    "# For example, running this (by clicking run or pressing Shift+Enter) will list the files in the input directory\n",
    "import os, shutil\n",
    "# print(os.listdir(\"../input\"))"
   ]
  },
  {
   "cell_type": "code",
   "execution_count": 2,
   "metadata": {},
   "outputs": [],
   "source": [
    "source_data_dir = \"data/train\"\n",
    "try:\n",
    "    os.mkdir(\"data/training_set/cats\")\n",
    "    os.mkdir(\"data/training_set/dogs\")\n",
    "    os.mkdir(\"data/validation_set/cats\")\n",
    "    os.mkdir(\"data/validation_set/dogs\")\n",
    "except:\n",
    "    pass"
   ]
  },
  {
   "cell_type": "code",
   "execution_count": 3,
   "metadata": {},
   "outputs": [],
   "source": [
    "if os.listdir(\"data/training_set/cats\")==\"\":\n",
    "    # If the folder contains no pictures start copying\n",
    "    for file in [\"cat.{}.jpg\".format(i) for i in range (2000)]:\n",
    "        shutil.copyfile(os.path.join(source_data_dir, file), os.path.join(\"data/training_set/cats\", file))\n",
    "    for file in [\"dog.{}.jpg\".format(i) for i in range (2000)]:\n",
    "        shutil.copyfile(os.path.join(source_data_dir, file), os.path.join(\"data/training_set/dogs\", file))\n",
    "    for file in [\"cat.{}.jpg\".format(i) for i in range (2000, 2500)]:\n",
    "        shutil.copyfile(os.path.join(source_data_dir, file), os.path.join(\"data/validation_set/cats\", file))\n",
    "    for file in [\"dog.{}.jpg\".format(i) for i in range (2000, 2500)]:\n",
    "        shutil.copyfile(os.path.join(source_data_dir, file), os.path.join(\"data/validation_set/dogs\", file))"
   ]
  },
  {
   "cell_type": "markdown",
   "metadata": {
    "_uuid": "35f974a2088b822ff91886dd221ce124924efacc"
   },
   "source": [
    "# Data Pre-processing"
   ]
  },
  {
   "cell_type": "code",
   "execution_count": 4,
   "metadata": {
    "_uuid": "bed2deee652a7d4815cb7f2c219fb4b75e82a24c"
   },
   "outputs": [
    {
     "name": "stderr",
     "output_type": "stream",
     "text": [
      "Using TensorFlow backend.\n"
     ]
    },
    {
     "name": "stdout",
     "output_type": "stream",
     "text": [
      "_________________________________________________________________\n",
      "Layer (type)                 Output Shape              Param #   \n",
      "=================================================================\n",
      "conv2d_1 (Conv2D)            (None, 126, 126, 32)      896       \n",
      "_________________________________________________________________\n",
      "max_pooling2d_1 (MaxPooling2 (None, 63, 63, 32)        0         \n",
      "_________________________________________________________________\n",
      "conv2d_2 (Conv2D)            (None, 61, 61, 64)        18496     \n",
      "_________________________________________________________________\n",
      "max_pooling2d_2 (MaxPooling2 (None, 30, 30, 64)        0         \n",
      "_________________________________________________________________\n",
      "conv2d_3 (Conv2D)            (None, 28, 28, 64)        36928     \n",
      "_________________________________________________________________\n",
      "max_pooling2d_3 (MaxPooling2 (None, 14, 14, 64)        0         \n",
      "_________________________________________________________________\n",
      "flatten_1 (Flatten)          (None, 12544)             0         \n",
      "_________________________________________________________________\n",
      "dense_1 (Dense)              (None, 512)               6423040   \n",
      "_________________________________________________________________\n",
      "dense_2 (Dense)              (None, 1)                 513       \n",
      "=================================================================\n",
      "Total params: 6,479,873\n",
      "Trainable params: 6,479,873\n",
      "Non-trainable params: 0\n",
      "_________________________________________________________________\n"
     ]
    }
   ],
   "source": [
    "from keras.layers import Conv2D, MaxPooling2D, Flatten, Dense\n",
    "from keras import models\n",
    "\n",
    "model = models.Sequential()\n",
    "model.add(Conv2D(32, (3,3), activation='relu', input_shape=(rows, cols, 3)))\n",
    "model.add(MaxPooling2D((2, 2)))\n",
    "\n",
    "model.add(Conv2D(64, (3,3), activation='relu'))\n",
    "model.add(MaxPooling2D((2, 2)))\n",
    "\n",
    "model.add(Conv2D(64, (3,3), activation='relu'))\n",
    "model.add(MaxPooling2D((2, 2)))\n",
    "\n",
    "model.add(Flatten())\n",
    "model.add(Dense(512, activation='relu'))\n",
    "model.add(Dense(1, activation='sigmoid'))\n",
    "model.summary()"
   ]
  },
  {
   "cell_type": "code",
   "execution_count": 5,
   "metadata": {
    "_uuid": "2e632292213c8971db21fbc4f45cc273671c6eed"
   },
   "outputs": [],
   "source": [
    "from keras import optimizers\n",
    "model.compile(loss='binary_crossentropy',\n",
    "              optimizer=optimizers.rmsprop(lr=1e-4),\n",
    "              metrics=['acc'])"
   ]
  },
  {
   "cell_type": "code",
   "execution_count": 6,
   "metadata": {
    "_uuid": "5ac36be02bb78e97e34d3b1e06a08b2f8bd32808"
   },
   "outputs": [
    {
     "name": "stdout",
     "output_type": "stream",
     "text": [
      "Found 4000 images belonging to 2 classes.\n",
      "Found 1000 images belonging to 2 classes.\n"
     ]
    }
   ],
   "source": [
    "from keras.preprocessing.image import ImageDataGenerator\n",
    "\n",
    "x_train_datagen = ImageDataGenerator(rescale=1./255)\n",
    "x_val_datagen = ImageDataGenerator(rescale=1./255)\n",
    "\n",
    "train_datagen = x_train_datagen.flow_from_directory(\"data/training_set\",\n",
    "                                                    target_size=(rows,cols),\n",
    "                                                    batch_size=40,\n",
    "                                                    class_mode='binary')\n",
    "val_datagen = x_val_datagen.flow_from_directory(\"data/validation_set\",\n",
    "                                                target_size=(rows,cols),\n",
    "                                                batch_size=40,\n",
    "                                                class_mode='binary')"
   ]
  },
  {
   "cell_type": "code",
   "execution_count": 7,
   "metadata": {
    "_uuid": "96dae75d7622f6bd5871e72a6c6635e48312596b",
    "scrolled": false
   },
   "outputs": [
    {
     "name": "stdout",
     "output_type": "stream",
     "text": [
      "Epoch 1/30\n",
      "100/100 [==============================] - 103s 1s/step - loss: 0.6826 - acc: 0.5597 - val_loss: 0.6358 - val_acc: 0.6820\n",
      "Epoch 2/30\n",
      "100/100 [==============================] - 101s 1s/step - loss: 0.6249 - acc: 0.6472 - val_loss: 0.6641 - val_acc: 0.5750\n",
      "Epoch 3/30\n",
      "100/100 [==============================] - 100s 1s/step - loss: 0.5768 - acc: 0.7008 - val_loss: 0.6332 - val_acc: 0.6220\n",
      "Epoch 4/30\n",
      "100/100 [==============================] - 97s 975ms/step - loss: 0.5419 - acc: 0.7357 - val_loss: 0.5772 - val_acc: 0.6800\n",
      "Epoch 5/30\n",
      "100/100 [==============================] - 97s 971ms/step - loss: 0.5094 - acc: 0.7530 - val_loss: 0.5206 - val_acc: 0.7370\n",
      "Epoch 6/30\n",
      "100/100 [==============================] - 95s 953ms/step - loss: 0.4804 - acc: 0.7700 - val_loss: 0.5301 - val_acc: 0.7340\n",
      "Epoch 7/30\n",
      "100/100 [==============================] - 95s 954ms/step - loss: 0.4611 - acc: 0.7845 - val_loss: 0.5602 - val_acc: 0.7080\n",
      "Epoch 8/30\n",
      "100/100 [==============================] - 96s 956ms/step - loss: 0.4352 - acc: 0.8010 - val_loss: 0.4968 - val_acc: 0.7620\n",
      "Epoch 9/30\n",
      "100/100 [==============================] - 95s 954ms/step - loss: 0.4119 - acc: 0.8073 - val_loss: 0.5388 - val_acc: 0.7210\n",
      "Epoch 10/30\n",
      "100/100 [==============================] - 99s 991ms/step - loss: 0.3860 - acc: 0.8335 - val_loss: 0.5238 - val_acc: 0.7340\n",
      "Epoch 11/30\n",
      "100/100 [==============================] - 96s 961ms/step - loss: 0.3698 - acc: 0.8375 - val_loss: 0.5798 - val_acc: 0.7090\n",
      "Epoch 12/30\n",
      "100/100 [==============================] - 96s 964ms/step - loss: 0.3394 - acc: 0.8548 - val_loss: 0.5537 - val_acc: 0.7190\n",
      "Epoch 13/30\n",
      "100/100 [==============================] - 96s 959ms/step - loss: 0.3260 - acc: 0.8613 - val_loss: 0.4984 - val_acc: 0.7640\n",
      "Epoch 14/30\n",
      "100/100 [==============================] - 96s 959ms/step - loss: 0.3013 - acc: 0.8755 - val_loss: 0.5257 - val_acc: 0.7470\n",
      "Epoch 15/30\n",
      "100/100 [==============================] - 96s 963ms/step - loss: 0.2809 - acc: 0.8873 - val_loss: 0.6070 - val_acc: 0.7270\n",
      "Epoch 16/30\n",
      "100/100 [==============================] - 98s 981ms/step - loss: 0.2646 - acc: 0.8955 - val_loss: 0.5145 - val_acc: 0.7720\n",
      "Epoch 17/30\n",
      "100/100 [==============================] - 96s 964ms/step - loss: 0.2484 - acc: 0.9055 - val_loss: 0.5179 - val_acc: 0.7610\n",
      "Epoch 18/30\n",
      "100/100 [==============================] - 96s 959ms/step - loss: 0.2264 - acc: 0.9120 - val_loss: 0.5690 - val_acc: 0.7470\n",
      "Epoch 19/30\n",
      "100/100 [==============================] - 98s 977ms/step - loss: 0.2112 - acc: 0.9175 - val_loss: 0.5622 - val_acc: 0.7440\n",
      "Epoch 20/30\n",
      "100/100 [==============================] - 97s 966ms/step - loss: 0.1899 - acc: 0.9333 - val_loss: 0.5608 - val_acc: 0.7580\n",
      "Epoch 21/30\n",
      "100/100 [==============================] - 97s 966ms/step - loss: 0.1759 - acc: 0.9368 - val_loss: 0.6454 - val_acc: 0.7290\n",
      "Epoch 22/30\n",
      "100/100 [==============================] - 98s 982ms/step - loss: 0.1621 - acc: 0.9458 - val_loss: 0.5773 - val_acc: 0.7640\n",
      "Epoch 23/30\n",
      "100/100 [==============================] - 98s 982ms/step - loss: 0.1432 - acc: 0.9553 - val_loss: 0.6042 - val_acc: 0.7570\n",
      "Epoch 24/30\n",
      "100/100 [==============================] - 96s 962ms/step - loss: 0.1242 - acc: 0.9640 - val_loss: 0.6058 - val_acc: 0.7620\n",
      "Epoch 25/30\n",
      "100/100 [==============================] - 96s 964ms/step - loss: 0.1229 - acc: 0.9618 - val_loss: 0.6076 - val_acc: 0.7550\n",
      "Epoch 26/30\n",
      "100/100 [==============================] - 97s 972ms/step - loss: 0.1056 - acc: 0.9710 - val_loss: 0.6915 - val_acc: 0.7370\n",
      "Epoch 27/30\n",
      "100/100 [==============================] - 97s 971ms/step - loss: 0.0951 - acc: 0.9745 - val_loss: 0.6704 - val_acc: 0.7530\n",
      "Epoch 28/30\n",
      "100/100 [==============================] - 97s 966ms/step - loss: 0.0774 - acc: 0.9813 - val_loss: 0.6866 - val_acc: 0.7520\n",
      "Epoch 29/30\n",
      "100/100 [==============================] - 101s 1s/step - loss: 0.0733 - acc: 0.9803 - val_loss: 0.7459 - val_acc: 0.7430\n",
      "Epoch 30/30\n",
      "100/100 [==============================] - 97s 972ms/step - loss: 0.0675 - acc: 0.9815 - val_loss: 0.7662 - val_acc: 0.7330\n"
     ]
    }
   ],
   "source": [
    "epochs = 30\n",
    "\n",
    "# steps_per_epoch = samples / batch_size\n",
    "\n",
    "H = model.fit_generator(train_datagen,\n",
    "                        steps_per_epoch=100, \n",
    "                        epochs=epochs,\n",
    "                        validation_data=val_datagen)"
   ]
  },
  {
   "cell_type": "code",
   "execution_count": 8,
   "metadata": {
    "_uuid": "4b0bcde2937339283b69a9ea59b9b49c9e36a956"
   },
   "outputs": [
    {
     "data": {
      "image/png": "[encoded data removed]",
      "text/plain": [
       "<Figure size 432x288 with 1 Axes>"
      ]
     },
     "metadata": {},
     "output_type": "display_data"
    },
    {
     "data": {
      "image/png": "[encoded data removed]",
      "text/plain": [
       "<Figure size 432x288 with 1 Axes>"
      ]
     },
     "metadata": {},
     "output_type": "display_data"
    }
   ],
   "source": [
    "acc = H.history['acc']\n",
    "val_acc = H.history['val_acc']\n",
    "loss = H.history['loss']\n",
    "val_loss = H.history['val_loss']\n",
    "\n",
    "epochs = range(1, len(acc) + 1)\n",
    "\n",
    "plt.plot(epochs, acc, 'bo', label='Training acc')\n",
    "plt.plot(epochs, val_acc, 'g', label='Validation acc')\n",
    "plt.title('Training and validation accuracy')\n",
    "plt.legend()\n",
    "\n",
    "plt.figure()\n",
    "plt.plot(epochs, loss, 'bo', label='Training loss')\n",
    "plt.plot(epochs, val_loss, 'g', label='Validation loss')\n",
    "plt.title('Training and validation loss')\n",
    "plt.legend()\n",
    "plt.show()"
   ]
  },
  {
   "cell_type": "code",
   "execution_count": 9,
   "metadata": {},
   "outputs": [],
   "source": [
    "model.save('cats_and_dogs.h5')  # creates a HDF5 file"
   ]
  },
  {
   "cell_type": "markdown",
   "metadata": {
    "_uuid": "435de8a2b6def2abef3a1d3e0489545bfbdcd348"
   },
   "source": [
    "References:\n",
    "\n",
    "1. [Anthony Tanbakuchi](http://tanbakuchi.com/posts/comparison-of-openv-interpolation-algorithms/ )\n",
    "\n",
    "2. https://elitedatascience.com/keras-tutorial-deep-learning-in-python\n",
    "\n",
    "3. https://keras.io/applications/\n",
    "\n",
    "\n",
    "\n",
    "\n",
    "\n"
   ]
  }
 ],
 "metadata": {
  "kernelspec": {
   "display_name": "Python 3",
   "language": "python",
   "name": "python3"
  },
  "language_info": {
   "codemirror_mode": {
    "name": "ipython",
    "version": 3
   },
   "file_extension": ".py",
   "mimetype": "text/x-python",
   "name": "python",
   "nbconvert_exporter": "python",
   "pygments_lexer": "ipython3",
   "version": "3.6.5"
  }
 },
 "nbformat": 4,
 "nbformat_minor": 2
}
