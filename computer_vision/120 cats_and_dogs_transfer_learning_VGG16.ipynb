{
 "cells": [
  {
   "cell_type": "markdown",
   "metadata": {
    "_uuid": "573d864dadb09a4bd57946dc7967cd5eace46b5b"
   },
   "source": [
    "# Cats and Dogs (Transfer Learning - VGG16)"
   ]
  },
  {
   "cell_type": "code",
   "execution_count": 1,
   "metadata": {
    "_cell_guid": "b1076dfc-b9ad-4769-8c92-a6c4dae69d19",
    "_uuid": "8f2839f25d086af736a60e9eeb907d3b93b6e0e5"
   },
   "outputs": [],
   "source": [
    "# This Python 3 environment comes with many helpful analytics libraries installed\n",
    "# It is defined by the kaggle/python docker image: https://github.com/kaggle/docker-python\n",
    "# For example, here's several helpful packages to load in \n",
    "\n",
    "import numpy as np # linear algebra\n",
    "import pandas as pd # data processing, CSV file I/O (e.g. pd.read_csv)\n",
    "import cv2\n",
    "import matplotlib.pyplot as plt\n",
    "plt.style.use('ggplot')\n",
    "from sklearn.model_selection import train_test_split\n",
    "\n",
    "rows = 128\n",
    "cols= 128\n",
    "\n",
    "# Input data files are available in the \"../input/\" directory.\n",
    "# For example, running this (by clicking run or pressing Shift+Enter) will list the files in the input directory\n",
    "import os, shutil\n",
    "# print(os.listdir(\"../input\"))"
   ]
  },
  {
   "cell_type": "code",
   "execution_count": 2,
   "metadata": {},
   "outputs": [],
   "source": [
    "source_data_dir = \"data/train\"\n",
    "try:\n",
    "    os.mkdir(\"data/training_set/cats\")\n",
    "    os.mkdir(\"data/training_set/dogs\")\n",
    "    os.mkdir(\"data/validation_set/cats\")\n",
    "    os.mkdir(\"data/validation_set/dogs\")\n",
    "except:\n",
    "    pass"
   ]
  },
  {
   "cell_type": "code",
   "execution_count": 3,
   "metadata": {},
   "outputs": [],
   "source": [
    "if os.listdir(\"data/training_set/cats\")==\"\":\n",
    "    # If the folder contains no pictures start copying\n",
    "    for file in [\"cat.{}.jpg\".format(i) for i in range (2000)]:\n",
    "        shutil.copyfile(os.path.join(source_data_dir, file), os.path.join(\"data/training_set/cats\", file))\n",
    "    for file in [\"dog.{}.jpg\".format(i) for i in range (2000)]:\n",
    "        shutil.copyfile(os.path.join(source_data_dir, file), os.path.join(\"data/training_set/dogs\", file))\n",
    "    for file in [\"cat.{}.jpg\".format(i) for i in range (2000, 2500)]:\n",
    "        shutil.copyfile(os.path.join(source_data_dir, file), os.path.join(\"data/validation_set/cats\", file))\n",
    "    for file in [\"dog.{}.jpg\".format(i) for i in range (2000, 2500)]:\n",
    "        shutil.copyfile(os.path.join(source_data_dir, file), os.path.join(\"data/validation_set/dogs\", file))"
   ]
  },
  {
   "cell_type": "markdown",
   "metadata": {
    "_uuid": "35f974a2088b822ff91886dd221ce124924efacc"
   },
   "source": [
    "# Data Pre-processing"
   ]
  },
  {
   "cell_type": "code",
   "execution_count": 4,
   "metadata": {},
   "outputs": [
    {
     "name": "stderr",
     "output_type": "stream",
     "text": [
      "Using TensorFlow backend.\n"
     ]
    }
   ],
   "source": [
    "from keras.applications import VGG16"
   ]
  },
  {
   "cell_type": "code",
   "execution_count": 5,
   "metadata": {},
   "outputs": [
    {
     "name": "stdout",
     "output_type": "stream",
     "text": [
      "_________________________________________________________________\n",
      "Layer (type)                 Output Shape              Param #   \n",
      "=================================================================\n",
      "input_1 (InputLayer)         (None, 224, 224, 3)       0         \n",
      "_________________________________________________________________\n",
      "block1_conv1 (Conv2D)        (None, 224, 224, 64)      1792      \n",
      "_________________________________________________________________\n",
      "block1_conv2 (Conv2D)        (None, 224, 224, 64)      36928     \n",
      "_________________________________________________________________\n",
      "block1_pool (MaxPooling2D)   (None, 112, 112, 64)      0         \n",
      "_________________________________________________________________\n",
      "block2_conv1 (Conv2D)        (None, 112, 112, 128)     73856     \n",
      "_________________________________________________________________\n",
      "block2_conv2 (Conv2D)        (None, 112, 112, 128)     147584    \n",
      "_________________________________________________________________\n",
      "block2_pool (MaxPooling2D)   (None, 56, 56, 128)       0         \n",
      "_________________________________________________________________\n",
      "block3_conv1 (Conv2D)        (None, 56, 56, 256)       295168    \n",
      "_________________________________________________________________\n",
      "block3_conv2 (Conv2D)        (None, 56, 56, 256)       590080    \n",
      "_________________________________________________________________\n",
      "block3_conv3 (Conv2D)        (None, 56, 56, 256)       590080    \n",
      "_________________________________________________________________\n",
      "block3_pool (MaxPooling2D)   (None, 28, 28, 256)       0         \n",
      "_________________________________________________________________\n",
      "block4_conv1 (Conv2D)        (None, 28, 28, 512)       1180160   \n",
      "_________________________________________________________________\n",
      "block4_conv2 (Conv2D)        (None, 28, 28, 512)       2359808   \n",
      "_________________________________________________________________\n",
      "block4_conv3 (Conv2D)        (None, 28, 28, 512)       2359808   \n",
      "_________________________________________________________________\n",
      "block4_pool (MaxPooling2D)   (None, 14, 14, 512)       0         \n",
      "_________________________________________________________________\n",
      "block5_conv1 (Conv2D)        (None, 14, 14, 512)       2359808   \n",
      "_________________________________________________________________\n",
      "block5_conv2 (Conv2D)        (None, 14, 14, 512)       2359808   \n",
      "_________________________________________________________________\n",
      "block5_conv3 (Conv2D)        (None, 14, 14, 512)       2359808   \n",
      "_________________________________________________________________\n",
      "block5_pool (MaxPooling2D)   (None, 7, 7, 512)         0         \n",
      "_________________________________________________________________\n",
      "flatten (Flatten)            (None, 25088)             0         \n",
      "_________________________________________________________________\n",
      "fc1 (Dense)                  (None, 4096)              102764544 \n",
      "_________________________________________________________________\n",
      "fc2 (Dense)                  (None, 4096)              16781312  \n",
      "_________________________________________________________________\n",
      "predictions (Dense)          (None, 1000)              4097000   \n",
      "=================================================================\n",
      "Total params: 138,357,544\n",
      "Trainable params: 138,357,544\n",
      "Non-trainable params: 0\n",
      "_________________________________________________________________\n"
     ]
    }
   ],
   "source": [
    "model = VGG16()\n",
    "model.summary()"
   ]
  },
  {
   "cell_type": "code",
   "execution_count": 6,
   "metadata": {},
   "outputs": [
    {
     "name": "stdout",
     "output_type": "stream",
     "text": [
      "_________________________________________________________________\n",
      "Layer (type)                 Output Shape              Param #   \n",
      "=================================================================\n",
      "input_2 (InputLayer)         (None, None, None, 3)     0         \n",
      "_________________________________________________________________\n",
      "block1_conv1 (Conv2D)        (None, None, None, 64)    1792      \n",
      "_________________________________________________________________\n",
      "block1_conv2 (Conv2D)        (None, None, None, 64)    36928     \n",
      "_________________________________________________________________\n",
      "block1_pool (MaxPooling2D)   (None, None, None, 64)    0         \n",
      "_________________________________________________________________\n",
      "block2_conv1 (Conv2D)        (None, None, None, 128)   73856     \n",
      "_________________________________________________________________\n",
      "block2_conv2 (Conv2D)        (None, None, None, 128)   147584    \n",
      "_________________________________________________________________\n",
      "block2_pool (MaxPooling2D)   (None, None, None, 128)   0         \n",
      "_________________________________________________________________\n",
      "block3_conv1 (Conv2D)        (None, None, None, 256)   295168    \n",
      "_________________________________________________________________\n",
      "block3_conv2 (Conv2D)        (None, None, None, 256)   590080    \n",
      "_________________________________________________________________\n",
      "block3_conv3 (Conv2D)        (None, None, None, 256)   590080    \n",
      "_________________________________________________________________\n",
      "block3_pool (MaxPooling2D)   (None, None, None, 256)   0         \n",
      "_________________________________________________________________\n",
      "block4_conv1 (Conv2D)        (None, None, None, 512)   1180160   \n",
      "_________________________________________________________________\n",
      "block4_conv2 (Conv2D)        (None, None, None, 512)   2359808   \n",
      "_________________________________________________________________\n",
      "block4_conv3 (Conv2D)        (None, None, None, 512)   2359808   \n",
      "_________________________________________________________________\n",
      "block4_pool (MaxPooling2D)   (None, None, None, 512)   0         \n",
      "_________________________________________________________________\n",
      "block5_conv1 (Conv2D)        (None, None, None, 512)   2359808   \n",
      "_________________________________________________________________\n",
      "block5_conv2 (Conv2D)        (None, None, None, 512)   2359808   \n",
      "_________________________________________________________________\n",
      "block5_conv3 (Conv2D)        (None, None, None, 512)   2359808   \n",
      "_________________________________________________________________\n",
      "block5_pool (MaxPooling2D)   (None, None, None, 512)   0         \n",
      "=================================================================\n",
      "Total params: 14,714,688\n",
      "Trainable params: 14,714,688\n",
      "Non-trainable params: 0\n",
      "_________________________________________________________________\n"
     ]
    }
   ],
   "source": [
    "model = VGG16(include_top=False)\n",
    "model.summary()"
   ]
  },
  {
   "cell_type": "code",
   "execution_count": 8,
   "metadata": {},
   "outputs": [],
   "source": [
    "from keras.applications.vgg16 import VGG16\n",
    "from keras.layers import Conv2D, MaxPooling2D, GlobalAveragePooling2D, Flatten, Dense, Dropout\n",
    "from keras.models import Model\n",
    "\n",
    "base_model = VGG16(weights='imagenet', include_top=False, input_shape=(128, 128, 3))\n",
    "\n",
    "x = base_model.output\n",
    "x = GlobalAveragePooling2D()(x)\n",
    "x = Dense(512, activation='relu')(x)\n",
    "predictions = Dense(1, activation='sigmoid')(x)\n",
    "\n",
    "model = Model(inputs=base_model.input, outputs=predictions)\n",
    "\n",
    "for layer in base_model.layers:\n",
    "    layer.train = False"
   ]
  },
  {
   "cell_type": "code",
   "execution_count": 9,
   "metadata": {
    "_uuid": "2e632292213c8971db21fbc4f45cc273671c6eed"
   },
   "outputs": [],
   "source": [
    "from keras import optimizers\n",
    "model.compile(loss='binary_crossentropy',\n",
    "              optimizer=optimizers.rmsprop(lr=1e-4),\n",
    "              metrics=['acc'])"
   ]
  },
  {
   "cell_type": "code",
   "execution_count": 10,
   "metadata": {},
   "outputs": [
    {
     "name": "stdout",
     "output_type": "stream",
     "text": [
      "Found 4000 images belonging to 2 classes.\n",
      "Found 1000 images belonging to 2 classes.\n"
     ]
    }
   ],
   "source": [
    "from keras.preprocessing.image import ImageDataGenerator\n",
    "\n",
    "x_train_datagen = ImageDataGenerator(rescale=1./255)\n",
    "x_val_datagen = ImageDataGenerator(rescale=1./255)\n",
    "\n",
    "train_datagen = x_train_datagen.flow_from_directory(\"data/training_set\",\n",
    "                                                    target_size=(rows,cols),\n",
    "                                                    batch_size=40,\n",
    "                                                    class_mode='binary')\n",
    "val_datagen = x_val_datagen.flow_from_directory(\"data/validation_set\",\n",
    "                                                target_size=(rows,cols),\n",
    "                                                batch_size=40,\n",
    "                                                class_mode='binary')\n",
    "\n"
   ]
  },
  {
   "cell_type": "code",
   "execution_count": 11,
   "metadata": {},
   "outputs": [
    {
     "name": "stdout",
     "output_type": "stream",
     "text": [
      "Epoch 1/50\n",
      "100/100 [==============================] - 48s 485ms/step - loss: 0.6824 - acc: 0.5783 - val_loss: 0.5920 - val_acc: 0.7400\n",
      "Epoch 2/50\n",
      "100/100 [==============================] - 45s 452ms/step - loss: 0.5309 - acc: 0.7363 - val_loss: 0.5556 - val_acc: 0.6710\n",
      "Epoch 3/50\n",
      "100/100 [==============================] - 47s 469ms/step - loss: 0.3372 - acc: 0.8535 - val_loss: 0.1832 - val_acc: 0.9270\n",
      "Epoch 4/50\n",
      "100/100 [==============================] - 48s 479ms/step - loss: 0.2556 - acc: 0.8920 - val_loss: 0.1891 - val_acc: 0.9310\n",
      "Epoch 5/50\n",
      "100/100 [==============================] - 49s 486ms/step - loss: 0.1934 - acc: 0.9260 - val_loss: 0.1758 - val_acc: 0.9310\n",
      "Epoch 6/50\n",
      "100/100 [==============================] - 49s 485ms/step - loss: 0.1451 - acc: 0.9437 - val_loss: 0.1770 - val_acc: 0.9460\n",
      "Epoch 7/50\n",
      "100/100 [==============================] - 49s 485ms/step - loss: 0.1315 - acc: 0.9527 - val_loss: 0.1403 - val_acc: 0.9530\n",
      "Epoch 8/50\n",
      "100/100 [==============================] - 49s 486ms/step - loss: 0.0974 - acc: 0.9652 - val_loss: 0.1913 - val_acc: 0.9330\n",
      "Epoch 9/50\n",
      "100/100 [==============================] - 49s 486ms/step - loss: 0.0891 - acc: 0.9655 - val_loss: 0.2282 - val_acc: 0.9390\n",
      "Epoch 10/50\n",
      "100/100 [==============================] - 49s 485ms/step - loss: 0.1068 - acc: 0.9707 - val_loss: 0.1933 - val_acc: 0.9430\n",
      "Epoch 11/50\n",
      "100/100 [==============================] - 49s 486ms/step - loss: 0.0537 - acc: 0.9825 - val_loss: 0.2357 - val_acc: 0.9550\n",
      "Epoch 12/50\n",
      "100/100 [==============================] - 48s 483ms/step - loss: 0.0564 - acc: 0.9830 - val_loss: 0.2421 - val_acc: 0.9510\n",
      "Epoch 13/50\n",
      "100/100 [==============================] - 48s 483ms/step - loss: 0.1049 - acc: 0.9812 - val_loss: 0.3081 - val_acc: 0.9220\n",
      "Epoch 14/50\n",
      "100/100 [==============================] - 48s 484ms/step - loss: 0.0644 - acc: 0.9793 - val_loss: 0.8821 - val_acc: 0.8490\n",
      "Epoch 15/50\n",
      "100/100 [==============================] - 48s 484ms/step - loss: 0.0756 - acc: 0.9800 - val_loss: 0.2845 - val_acc: 0.9430\n",
      "Epoch 16/50\n",
      "100/100 [==============================] - 49s 492ms/step - loss: 0.0597 - acc: 0.9840 - val_loss: 0.2277 - val_acc: 0.9510\n",
      "Epoch 17/50\n",
      "100/100 [==============================] - 49s 487ms/step - loss: 0.0296 - acc: 0.9912 - val_loss: 0.3730 - val_acc: 0.9550\n",
      "Epoch 18/50\n",
      "100/100 [==============================] - 49s 490ms/step - loss: 0.0367 - acc: 0.9880 - val_loss: 0.2552 - val_acc: 0.9630\n",
      "Epoch 19/50\n",
      "100/100 [==============================] - 48s 485ms/step - loss: 0.1575 - acc: 0.9780 - val_loss: 0.3467 - val_acc: 0.9440\n",
      "Epoch 20/50\n",
      "100/100 [==============================] - 48s 484ms/step - loss: 0.0521 - acc: 0.9885 - val_loss: 0.2566 - val_acc: 0.9560\n",
      "Epoch 21/50\n",
      "100/100 [==============================] - 48s 483ms/step - loss: 0.0822 - acc: 0.9845 - val_loss: 0.2449 - val_acc: 0.9400\n",
      "Epoch 22/50\n",
      "100/100 [==============================] - 48s 484ms/step - loss: 0.0351 - acc: 0.9892 - val_loss: 0.3568 - val_acc: 0.9440\n",
      "Epoch 23/50\n",
      "100/100 [==============================] - 48s 485ms/step - loss: 0.1036 - acc: 0.9813 - val_loss: 0.4884 - val_acc: 0.9080\n",
      "Epoch 24/50\n",
      "100/100 [==============================] - 48s 479ms/step - loss: 0.0504 - acc: 0.9875 - val_loss: 0.3126 - val_acc: 0.9450\n",
      "Epoch 25/50\n",
      "100/100 [==============================] - 48s 481ms/step - loss: 0.0725 - acc: 0.9895 - val_loss: 0.2833 - val_acc: 0.9340\n",
      "Epoch 26/50\n",
      "100/100 [==============================] - 48s 482ms/step - loss: 0.0645 - acc: 0.9887 - val_loss: 0.3046 - val_acc: 0.9450\n",
      "Epoch 27/50\n",
      "100/100 [==============================] - 48s 479ms/step - loss: 0.0749 - acc: 0.9885 - val_loss: 0.3302 - val_acc: 0.9520\n",
      "Epoch 28/50\n",
      "100/100 [==============================] - 48s 480ms/step - loss: 0.1263 - acc: 0.9860 - val_loss: 0.5727 - val_acc: 0.9200\n",
      "Epoch 29/50\n",
      "100/100 [==============================] - 48s 481ms/step - loss: 0.0563 - acc: 0.9875 - val_loss: 0.2551 - val_acc: 0.9390\n",
      "Epoch 30/50\n",
      "100/100 [==============================] - 48s 483ms/step - loss: 0.0589 - acc: 0.9897 - val_loss: 0.2561 - val_acc: 0.9480\n",
      "Epoch 31/50\n",
      "100/100 [==============================] - 48s 479ms/step - loss: 0.0409 - acc: 0.9892 - val_loss: 0.2663 - val_acc: 0.9430\n",
      "Epoch 32/50\n",
      "100/100 [==============================] - 48s 478ms/step - loss: 0.0433 - acc: 0.9927 - val_loss: 0.3611 - val_acc: 0.9430\n",
      "Epoch 33/50\n",
      "100/100 [==============================] - 48s 479ms/step - loss: 0.0431 - acc: 0.9925 - val_loss: 0.3204 - val_acc: 0.9450\n",
      "Epoch 34/50\n",
      "100/100 [==============================] - 48s 481ms/step - loss: 0.0635 - acc: 0.9907 - val_loss: 0.8265 - val_acc: 0.9170\n",
      "Epoch 35/50\n",
      "100/100 [==============================] - 48s 482ms/step - loss: 0.0339 - acc: 0.9935 - val_loss: 0.4121 - val_acc: 0.9430\n",
      "Epoch 36/50\n",
      "100/100 [==============================] - 48s 481ms/step - loss: 0.0612 - acc: 0.9892 - val_loss: 0.5921 - val_acc: 0.9430\n",
      "Epoch 37/50\n",
      "100/100 [==============================] - 48s 480ms/step - loss: 0.0581 - acc: 0.9875 - val_loss: 0.3809 - val_acc: 0.9260\n",
      "Epoch 38/50\n",
      "100/100 [==============================] - 48s 481ms/step - loss: 0.0796 - acc: 0.9912 - val_loss: 0.6134 - val_acc: 0.8750\n",
      "Epoch 39/50\n",
      "100/100 [==============================] - 48s 477ms/step - loss: 0.0668 - acc: 0.9910 - val_loss: 0.3836 - val_acc: 0.9560\n",
      "Epoch 40/50\n",
      "100/100 [==============================] - 48s 478ms/step - loss: 0.0544 - acc: 0.9905 - val_loss: 0.2519 - val_acc: 0.9410\n",
      "Epoch 41/50\n",
      "100/100 [==============================] - 48s 478ms/step - loss: 0.0360 - acc: 0.9912 - val_loss: 0.3379 - val_acc: 0.9560\n",
      "Epoch 42/50\n",
      "100/100 [==============================] - 48s 483ms/step - loss: 0.0281 - acc: 0.9932 - val_loss: 0.3214 - val_acc: 0.9530\n",
      "Epoch 43/50\n",
      "100/100 [==============================] - 48s 476ms/step - loss: 0.0720 - acc: 0.9885 - val_loss: 0.7575 - val_acc: 0.9290\n",
      "Epoch 44/50\n",
      "100/100 [==============================] - 47s 474ms/step - loss: 0.0325 - acc: 0.9945 - val_loss: 0.7861 - val_acc: 0.9320\n",
      "Epoch 45/50\n",
      "100/100 [==============================] - 48s 479ms/step - loss: 0.0729 - acc: 0.9882 - val_loss: 0.5101 - val_acc: 0.9390\n",
      "Epoch 46/50\n",
      "100/100 [==============================] - 48s 485ms/step - loss: 0.0249 - acc: 0.9950 - val_loss: 0.5160 - val_acc: 0.9480\n",
      "Epoch 47/50\n",
      "100/100 [==============================] - 48s 479ms/step - loss: 0.0393 - acc: 0.9923 - val_loss: 0.2916 - val_acc: 0.9360\n",
      "Epoch 48/50\n",
      "100/100 [==============================] - 48s 480ms/step - loss: 0.0337 - acc: 0.9942 - val_loss: 0.4012 - val_acc: 0.9430\n",
      "Epoch 49/50\n",
      "100/100 [==============================] - 48s 477ms/step - loss: 0.0720 - acc: 0.9920 - val_loss: 0.2012 - val_acc: 0.9430\n",
      "Epoch 50/50\n",
      "100/100 [==============================] - 48s 476ms/step - loss: 0.0315 - acc: 0.9942 - val_loss: 0.9444 - val_acc: 0.8690\n"
     ]
    }
   ],
   "source": [
    "epochs = 50\n",
    "\n",
    "H = model.fit_generator(train_datagen,\n",
    "                            steps_per_epoch=100,\n",
    "                            epochs=epochs,\n",
    "                            validation_data=val_datagen,\n",
    "                            validation_steps=50)\n"
   ]
  },
  {
   "cell_type": "code",
   "execution_count": 12,
   "metadata": {
    "_uuid": "4b0bcde2937339283b69a9ea59b9b49c9e36a956"
   },
   "outputs": [
    {
     "data": {
      "image/png": "[encoded data removed]",
      "text/plain": [
       "<matplotlib.figure.Figure at 0x21c5e7b59b0>"
      ]
     },
     "metadata": {},
     "output_type": "display_data"
    },
    {
     "data": {
      "image/png": "[encoded data removed]",
      "text/plain": [
       "<matplotlib.figure.Figure at 0x21c5e6a0470>"
      ]
     },
     "metadata": {},
     "output_type": "display_data"
    }
   ],
   "source": [
    "acc = H.history['acc']\n",
    "val_acc = H.history['val_acc']\n",
    "loss = H.history['loss']\n",
    "val_loss = H.history['val_loss']\n",
    "\n",
    "epochs = range(1, len(acc) + 1)\n",
    "\n",
    "plt.plot(epochs, acc, 'bo', label='Training acc')\n",
    "plt.plot(epochs, val_acc, 'g', label='Validation acc')\n",
    "plt.title('Training and validation accuracy')\n",
    "plt.legend()\n",
    "\n",
    "plt.figure()\n",
    "plt.plot(epochs, loss, 'bo', label='Training loss')\n",
    "plt.plot(epochs, val_loss, 'g', label='Validation loss')\n",
    "plt.title('Training and validation loss')\n",
    "plt.legend()\n",
    "plt.show()"
   ]
  },
  {
   "cell_type": "markdown",
   "metadata": {
    "_uuid": "435de8a2b6def2abef3a1d3e0489545bfbdcd348"
   },
   "source": [
    "References:\n",
    "\n",
    "1. [Anthony Tanbakuchi](http://tanbakuchi.com/posts/comparison-of-openv-interpolation-algorithms/ )\n",
    "\n",
    "\n",
    "\n",
    "\n",
    "\n",
    "\n",
    "\n"
   ]
  }
 ],
 "metadata": {
  "kernelspec": {
   "display_name": "Python 3",
   "language": "python",
   "name": "python3"
  },
  "language_info": {
   "codemirror_mode": {
    "name": "ipython",
    "version": 3
   },
   "file_extension": ".py",
   "mimetype": "text/x-python",
   "name": "python",
   "nbconvert_exporter": "python",
   "pygments_lexer": "ipython3",
   "version": "3.6.5"
  }
 },
 "nbformat": 4,
 "nbformat_minor": 2
}
