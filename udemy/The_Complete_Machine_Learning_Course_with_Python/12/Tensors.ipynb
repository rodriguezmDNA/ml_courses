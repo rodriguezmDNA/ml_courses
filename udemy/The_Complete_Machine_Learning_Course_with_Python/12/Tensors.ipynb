{
 "cells": [
  {
   "cell_type": "code",
   "execution_count": 4,
   "metadata": {},
   "outputs": [],
   "source": [
    "import numpy as np"
   ]
  },
  {
   "cell_type": "markdown",
   "metadata": {},
   "source": [
    "## Scalar"
   ]
  },
  {
   "cell_type": "code",
   "execution_count": 5,
   "metadata": {},
   "outputs": [],
   "source": [
    "scalar = np.array(1)"
   ]
  },
  {
   "cell_type": "code",
   "execution_count": 6,
   "metadata": {},
   "outputs": [
    {
     "data": {
      "text/plain": [
       "array(1)"
      ]
     },
     "execution_count": 6,
     "metadata": {},
     "output_type": "execute_result"
    }
   ],
   "source": [
    "scalar"
   ]
  },
  {
   "cell_type": "code",
   "execution_count": 7,
   "metadata": {},
   "outputs": [
    {
     "data": {
      "text/plain": [
       "0"
      ]
     },
     "execution_count": 7,
     "metadata": {},
     "output_type": "execute_result"
    }
   ],
   "source": [
    "scalar.ndim"
   ]
  },
  {
   "cell_type": "code",
   "execution_count": 8,
   "metadata": {},
   "outputs": [
    {
     "data": {
      "text/plain": [
       "()"
      ]
     },
     "execution_count": 8,
     "metadata": {},
     "output_type": "execute_result"
    }
   ],
   "source": [
    "scalar.shape"
   ]
  },
  {
   "cell_type": "markdown",
   "metadata": {},
   "source": [
    "## Vector"
   ]
  },
  {
   "cell_type": "code",
   "execution_count": 9,
   "metadata": {},
   "outputs": [],
   "source": [
    "vector = np.random.randint(0, 10, 36).reshape(4, 9)"
   ]
  },
  {
   "cell_type": "code",
   "execution_count": 10,
   "metadata": {},
   "outputs": [
    {
     "data": {
      "text/plain": [
       "array([[0, 5, 4, 8, 4, 1, 5, 2, 2],\n",
       "       [7, 0, 1, 8, 2, 4, 3, 8, 2],\n",
       "       [6, 7, 5, 4, 3, 8, 9, 7, 3],\n",
       "       [0, 9, 8, 3, 9, 9, 1, 0, 0]])"
      ]
     },
     "execution_count": 10,
     "metadata": {},
     "output_type": "execute_result"
    }
   ],
   "source": [
    "vector"
   ]
  },
  {
   "cell_type": "code",
   "execution_count": 11,
   "metadata": {},
   "outputs": [
    {
     "data": {
      "text/plain": [
       "2"
      ]
     },
     "execution_count": 11,
     "metadata": {},
     "output_type": "execute_result"
    }
   ],
   "source": [
    "vector.ndim"
   ]
  },
  {
   "cell_type": "code",
   "execution_count": 12,
   "metadata": {},
   "outputs": [
    {
     "data": {
      "text/plain": [
       "(4, 9)"
      ]
     },
     "execution_count": 12,
     "metadata": {},
     "output_type": "execute_result"
    }
   ],
   "source": [
    "vector.shape"
   ]
  },
  {
   "cell_type": "markdown",
   "metadata": {},
   "source": [
    "## 3D"
   ]
  },
  {
   "cell_type": "code",
   "execution_count": 13,
   "metadata": {},
   "outputs": [],
   "source": [
    "tensor_3d = vector.reshape(3, 3, 4)"
   ]
  },
  {
   "cell_type": "code",
   "execution_count": 14,
   "metadata": {},
   "outputs": [
    {
     "data": {
      "text/plain": [
       "array([[[0, 5, 4, 8],\n",
       "        [4, 1, 5, 2],\n",
       "        [2, 7, 0, 1]],\n",
       "\n",
       "       [[8, 2, 4, 3],\n",
       "        [8, 2, 6, 7],\n",
       "        [5, 4, 3, 8]],\n",
       "\n",
       "       [[9, 7, 3, 0],\n",
       "        [9, 8, 3, 9],\n",
       "        [9, 1, 0, 0]]])"
      ]
     },
     "execution_count": 14,
     "metadata": {},
     "output_type": "execute_result"
    }
   ],
   "source": [
    "tensor_3d"
   ]
  },
  {
   "cell_type": "code",
   "execution_count": 15,
   "metadata": {},
   "outputs": [
    {
     "data": {
      "text/plain": [
       "3"
      ]
     },
     "execution_count": 15,
     "metadata": {},
     "output_type": "execute_result"
    }
   ],
   "source": [
    "tensor_3d.ndim"
   ]
  },
  {
   "cell_type": "code",
   "execution_count": 16,
   "metadata": {},
   "outputs": [
    {
     "data": {
      "text/plain": [
       "(3, 3, 4)"
      ]
     },
     "execution_count": 16,
     "metadata": {},
     "output_type": "execute_result"
    }
   ],
   "source": [
    "tensor_3d.shape"
   ]
  },
  {
   "cell_type": "markdown",
   "metadata": {},
   "source": [
    "## Motivational Example"
   ]
  },
  {
   "cell_type": "code",
   "execution_count": 17,
   "metadata": {},
   "outputs": [
    {
     "name": "stderr",
     "output_type": "stream",
     "text": [
      "2024-05-15 17:00:16.633934: I tensorflow/core/platform/cpu_feature_guard.cc:182] This TensorFlow binary is optimized to use available CPU instructions in performance-critical operations.\n",
      "To enable the following instructions: SSE4.1 SSE4.2 AVX AVX2 AVX512F AVX512_VNNI FMA, in other operations, rebuild TensorFlow with the appropriate compiler flags.\n"
     ]
    },
    {
     "name": "stdout",
     "output_type": "stream",
     "text": [
      "Model: \"sequential\"\n",
      "_________________________________________________________________\n",
      " Layer (type)                Output Shape              Param #   \n",
      "=================================================================\n",
      " dense (Dense)               (None, 512)               401920    \n",
      "                                                                 \n",
      " dense_1 (Dense)             (None, 10)                5130      \n",
      "                                                                 \n",
      "=================================================================\n",
      "Total params: 407050 (1.55 MB)\n",
      "Trainable params: 407050 (1.55 MB)\n",
      "Non-trainable params: 0 (0.00 Byte)\n",
      "_________________________________________________________________\n",
      "Epoch 1/10\n",
      "235/235 [==============================] - 5s 15ms/step - loss: 0.3323 - accuracy: 0.9061\n",
      "Epoch 2/10\n",
      "235/235 [==============================] - 4s 18ms/step - loss: 0.1398 - accuracy: 0.9605\n",
      "Epoch 3/10\n",
      "235/235 [==============================] - 5s 22ms/step - loss: 0.0950 - accuracy: 0.9718\n",
      "Epoch 4/10\n",
      "235/235 [==============================] - 5s 22ms/step - loss: 0.0697 - accuracy: 0.9797\n",
      "Epoch 5/10\n",
      "235/235 [==============================] - 4s 17ms/step - loss: 0.0534 - accuracy: 0.9846\n",
      "Epoch 6/10\n",
      "235/235 [==============================] - 4s 17ms/step - loss: 0.0422 - accuracy: 0.9882\n",
      "Epoch 7/10\n",
      "235/235 [==============================] - 4s 16ms/step - loss: 0.0334 - accuracy: 0.9904\n",
      "Epoch 8/10\n",
      "235/235 [==============================] - 3s 14ms/step - loss: 0.0271 - accuracy: 0.9929\n",
      "Epoch 9/10\n",
      "235/235 [==============================] - 3s 11ms/step - loss: 0.0213 - accuracy: 0.9945\n",
      "Epoch 10/10\n",
      "235/235 [==============================] - 1s 6ms/step - loss: 0.0173 - accuracy: 0.9958\n",
      "313/313 [==============================] - 1s 2ms/step - loss: 0.0609 - accuracy: 0.9815\n",
      "Test accuracy: 0.9815000295639038\n"
     ]
    }
   ],
   "source": [
    "import numpy as np\n",
    "from keras.datasets import mnist\n",
    "(x_train, y_train), (x_test, y_test) = mnist.load_data()\n",
    "from keras import models\n",
    "from keras import layers\n",
    "model = models.Sequential()\n",
    "model.add(layers.Dense(units=512,\n",
    "                       activation='relu',\n",
    "                       input_shape=(28 * 28,)))\n",
    "model.add(layers.Dense(units=10,\n",
    "                       activation='softmax'))\n",
    "model.summary()\n",
    "x_train_input = x_train.reshape((60000, 28 * 28))\n",
    "x_train_input = x_train_input.astype('float32') / 255\n",
    "x_test_input = x_test.reshape((10000, 28 * 28))\n",
    "x_test_input = x_test_input.astype('float32') / 255\n",
    "model.compile(optimizer='rmsprop',\n",
    "              loss='categorical_crossentropy',\n",
    "              metrics=['accuracy'])\n",
    "from keras.utils import to_categorical\n",
    "y_train = to_categorical(y_train)\n",
    "y_test = to_categorical(y_test)\n",
    "model.fit(x_train_input, y_train,\n",
    "          epochs=10,\n",
    "          batch_size=256)\n",
    "eval_loss, eval_acc = model.evaluate(x_test_input, \n",
    "                                     y_test)\n",
    "print('Test accuracy: {}'.format(eval_acc))\n"
   ]
  },
  {
   "cell_type": "markdown",
   "metadata": {},
   "source": [
    "The following two cells are equivalent"
   ]
  },
  {
   "cell_type": "raw",
   "metadata": {},
   "source": [
    "model.add(layers.Dense(units=512,\n",
    "                       activation='relu',\n",
    "                       input_shape=(28 * 28,)))"
   ]
  },
  {
   "cell_type": "raw",
   "metadata": {},
   "source": [
    "output = relu(dot(W, input) + b)"
   ]
  },
  {
   "cell_type": "markdown",
   "metadata": {},
   "source": [
    "tensor operations:\n",
    "\n",
    "* relu, max(x, 0)\n",
    "* dot product between `W` and `input`, dot\n",
    "* addition, +\n"
   ]
  },
  {
   "cell_type": "code",
   "execution_count": null,
   "metadata": {},
   "outputs": [],
   "source": []
  }
 ],
 "metadata": {
  "kernelspec": {
   "display_name": "Python 3",
   "language": "python",
   "name": "python3"
  },
  "language_info": {
   "codemirror_mode": {
    "name": "ipython",
    "version": 3
   },
   "file_extension": ".py",
   "mimetype": "text/x-python",
   "name": "python",
   "nbconvert_exporter": "python",
   "pygments_lexer": "ipython3",
   "version": "3.9.19"
  }
 },
 "nbformat": 4,
 "nbformat_minor": 2
}
