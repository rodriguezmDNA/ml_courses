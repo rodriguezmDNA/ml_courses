{
  "nbformat": 4,
  "nbformat_minor": 0,
  "metadata": {
    "kernelspec": {
      "name": "python3",
      "display_name": "Python 3"
    },
    "language_info": {
      "codemirror_mode": {
        "name": "ipython",
        "version": 3
      },
      "file_extension": ".py",
      "mimetype": "text/x-python",
      "name": "python",
      "nbconvert_exporter": "python",
      "pygments_lexer": "ipython3",
      "version": "3.5.4"
    },
    "colab": {
      "provenance": [],
      "toc_visible": true
    },
    "accelerator": "GPU"
  },
  "cells": [
    {
      "cell_type": "markdown",
      "metadata": {
        "id": "UQjpxd_sN7-s"
      },
      "source": [
        "Copyright 2019 Anthony Ng.\n",
        "\n",
        "&emsp;\n",
        "\n",
        "Licensed under the Apache License, Version 2.0 (the \"License\");\n",
        "\n",
        "you may not use this file except in compliance with the License.\n",
        "\n",
        "You may obtain a copy of the License at\n",
        "\n",
        "\n",
        "&emsp;https://www.apache.org/licenses/LICENSE-2.0\n",
        "\n",
        "\n",
        "Unless required by applicable law or agreed to in writing, software\n",
        "\n",
        "distributed under the License is distributed on an \"AS IS\" BASIS,\n",
        "\n",
        "WITHOUT WARRANTIES OR CONDITIONS OF ANY KIND, either express or implied.\n",
        "\n",
        "See the License for the specific language governing permissions and\n",
        "\n",
        "limitations under the License."
      ]
    },
    {
      "cell_type": "markdown",
      "metadata": {
        "heading_collapsed": true,
        "id": "EgAjs8AjP-pE"
      },
      "source": [
        "## Binary Classification Example"
      ]
    },
    {
      "cell_type": "code",
      "metadata": {
        "id": "95btMZOKQEJ8",
        "outputId": "c3b7f5d9-3c75-4fc2-8c13-f44e1e94530a",
        "colab": {
          "base_uri": "https://localhost:8080/",
          "height": 34
        }
      },
      "source": [
        "import numpy as np\n",
        "\n",
        "# Install TensorFlow\n",
        "try:\n",
        "  # %tensorflow_version only exists in Colab.\n",
        "  %tensorflow_version 2.x\n",
        "except Exception:\n",
        "  pass\n",
        "\n",
        "import tensorflow as tf"
      ],
      "execution_count": null,
      "outputs": [
        {
          "output_type": "stream",
          "text": [
            "TensorFlow 2.x selected.\n"
          ],
          "name": "stdout"
        }
      ]
    },
    {
      "cell_type": "markdown",
      "metadata": {
        "id": "TlFqwtIeP-pg"
      },
      "source": [
        "## Preparing the Training Data\n",
        "\n",
        "Load [mnist](http://yann.lecun.com/exdb/mnist/) dataset as distributed with keras\n"
      ]
    },
    {
      "cell_type": "code",
      "metadata": {
        "hidden": true,
        "id": "xXb74ff_P-pP",
        "outputId": "9c8aa4cf-0122-423b-aa80-4971fa281d26",
        "colab": {
          "base_uri": "https://localhost:8080/",
          "height": 51
        }
      },
      "source": [
        "mnist = tf.keras.datasets.mnist\n",
        "(x_train, y_train), (x_test, y_test) = mnist.load_data()"
      ],
      "execution_count": null,
      "outputs": [
        {
          "output_type": "stream",
          "text": [
            "Downloading data from https://storage.googleapis.com/tensorflow/tf-keras-datasets/mnist.npz\n",
            "11493376/11490434 [==============================] - 0s 0us/step\n"
          ],
          "name": "stdout"
        }
      ]
    },
    {
      "cell_type": "code",
      "metadata": {
        "id": "jc-vRfeiQ2W0",
        "outputId": "eafa5e68-2b11-4875-ac46-3209c4899660",
        "colab": {
          "base_uri": "https://localhost:8080/",
          "height": 34
        }
      },
      "source": [
        "tf.keras.backend.image_data_format()"
      ],
      "execution_count": null,
      "outputs": [
        {
          "output_type": "execute_result",
          "data": {
            "text/plain": [
              "'channels_last'"
            ]
          },
          "metadata": {
            "tags": []
          },
          "execution_count": 3
        }
      ]
    },
    {
      "cell_type": "code",
      "metadata": {
        "id": "ZiyttTypP-pv"
      },
      "source": [
        "# input image dimensions\n",
        "img_rows, img_cols = 28, 28\n",
        "\n",
        "if tf.keras.backend.image_data_format() == 'channels_first':\n",
        "    x_train = x_train.reshape(x_train.shape[0], 1, img_rows, img_cols)\n",
        "    x_test = x_test.reshape(x_test.shape[0], 1, img_rows, img_cols)\n",
        "    input_shape = (1, img_rows, img_cols)\n",
        "if tf.keras.backend.image_data_format() == 'channels_last':\n",
        "    x_train = x_train.reshape(x_train.shape[0], img_rows, img_cols, 1)\n",
        "    x_test = x_test.reshape(x_test.shape[0], img_rows, img_cols, 1)\n",
        "    input_shape = (img_rows, img_cols, 1)"
      ],
      "execution_count": null,
      "outputs": []
    },
    {
      "cell_type": "code",
      "metadata": {
        "id": "OHpBt9HrP-px"
      },
      "source": [
        "x_train, x_test = x_train / 255.0, x_test / 255.0"
      ],
      "execution_count": null,
      "outputs": []
    },
    {
      "cell_type": "code",
      "metadata": {
        "id": "itOlkmM8P-p3"
      },
      "source": [
        "y_train = np.where(y_train != 5, 0, 1)\n",
        "# not digit 5, then y target convert to 0\n",
        "# if it is digit 5, then y target is 1"
      ],
      "execution_count": null,
      "outputs": []
    },
    {
      "cell_type": "code",
      "metadata": {
        "id": "t_9gduh_P-p7"
      },
      "source": [
        "y_train = np.asarray(y_train.astype('float32'))\n",
        "y_test = np.asarray(y_test.astype('float32'))"
      ],
      "execution_count": null,
      "outputs": []
    },
    {
      "cell_type": "markdown",
      "metadata": {
        "id": "3ixTHJq9P-qA"
      },
      "source": [
        "## Network Architecture"
      ]
    },
    {
      "cell_type": "code",
      "metadata": {
        "id": "0cgXN3f-RVpf",
        "outputId": "a9eb0e8e-4620-413a-ff81-4292066fd410",
        "colab": {
          "base_uri": "https://localhost:8080/",
          "height": 255
        }
      },
      "source": [
        "batch_size = 128\n",
        "num_classes = 1\n",
        "epochs = 20\n",
        "\n",
        "model = tf.keras.Sequential([\n",
        "    tf.keras.layers.Flatten(input_shape=input_shape),\n",
        "    tf.keras.layers.Dense(128, activation='relu'),\n",
        "    tf.keras.layers.Dense(num_classes, activation='sigmoid')\n",
        "])\n",
        "model.summary()\n",
        "\n",
        "model.compile(optimizer='sgd',\n",
        "              loss='binary_crossentropy',\n",
        "              metrics=['accuracy']) # Loss Function and Optimisers"
      ],
      "execution_count": null,
      "outputs": [
        {
          "output_type": "stream",
          "text": [
            "Model: \"sequential\"\n",
            "_________________________________________________________________\n",
            "Layer (type)                 Output Shape              Param #   \n",
            "=================================================================\n",
            "flatten (Flatten)            (None, 784)               0         \n",
            "_________________________________________________________________\n",
            "dense (Dense)                (None, 128)               100480    \n",
            "_________________________________________________________________\n",
            "dense_1 (Dense)              (None, 1)                 129       \n",
            "=================================================================\n",
            "Total params: 100,609\n",
            "Trainable params: 100,609\n",
            "Non-trainable params: 0\n",
            "_________________________________________________________________\n"
          ],
          "name": "stdout"
        }
      ]
    },
    {
      "cell_type": "markdown",
      "metadata": {
        "id": "HF0LIsmIP-qg"
      },
      "source": [
        "## Measure the Performance of the NN"
      ]
    },
    {
      "cell_type": "code",
      "metadata": {
        "id": "ZMJYa4IuP-qh"
      },
      "source": [
        "x_val = x_train[50000:]\n",
        "x_train_1 = x_train[:50000]\n",
        "y_val = y_train[50000:]\n",
        "y_train_1 = y_train[:50000]"
      ],
      "execution_count": null,
      "outputs": []
    },
    {
      "cell_type": "code",
      "metadata": {
        "scrolled": false,
        "id": "MLiUMjpdP-qr",
        "outputId": "a1438c57-d0fd-4d35-b5c8-add281da5c04",
        "colab": {
          "base_uri": "https://localhost:8080/",
          "height": 734
        }
      },
      "source": [
        "h = model.fit(x_train_1,\n",
        "              y_train_1,\n",
        "              epochs=epochs,\n",
        "              batch_size=batch_size,\n",
        "              validation_data=(x_val, y_val))"
      ],
      "execution_count": null,
      "outputs": [
        {
          "output_type": "stream",
          "text": [
            "Train on 50000 samples, validate on 10000 samples\n",
            "Epoch 1/20\n",
            "50000/50000 [==============================] - 4s 76us/sample - loss: 0.2585 - accuracy: 0.9070 - val_loss: 0.1996 - val_accuracy: 0.9128\n",
            "Epoch 2/20\n",
            "50000/50000 [==============================] - 2s 42us/sample - loss: 0.1747 - accuracy: 0.9293 - val_loss: 0.1538 - val_accuracy: 0.9448\n",
            "Epoch 3/20\n",
            "50000/50000 [==============================] - 2s 41us/sample - loss: 0.1430 - accuracy: 0.9485 - val_loss: 0.1316 - val_accuracy: 0.9569\n",
            "Epoch 4/20\n",
            "50000/50000 [==============================] - 2s 41us/sample - loss: 0.1255 - accuracy: 0.9572 - val_loss: 0.1183 - val_accuracy: 0.9620\n",
            "Epoch 5/20\n",
            "50000/50000 [==============================] - 2s 42us/sample - loss: 0.1138 - accuracy: 0.9622 - val_loss: 0.1090 - val_accuracy: 0.9666\n",
            "Epoch 6/20\n",
            "50000/50000 [==============================] - 2s 41us/sample - loss: 0.1051 - accuracy: 0.9656 - val_loss: 0.1020 - val_accuracy: 0.9688\n",
            "Epoch 7/20\n",
            "50000/50000 [==============================] - 2s 42us/sample - loss: 0.0980 - accuracy: 0.9681 - val_loss: 0.0962 - val_accuracy: 0.9705\n",
            "Epoch 8/20\n",
            "50000/50000 [==============================] - 2s 41us/sample - loss: 0.0921 - accuracy: 0.9707 - val_loss: 0.0912 - val_accuracy: 0.9725\n",
            "Epoch 9/20\n",
            "50000/50000 [==============================] - 2s 42us/sample - loss: 0.0868 - accuracy: 0.9726 - val_loss: 0.0870 - val_accuracy: 0.9739\n",
            "Epoch 10/20\n",
            "50000/50000 [==============================] - 2s 43us/sample - loss: 0.0822 - accuracy: 0.9740 - val_loss: 0.0831 - val_accuracy: 0.9757\n",
            "Epoch 11/20\n",
            "50000/50000 [==============================] - 2s 42us/sample - loss: 0.0780 - accuracy: 0.9754 - val_loss: 0.0796 - val_accuracy: 0.9775\n",
            "Epoch 12/20\n",
            "50000/50000 [==============================] - 2s 43us/sample - loss: 0.0743 - accuracy: 0.9766 - val_loss: 0.0769 - val_accuracy: 0.9773\n",
            "Epoch 13/20\n",
            "50000/50000 [==============================] - 2s 40us/sample - loss: 0.0709 - accuracy: 0.9776 - val_loss: 0.0740 - val_accuracy: 0.9782\n",
            "Epoch 14/20\n",
            "50000/50000 [==============================] - 2s 41us/sample - loss: 0.0678 - accuracy: 0.9789 - val_loss: 0.0712 - val_accuracy: 0.9793\n",
            "Epoch 15/20\n",
            "50000/50000 [==============================] - 2s 41us/sample - loss: 0.0651 - accuracy: 0.9798 - val_loss: 0.0690 - val_accuracy: 0.9796\n",
            "Epoch 16/20\n",
            "50000/50000 [==============================] - 2s 41us/sample - loss: 0.0625 - accuracy: 0.9806 - val_loss: 0.0670 - val_accuracy: 0.9804\n",
            "Epoch 17/20\n",
            "50000/50000 [==============================] - 2s 41us/sample - loss: 0.0602 - accuracy: 0.9812 - val_loss: 0.0648 - val_accuracy: 0.9819\n",
            "Epoch 18/20\n",
            "50000/50000 [==============================] - 2s 43us/sample - loss: 0.0580 - accuracy: 0.9821 - val_loss: 0.0633 - val_accuracy: 0.9813\n",
            "Epoch 19/20\n",
            "50000/50000 [==============================] - 2s 41us/sample - loss: 0.0561 - accuracy: 0.9828 - val_loss: 0.0614 - val_accuracy: 0.9821\n",
            "Epoch 20/20\n",
            "50000/50000 [==============================] - 2s 40us/sample - loss: 0.0542 - accuracy: 0.9832 - val_loss: 0.0600 - val_accuracy: 0.9824\n"
          ],
          "name": "stdout"
        }
      ]
    },
    {
      "cell_type": "markdown",
      "metadata": {
        "id": "wWUkFhgtP-qw"
      },
      "source": [
        "## Visualisation Performance"
      ]
    },
    {
      "cell_type": "code",
      "metadata": {
        "id": "YIxOnsrUP-qx"
      },
      "source": [
        "import matplotlib.pyplot as plt\n",
        "loss_values = h.history['loss']\n",
        "val_loss_values = h.history['val_loss']\n",
        "\n",
        "epochs = range(1, len(h.history['accuracy']) + 1)"
      ],
      "execution_count": null,
      "outputs": []
    },
    {
      "cell_type": "code",
      "metadata": {
        "id": "KU3pyT2vP-q1",
        "outputId": "f4959488-f78f-45cf-d3ff-d40f3c22bdad",
        "colab": {
          "base_uri": "https://localhost:8080/",
          "height": 286
        }
      },
      "source": [
        "plt.style.use('ggplot')\n",
        "plt.plot(epochs, loss_values, 'bo',\n",
        "         label='Training Loss')\n",
        "plt.plot(epochs, val_loss_values, 'b',\n",
        "         label='Validation Loss')\n",
        "plt.xlabel('Epochs')\n",
        "plt.ylabel('Loss')\n",
        "plt.legend();"
      ],
      "execution_count": null,
      "outputs": [
        {
          "output_type": "display_data",
          "data": {
            "image/png": "[encoded data removed]",
            "text/plain": [
              "<Figure size 432x288 with 1 Axes>"
            ]
          },
          "metadata": {
            "tags": []
          }
        }
      ]
    },
    {
      "cell_type": "code",
      "metadata": {
        "id": "7YW1Gv6aP-q5",
        "outputId": "9d2db4bf-3222-40f6-e67a-eec534050ae4",
        "colab": {
          "base_uri": "https://localhost:8080/",
          "height": 286
        }
      },
      "source": [
        "plt.clf()\n",
        "acc_values = h.history['accuracy']\n",
        "val_acc_values = h.history['val_accuracy']\n",
        "\n",
        "plt.plot(epochs, acc_values, 'bo',\n",
        "         label='Training Accuracy')\n",
        "plt.plot(epochs, val_acc_values, 'b',\n",
        "         label='Validation Accuracy')\n",
        "plt.xlabel('Epochs')\n",
        "plt.ylabel('Accuracy')\n",
        "plt.legend();"
      ],
      "execution_count": null,
      "outputs": [
        {
          "output_type": "display_data",
          "data": {
            "image/png": "[encoded data removed]",
            "text/plain": [
              "<Figure size 432x288 with 1 Axes>"
            ]
          },
          "metadata": {
            "tags": []
          }
        }
      ]
    },
    {
      "cell_type": "markdown",
      "metadata": {
        "id": "zVOrlZtuP-q8"
      },
      "source": [
        "***"
      ]
    }
  ]
}