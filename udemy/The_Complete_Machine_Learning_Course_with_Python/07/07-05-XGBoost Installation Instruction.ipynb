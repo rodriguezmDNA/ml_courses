{
 "cells": [
  {
   "cell_type": "markdown",
   "metadata": {},
   "source": [
    "# XGBoost\n",
    "\n",
    "Installation Guide\n",
    "\n",
    "Following [part 1](https://www.ibm.com/developerworks/community/blogs/jfp/entry/Installing_XGBoost_For_Anaconda_on_Windows?lang=en) works for me.\n",
    "\n",
    "However, I do need to download [windows x64 binaries](http://www.picnet.com.au/blogs/guido/post/2016/09/22/xgboost-windows-x64-binaries-for-download/)\n",
    "\n",
    "That's all that I needed\n",
    "\n",
    "More info:\n",
    "\n",
    "http://www.picnet.com.au/blogs/guido/post/2016/09/22/how-to-build-xgboost-on-windows/\n",
    "\n",
    "http://xgboost.readthedocs.io/en/latest/build.html\n",
    "\n",
    "https://github.com/dmlc/xgboost/blob/master/doc/build.md#python-package-installation\n",
    "\n",
    "\n",
    "# MacOS\n",
    "Just follow the following link\n",
    "\n",
    "https://anaconda.org/conda-forge/xgboost\n",
    "\n"
   ]
  },
  {
   "cell_type": "code",
   "execution_count": null,
   "metadata": {},
   "outputs": [],
   "source": [
    "# !conda install conda-forge::xgboost"
   ]
  },
  {
   "cell_type": "code",
   "execution_count": 1,
   "metadata": {},
   "outputs": [
    {
     "data": {
      "text/plain": [
       "'3.9.19 | packaged by conda-forge | (main, Mar 20 2024, 12:53:33) \\n[Clang 16.0.6 ]'"
      ]
     },
     "execution_count": 1,
     "metadata": {},
     "output_type": "execute_result"
    }
   ],
   "source": [
    "import sys\n",
    "\n",
    "# Get the Python version currently running\n",
    "python_version = sys.version\n",
    "python_version"
   ]
  },
  {
   "cell_type": "code",
   "execution_count": 3,
   "metadata": {
    "collapsed": true
   },
   "outputs": [],
   "source": [
    "import xgboost as xgb\n",
    "import numpy as np"
   ]
  },
  {
   "cell_type": "code",
   "execution_count": 9,
   "metadata": {
    "collapsed": true
   },
   "outputs": [],
   "source": [
    "data = np.random.rand(100,10) # 5 entities, each contains 10 features\n",
    "label = np.random.randint(2, size=100) # binary target\n",
    "dtrain = xgb.DMatrix( data, label=label)"
   ]
  },
  {
   "cell_type": "code",
   "execution_count": 10,
   "metadata": {
    "collapsed": true
   },
   "outputs": [],
   "source": [
    "dtest = dtrain"
   ]
  },
  {
   "cell_type": "code",
   "execution_count": 11,
   "metadata": {
    "collapsed": true
   },
   "outputs": [],
   "source": [
    "param = {'bst:max_depth':2, 'bst:eta':1, 'silent':1, 'objective':'binary:logistic' }\n",
    "param['nthread'] = 4\n",
    "param['eval_metric'] = 'auc'"
   ]
  },
  {
   "cell_type": "code",
   "execution_count": 12,
   "metadata": {
    "collapsed": true
   },
   "outputs": [],
   "source": [
    "evallist  = [(dtest,'eval'), (dtrain,'train')]"
   ]
  },
  {
   "cell_type": "code",
   "execution_count": 13,
   "metadata": {},
   "outputs": [
    {
     "name": "stdout",
     "output_type": "stream",
     "text": [
      "[0]\teval-auc:0.90848\ttrain-auc:0.90848\n",
      "[1]\teval-auc:0.96505\ttrain-auc:0.96505\n",
      "[2]\teval-auc:0.99293\ttrain-auc:0.99293\n",
      "[3]\teval-auc:1.00000\ttrain-auc:1.00000\n",
      "[4]\teval-auc:1.00000\ttrain-auc:1.00000\n",
      "[5]\teval-auc:1.00000\ttrain-auc:1.00000\n",
      "[6]\teval-auc:1.00000\ttrain-auc:1.00000\n",
      "[7]\teval-auc:1.00000\ttrain-auc:1.00000\n",
      "[8]\teval-auc:1.00000\ttrain-auc:1.00000\n",
      "[9]\teval-auc:1.00000\ttrain-auc:1.00000\n"
     ]
    },
    {
     "name": "stderr",
     "output_type": "stream",
     "text": [
      "/opt/miniconda3/envs/ml_python_2019/lib/python3.9/site-packages/xgboost/core.py:160: UserWarning: [15:53:58] WARNING: /Users/runner/miniforge3/conda-bld/xgboost-split_1713397638960/work/src/learner.cc:742: \n",
      "Parameters: { \"bst:eta\", \"bst:max_depth\", \"silent\" } are not used.\n",
      "\n",
      "  warnings.warn(smsg, UserWarning)\n"
     ]
    }
   ],
   "source": [
    "num_round = 10\n",
    "bst = xgb.train( param, dtrain, num_round, evallist )"
   ]
  },
  {
   "cell_type": "code",
   "execution_count": null,
   "metadata": {},
   "outputs": [],
   "source": []
  }
 ],
 "metadata": {
  "kernelspec": {
   "display_name": "Python 3",
   "language": "python",
   "name": "python3"
  },
  "language_info": {
   "codemirror_mode": {
    "name": "ipython",
    "version": 3
   },
   "file_extension": ".py",
   "mimetype": "text/x-python",
   "name": "python",
   "nbconvert_exporter": "python",
   "pygments_lexer": "ipython3",
   "version": "3.9.19"
  }
 },
 "nbformat": 4,
 "nbformat_minor": 2
}
