{
  "cells": [
    {
      "cell_type": "markdown",
      "metadata": {
        "id": "asD7O88OxSyS"
      },
      "source": [
        "Copyright 2019 Anthony Ng.\n",
        "\n",
        "&emsp;\n",
        "\n",
        "Licensed under the Apache License, Version 2.0 (the \"License\");\n",
        "\n",
        "you may not use this file except in compliance with the License.\n",
        "\n",
        "You may obtain a copy of the License at\n",
        "\n",
        "\n",
        "&emsp;https://www.apache.org/licenses/LICENSE-2.0\n",
        "\n",
        "\n",
        "Unless required by applicable law or agreed to in writing, software\n",
        "\n",
        "distributed under the License is distributed on an \"AS IS\" BASIS,\n",
        "\n",
        "WITHOUT WARRANTIES OR CONDITIONS OF ANY KIND, either express or implied.\n",
        "\n",
        "See the License for the specific language governing permissions and\n",
        "\n",
        "limitations under the License."
      ]
    },
    {
      "cell_type": "markdown",
      "metadata": {
        "heading_collapsed": true,
        "id": "sYaPIfgsPYq3"
      },
      "source": [
        "## Motivational Example\n"
      ]
    },
    {
      "cell_type": "markdown",
      "metadata": {
        "hidden": true,
        "id": "eVysynUzPYq5"
      },
      "source": [
        "Concepts will be covered:\n",
        "\n",
        "\n",
        "*   Regression, Classification\n",
        "*   Flattening\n",
        "*   [ReLU](https://www.kaggle.com/dansbecker/rectified-linear-units-relu-in-deep-learning), Softmax\n",
        "*   Dropout\n",
        "*   Training and Testing\n",
        "\n",
        "\n",
        "\n",
        "**References:**\n",
        "\n",
        "1.   [chollet](https://github.com/fchollet/deep-learning-with-python-notebooks)\n",
        "2.   [tensorflow 2.0 tutorial](https://www.tensorflow.org/tutorials)\n",
        "3.   [tensorflow 2.0 launch note](https://medium.com/tensorflow/tensorflow-2-0-is-now-available-57d706c2a9ab)\n",
        "\n",
        "\n"
      ]
    },
    {
      "cell_type": "markdown",
      "metadata": {
        "heading_collapsed": true,
        "hidden": true,
        "id": "o9AtH6jVPYq6"
      },
      "source": [
        "## Import Libraries"
      ]
    },
    {
      "cell_type": "code",
      "execution_count": 1,
      "metadata": {
        "colab": {
          "base_uri": "https://localhost:8080/",
          "height": 34
        },
        "hidden": true,
        "id": "_UCWBK5tPYq7",
        "outputId": "f2f13c2a-e457-41b2-c945-935a760f4647"
      },
      "outputs": [
        {
          "name": "stderr",
          "output_type": "stream",
          "text": [
            "2024-05-14 19:33:27.868383: I tensorflow/core/platform/cpu_feature_guard.cc:182] This TensorFlow binary is optimized to use available CPU instructions in performance-critical operations.\n",
            "To enable the following instructions: SSE4.1 SSE4.2 AVX AVX2 AVX512F AVX512_VNNI FMA, in other operations, rebuild TensorFlow with the appropriate compiler flags.\n"
          ]
        }
      ],
      "source": [
        "import numpy as np\n",
        "\n",
        "# Install TensorFlow\n",
        "try:\n",
        "  # %tensorflow_version only exists in Colab.\n",
        "  %tensorflow_version 2.x\n",
        "except Exception:\n",
        "  pass\n",
        "\n",
        "import tensorflow as tf"
      ]
    },
    {
      "cell_type": "markdown",
      "metadata": {
        "id": "PCD4YODnMVu7"
      },
      "source": [
        "## Preparing the Training Data\n",
        "\n",
        "Load [mnist](http://yann.lecun.com/exdb/mnist/) dataset as distributed with keras\n"
      ]
    },
    {
      "cell_type": "code",
      "execution_count": 2,
      "metadata": {
        "colab": {
          "base_uri": "https://localhost:8080/",
          "height": 51
        },
        "id": "8pYkM_D_Gj4v",
        "outputId": "112d1c4c-1f8b-4a20-adcc-72a6dde31516"
      },
      "outputs": [
        {
          "name": "stdout",
          "output_type": "stream",
          "text": [
            "Downloading data from https://storage.googleapis.com/tensorflow/tf-keras-datasets/mnist.npz\n",
            "11490434/11490434 [==============================] - 2s 0us/step\n"
          ]
        }
      ],
      "source": [
        "mnist = tf.keras.datasets.mnist\n",
        "(x_train, y_train), (x_test, y_test) = mnist.load_data()"
      ]
    },
    {
      "cell_type": "code",
      "execution_count": 3,
      "metadata": {
        "colab": {
          "base_uri": "https://localhost:8080/",
          "height": 119
        },
        "hidden": true,
        "id": "ekdxR-FpPYrG",
        "outputId": "fbc5978e-627c-454b-88e3-56c0bbaf15ef"
      },
      "outputs": [
        {
          "name": "stdout",
          "output_type": "stream",
          "text": [
            "(60000, 28, 28)\n",
            "(10000, 28, 28)\n",
            "(60000,)\n",
            "(10000,)\n",
            "[0 1 2 3 4 5 6 7 8 9]\n",
            "[0 1 2 3 4 5 6 7 8 9]\n"
          ]
        }
      ],
      "source": [
        "print(x_train.shape)\n",
        "print(x_test.shape)\n",
        "print(y_train.shape)\n",
        "print(y_test.shape)\n",
        "print(np.unique(y_train))\n",
        "print(np.unique(y_test))"
      ]
    },
    {
      "cell_type": "code",
      "execution_count": 4,
      "metadata": {
        "colab": {
          "base_uri": "https://localhost:8080/",
          "height": 269
        },
        "hidden": true,
        "id": "vraJsSHRPYrS",
        "outputId": "5ceb6f09-1b4c-4337-837c-44d76c834f5b"
      },
      "outputs": [
        {
          "data": {
            "image/png": "[encoded data removed]",
            "text/plain": [
              "<Figure size 640x480 with 1 Axes>"
            ]
          },
          "metadata": {},
          "output_type": "display_data"
        }
      ],
      "source": [
        "import matplotlib.pyplot as plt\n",
        "plt.imshow(x_train[0], cmap='Greys');"
      ]
    },
    {
      "cell_type": "code",
      "execution_count": 5,
      "metadata": {
        "colab": {
          "base_uri": "https://localhost:8080/",
          "height": 34
        },
        "id": "4KYpO5G9CE96",
        "outputId": "ea83fd2e-1b2a-4e2c-fd2c-1c8ca345af1e"
      },
      "outputs": [
        {
          "data": {
            "text/plain": [
              "5"
            ]
          },
          "execution_count": 5,
          "metadata": {},
          "output_type": "execute_result"
        }
      ],
      "source": [
        "y_train[0]"
      ]
    },
    {
      "cell_type": "markdown",
      "metadata": {
        "id": "ShQ5wdC3PEuS"
      },
      "source": [
        "\n",
        "Data preparation:\n",
        "* the data came in the form of `uint8` with value in the `[0, 255]` range. We need to transform it into Python `float32` array with values between 0 and 1."
      ]
    },
    {
      "cell_type": "code",
      "execution_count": 6,
      "metadata": {
        "id": "S9KSyC95O_Xd"
      },
      "outputs": [],
      "source": [
        "x_train, x_test = x_train / 255.0, x_test / 255.0"
      ]
    },
    {
      "cell_type": "markdown",
      "metadata": {
        "hidden": true,
        "id": "kjintD-YPYrc"
      },
      "source": [
        "## Defining, Compiling and Fitting Our Model\n"
      ]
    },
    {
      "cell_type": "markdown",
      "metadata": {
        "id": "zc7gMdKRxtXg"
      },
      "source": [
        "\n",
        "### Model 1:"
      ]
    },
    {
      "cell_type": "markdown",
      "metadata": {
        "id": "z1o0XkZb4ESW"
      },
      "source": [
        "Our network has three layers:\n",
        "\n",
        "* **First Layer: input** `tf.keras.layers.Flatten` — This layer flattens the digit images from a 2d-array of 28 $\\times$ 28 pixels, to a 1d-array of 784 pixels (28\\*28). This layer only reformats the data.\n",
        "\n",
        "* **Second Layer: \"hidden\"** `tf.keras.layers.Dense`— A densely connected layer of 512 neurons. Each neuron (or node) takes input from all 784 nodes in the previous layer. Recall that we flattened the image.\n",
        "\n",
        "\n",
        "* **output** `tf.keras.layers.Dense` — A 10-node *softmax* layer, with each node representing each of the digit class. As in the previous layer, each node takes input from the 512 nodes in the layer before it. Each node weights the input according to learned parameters, and then outputs a value in the range `[0, 1]`, representing the probability that the image belongs to that class. The sum of all 10 node values is 1."
      ]
    },
    {
      "cell_type": "code",
      "execution_count": 7,
      "metadata": {
        "colab": {
          "base_uri": "https://localhost:8080/",
          "height": 612
        },
        "id": "Ea6Ho59v3jDw",
        "outputId": "d5c0759a-d4d8-4d5b-abe6-59ab67df3c57"
      },
      "outputs": [
        {
          "name": "stdout",
          "output_type": "stream",
          "text": [
            "Model: \"sequential\"\n",
            "_________________________________________________________________\n",
            " Layer (type)                Output Shape              Param #   \n",
            "=================================================================\n",
            " flatten (Flatten)           (None, 784)               0         \n",
            "                                                                 \n",
            " dense (Dense)               (None, 512)               401920    \n",
            "                                                                 \n",
            " dense_1 (Dense)             (None, 10)                5130      \n",
            "                                                                 \n",
            "=================================================================\n",
            "Total params: 407050 (1.55 MB)\n",
            "Trainable params: 407050 (1.55 MB)\n",
            "Non-trainable params: 0 (0.00 Byte)\n",
            "_________________________________________________________________\n",
            "Epoch 1/10\n",
            "235/235 [==============================] - 4s 12ms/step - loss: 0.3256 - accuracy: 0.9076\n",
            "Epoch 2/10\n",
            "235/235 [==============================] - 2s 9ms/step - loss: 0.1395 - accuracy: 0.9600\n",
            "Epoch 3/10\n",
            "235/235 [==============================] - 2s 9ms/step - loss: 0.0936 - accuracy: 0.9724\n",
            "Epoch 4/10\n",
            "235/235 [==============================] - 2s 8ms/step - loss: 0.0677 - accuracy: 0.9799\n",
            "Epoch 5/10\n",
            "235/235 [==============================] - 2s 8ms/step - loss: 0.0527 - accuracy: 0.9849\n",
            "Epoch 6/10\n",
            "235/235 [==============================] - 2s 8ms/step - loss: 0.0416 - accuracy: 0.9885\n",
            "Epoch 7/10\n",
            "235/235 [==============================] - 3s 11ms/step - loss: 0.0325 - accuracy: 0.9908\n",
            "Epoch 8/10\n",
            "235/235 [==============================] - 2s 8ms/step - loss: 0.0260 - accuracy: 0.9928\n",
            "Epoch 9/10\n",
            "235/235 [==============================] - 2s 9ms/step - loss: 0.0212 - accuracy: 0.9945\n",
            "Epoch 10/10\n",
            "235/235 [==============================] - 2s 11ms/step - loss: 0.0167 - accuracy: 0.9959\n"
          ]
        }
      ],
      "source": [
        "model = tf.keras.Sequential([\n",
        "    tf.keras.layers.Flatten(input_shape=(28, 28)),\n",
        "    tf.keras.layers.Dense(units=512, activation='relu'),\n",
        "    tf.keras.layers.Dense(units=10, activation='softmax')\n",
        "])\n",
        "model.summary()\n",
        "model.compile(optimizer='rmsprop', loss='sparse_categorical_crossentropy',\n",
        "              metrics=['accuracy'])\n",
        "h = model.fit(x_train, y_train, epochs=10, batch_size=256)"
      ]
    },
    {
      "cell_type": "markdown",
      "metadata": {
        "id": "cnKbGGcE5jO3"
      },
      "source": [
        "The `batch_size` tells `model.fit` to update the model variables after every batches of 256 images."
      ]
    },
    {
      "cell_type": "code",
      "execution_count": 10,
      "metadata": {
        "id": "tFNHvq0G1nNQ"
      },
      "outputs": [
        {
          "data": {
            "image/png": "[encoded data removed]",
            "text/plain": [
              "<Figure size 640x480 with 1 Axes>"
            ]
          },
          "metadata": {},
          "output_type": "display_data"
        }
      ],
      "source": [
        "import matplotlib.pyplot as plt\n",
        "plt.xlabel('Epoch Number')\n",
        "plt.ylabel(\"Loss Magnitude\")\n",
        "plt.plot(h.history['loss']);"
      ]
    },
    {
      "cell_type": "code",
      "execution_count": 9,
      "metadata": {
        "colab": {
          "base_uri": "https://localhost:8080/",
          "height": 71
        },
        "hidden": true,
        "id": "fHunben3PYr8",
        "outputId": "61fa3c46-77e4-4dff-8930-b2257285bd77"
      },
      "outputs": [
        {
          "name": "stdout",
          "output_type": "stream",
          "text": [
            "313/313 [==============================] - 1s 3ms/step - loss: 0.0573 - accuracy: 0.9824\n",
            "Test accuracy: 0.9824000000953674\n"
          ]
        }
      ],
      "source": [
        "eval_loss, eval_acc = model.evaluate(x_test,\n",
        "                                     y_test)\n",
        "print('Test accuracy: {}'.format(eval_acc))"
      ]
    },
    {
      "cell_type": "markdown",
      "metadata": {
        "hidden": true,
        "id": "QKP18ETpPYr6"
      },
      "source": [
        "### Model 2"
      ]
    },
    {
      "cell_type": "code",
      "execution_count": 11,
      "metadata": {
        "colab": {
          "base_uri": "https://localhost:8080/",
          "height": 646
        },
        "id": "monjm4G4G9rE",
        "outputId": "c1eb15bf-8cbd-480d-b294-fe59b6d0c33c"
      },
      "outputs": [
        {
          "name": "stdout",
          "output_type": "stream",
          "text": [
            "Model: \"sequential_1\"\n",
            "_________________________________________________________________\n",
            " Layer (type)                Output Shape              Param #   \n",
            "=================================================================\n",
            " flatten_1 (Flatten)         (None, 784)               0         \n",
            "                                                                 \n",
            " dense_2 (Dense)             (None, 128)               100480    \n",
            "                                                                 \n",
            " dropout (Dropout)           (None, 128)               0         \n",
            "                                                                 \n",
            " dense_3 (Dense)             (None, 10)                1290      \n",
            "                                                                 \n",
            "=================================================================\n",
            "Total params: 101770 (397.54 KB)\n",
            "Trainable params: 101770 (397.54 KB)\n",
            "Non-trainable params: 0 (0.00 Byte)\n",
            "_________________________________________________________________\n",
            "Epoch 1/10\n",
            "235/235 [==============================] - 3s 7ms/step - loss: 0.4812 - accuracy: 0.8651\n",
            "Epoch 2/10\n",
            "235/235 [==============================] - 1s 6ms/step - loss: 0.2270 - accuracy: 0.9348\n",
            "Epoch 3/10\n",
            "235/235 [==============================] - 1s 5ms/step - loss: 0.1760 - accuracy: 0.9487\n",
            "Epoch 4/10\n",
            "235/235 [==============================] - 1s 6ms/step - loss: 0.1463 - accuracy: 0.9580\n",
            "Epoch 5/10\n",
            "235/235 [==============================] - 1s 5ms/step - loss: 0.1267 - accuracy: 0.9620\n",
            "Epoch 6/10\n",
            "235/235 [==============================] - 1s 6ms/step - loss: 0.1093 - accuracy: 0.9672\n",
            "Epoch 7/10\n",
            "235/235 [==============================] - 1s 6ms/step - loss: 0.0981 - accuracy: 0.9705\n",
            "Epoch 8/10\n",
            "235/235 [==============================] - 2s 7ms/step - loss: 0.0880 - accuracy: 0.9736\n",
            "Epoch 9/10\n",
            "235/235 [==============================] - 2s 8ms/step - loss: 0.0818 - accuracy: 0.9750\n",
            "Epoch 10/10\n",
            "235/235 [==============================] - 2s 10ms/step - loss: 0.0724 - accuracy: 0.9783\n"
          ]
        }
      ],
      "source": [
        "model2 = tf.keras.models.Sequential([\n",
        "  tf.keras.layers.Flatten(input_shape=(28, 28)),\n",
        "  tf.keras.layers.Dense(128, activation='relu'),\n",
        "  tf.keras.layers.Dropout(0.2),\n",
        "  tf.keras.layers.Dense(10, activation='softmax')\n",
        "])\n",
        "model2.summary()\n",
        "model2.compile(optimizer='adam',\n",
        "               loss='sparse_categorical_crossentropy',\n",
        "               metrics=['accuracy'])\n",
        "h = model2.fit(x_train, y_train,\n",
        "               epochs=10,\n",
        "               batch_size=256)"
      ]
    },
    {
      "cell_type": "code",
      "execution_count": 12,
      "metadata": {
        "id": "mr9l8atK1xKH"
      },
      "outputs": [
        {
          "data": {
            "image/png": "[encoded data removed]",
            "text/plain": [
              "<Figure size 640x480 with 1 Axes>"
            ]
          },
          "metadata": {},
          "output_type": "display_data"
        }
      ],
      "source": [
        "import matplotlib.pyplot as plt\n",
        "plt.xlabel('Epoch Number')\n",
        "plt.ylabel(\"Loss Magnitude\")\n",
        "plt.plot(h.history['loss']);"
      ]
    },
    {
      "cell_type": "code",
      "execution_count": 13,
      "metadata": {
        "colab": {
          "base_uri": "https://localhost:8080/",
          "height": 71
        },
        "id": "RFgkqi0uJ1qG",
        "outputId": "d84da25d-fcd2-4879-bf94-a57164c023f6"
      },
      "outputs": [
        {
          "name": "stdout",
          "output_type": "stream",
          "text": [
            "313/313 [==============================] - 2s 5ms/step - loss: 0.0749 - accuracy: 0.9772\n",
            "Test accuracy: 0.9771999716758728\n"
          ]
        }
      ],
      "source": [
        "eval_loss, eval_acc = model2.evaluate(x_test,\n",
        "                                      y_test)\n",
        "print('Test accuracy: {}'.format(eval_acc))"
      ]
    },
    {
      "cell_type": "markdown",
      "metadata": {
        "id": "XWzn5ijO0T9x"
      },
      "source": [
        "***"
      ]
    },
    {
      "cell_type": "code",
      "execution_count": 14,
      "metadata": {
        "colab": {
          "base_uri": "https://localhost:8080/",
          "height": 51
        },
        "id": "J6NexZO_7R3P",
        "outputId": "706ca6d2-3497-450e-c889-41056806f36c"
      },
      "outputs": [
        {
          "name": "stdout",
          "output_type": "stream",
          "text": [
            "(28, 28)\n",
            "(1, 28, 28)\n"
          ]
        }
      ],
      "source": [
        "img = x_test[0]\n",
        "print(img.shape)\n",
        "img = np.array([img])\n",
        "print(img.shape)"
      ]
    },
    {
      "cell_type": "code",
      "execution_count": 19,
      "metadata": {},
      "outputs": [
        {
          "data": {
            "image/png": "[encoded data removed]",
            "text/plain": [
              "<Figure size 640x480 with 1 Axes>"
            ]
          },
          "metadata": {},
          "output_type": "display_data"
        }
      ],
      "source": [
        "import matplotlib.pyplot as plt\n",
        "plt.imshow(x_test[0], cmap='Greys');"
      ]
    },
    {
      "cell_type": "code",
      "execution_count": 20,
      "metadata": {
        "colab": {
          "base_uri": "https://localhost:8080/",
          "height": 34
        },
        "id": "CHoSDPHt7Thm",
        "outputId": "80563913-1f8e-44b1-a7ab-d783cb4778eb"
      },
      "outputs": [
        {
          "name": "stdout",
          "output_type": "stream",
          "text": [
            "1/1 [==============================] - 0s 40ms/step\n",
            "[[ 0.00  0.00  0.01  0.16  0.00  0.00  0.00  99.82  0.00  0.00]]\n"
          ]
        }
      ],
      "source": [
        "prediction = model2.predict(img)\n",
        "np.set_printoptions(formatter={'float': '{: 0.2f}'.format})\n",
        "print(prediction * 100)"
      ]
    },
    {
      "cell_type": "code",
      "execution_count": 21,
      "metadata": {
        "cellView": "both",
        "colab": {
          "base_uri": "https://localhost:8080/",
          "height": 34
        },
        "id": "9lmLLGiS7suW",
        "outputId": "6bdf8423-6544-470e-addb-edf018e03554"
      },
      "outputs": [
        {
          "data": {
            "text/plain": [
              "7"
            ]
          },
          "execution_count": 21,
          "metadata": {},
          "output_type": "execute_result"
        }
      ],
      "source": [
        "np.argmax(prediction[0])"
      ]
    },
    {
      "cell_type": "code",
      "execution_count": 22,
      "metadata": {
        "colab": {
          "base_uri": "https://localhost:8080/",
          "height": 34
        },
        "id": "2N41SEFa702e",
        "outputId": "889904ea-b4e4-46d6-f901-9a2e29614ac0"
      },
      "outputs": [
        {
          "data": {
            "text/plain": [
              "7"
            ]
          },
          "execution_count": 22,
          "metadata": {},
          "output_type": "execute_result"
        }
      ],
      "source": [
        "y_test[0]"
      ]
    },
    {
      "cell_type": "markdown",
      "metadata": {
        "id": "aadvruZ5_gcp"
      },
      "source": [
        "***"
      ]
    }
  ],
  "metadata": {
    "accelerator": "GPU",
    "colab": {
      "provenance": [],
      "toc_visible": true
    },
    "kernelspec": {
      "display_name": "Python 3",
      "name": "python3"
    },
    "language_info": {
      "codemirror_mode": {
        "name": "ipython",
        "version": 3
      },
      "file_extension": ".py",
      "mimetype": "text/x-python",
      "name": "python",
      "nbconvert_exporter": "python",
      "pygments_lexer": "ipython3",
      "version": "3.9.19"
    }
  },
  "nbformat": 4,
  "nbformat_minor": 0
}
