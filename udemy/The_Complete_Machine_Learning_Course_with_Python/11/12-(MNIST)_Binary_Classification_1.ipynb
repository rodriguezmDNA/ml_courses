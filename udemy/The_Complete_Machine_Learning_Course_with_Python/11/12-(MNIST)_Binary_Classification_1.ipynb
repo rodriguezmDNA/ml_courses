{
  "cells": [
    {
      "cell_type": "markdown",
      "metadata": {
        "id": "UQjpxd_sN7-s"
      },
      "source": [
        "Copyright 2019 Anthony Ng.\n",
        "\n",
        "&emsp;\n",
        "\n",
        "Licensed under the Apache License, Version 2.0 (the \"License\");\n",
        "\n",
        "you may not use this file except in compliance with the License.\n",
        "\n",
        "You may obtain a copy of the License at\n",
        "\n",
        "\n",
        "&emsp;https://www.apache.org/licenses/LICENSE-2.0\n",
        "\n",
        "\n",
        "Unless required by applicable law or agreed to in writing, software\n",
        "\n",
        "distributed under the License is distributed on an \"AS IS\" BASIS,\n",
        "\n",
        "WITHOUT WARRANTIES OR CONDITIONS OF ANY KIND, either express or implied.\n",
        "\n",
        "See the License for the specific language governing permissions and\n",
        "\n",
        "limitations under the License."
      ]
    },
    {
      "cell_type": "markdown",
      "metadata": {
        "heading_collapsed": true,
        "id": "EgAjs8AjP-pE"
      },
      "source": [
        "## Binary Classification Example"
      ]
    },
    {
      "cell_type": "code",
      "execution_count": 1,
      "metadata": {
        "colab": {
          "base_uri": "https://localhost:8080/",
          "height": 34
        },
        "id": "95btMZOKQEJ8",
        "outputId": "c3b7f5d9-3c75-4fc2-8c13-f44e1e94530a"
      },
      "outputs": [
        {
          "name": "stderr",
          "output_type": "stream",
          "text": [
            "2024-05-14 19:59:48.964990: I tensorflow/core/platform/cpu_feature_guard.cc:182] This TensorFlow binary is optimized to use available CPU instructions in performance-critical operations.\n",
            "To enable the following instructions: SSE4.1 SSE4.2 AVX AVX2 AVX512F AVX512_VNNI FMA, in other operations, rebuild TensorFlow with the appropriate compiler flags.\n"
          ]
        }
      ],
      "source": [
        "import numpy as np\n",
        "\n",
        "# Install TensorFlow\n",
        "try:\n",
        "  # %tensorflow_version only exists in Colab.\n",
        "  %tensorflow_version 2.x\n",
        "except Exception:\n",
        "  pass\n",
        "\n",
        "import tensorflow as tf"
      ]
    },
    {
      "cell_type": "markdown",
      "metadata": {
        "id": "TlFqwtIeP-pg"
      },
      "source": [
        "## Preparing the Training Data\n",
        "\n",
        "Load [mnist](http://yann.lecun.com/exdb/mnist/) dataset as distributed with keras\n"
      ]
    },
    {
      "cell_type": "code",
      "execution_count": 2,
      "metadata": {
        "colab": {
          "base_uri": "https://localhost:8080/",
          "height": 51
        },
        "hidden": true,
        "id": "xXb74ff_P-pP",
        "outputId": "9c8aa4cf-0122-423b-aa80-4971fa281d26"
      },
      "outputs": [],
      "source": [
        "mnist = tf.keras.datasets.mnist\n",
        "(x_train, y_train), (x_test, y_test) = mnist.load_data()"
      ]
    },
    {
      "cell_type": "code",
      "execution_count": 3,
      "metadata": {
        "colab": {
          "base_uri": "https://localhost:8080/",
          "height": 34
        },
        "id": "jc-vRfeiQ2W0",
        "outputId": "eafa5e68-2b11-4875-ac46-3209c4899660"
      },
      "outputs": [
        {
          "data": {
            "text/plain": [
              "'channels_last'"
            ]
          },
          "execution_count": 3,
          "metadata": {},
          "output_type": "execute_result"
        }
      ],
      "source": [
        "tf.keras.backend.image_data_format()"
      ]
    },
    {
      "cell_type": "code",
      "execution_count": 4,
      "metadata": {
        "id": "ZiyttTypP-pv"
      },
      "outputs": [],
      "source": [
        "# input image dimensions\n",
        "img_rows, img_cols = 28, 28\n",
        "\n",
        "if tf.keras.backend.image_data_format() == 'channels_first':\n",
        "    x_train = x_train.reshape(x_train.shape[0], 1, img_rows, img_cols)\n",
        "    x_test = x_test.reshape(x_test.shape[0], 1, img_rows, img_cols)\n",
        "    input_shape = (1, img_rows, img_cols)\n",
        "if tf.keras.backend.image_data_format() == 'channels_last':\n",
        "    x_train = x_train.reshape(x_train.shape[0], img_rows, img_cols, 1)\n",
        "    x_test = x_test.reshape(x_test.shape[0], img_rows, img_cols, 1)\n",
        "    input_shape = (img_rows, img_cols, 1)"
      ]
    },
    {
      "cell_type": "code",
      "execution_count": 5,
      "metadata": {
        "id": "OHpBt9HrP-px"
      },
      "outputs": [],
      "source": [
        "x_train, x_test = x_train / 255.0, x_test / 255.0"
      ]
    },
    {
      "cell_type": "code",
      "execution_count": 6,
      "metadata": {
        "id": "itOlkmM8P-p3"
      },
      "outputs": [],
      "source": [
        "y_train = np.where(y_train != 5, 0, 1)\n",
        "# not digit 5, then y target convert to 0\n",
        "# if it is digit 5, then y target is 1"
      ]
    },
    {
      "cell_type": "code",
      "execution_count": 7,
      "metadata": {
        "id": "t_9gduh_P-p7"
      },
      "outputs": [],
      "source": [
        "y_train = np.asarray(y_train.astype('float32'))\n",
        "y_test = np.asarray(y_test.astype('float32'))"
      ]
    },
    {
      "cell_type": "markdown",
      "metadata": {
        "id": "3ixTHJq9P-qA"
      },
      "source": [
        "## Network Architecture"
      ]
    },
    {
      "cell_type": "code",
      "execution_count": 8,
      "metadata": {
        "colab": {
          "base_uri": "https://localhost:8080/",
          "height": 255
        },
        "id": "0cgXN3f-RVpf",
        "outputId": "a9eb0e8e-4620-413a-ff81-4292066fd410"
      },
      "outputs": [
        {
          "name": "stdout",
          "output_type": "stream",
          "text": [
            "Model: \"sequential\"\n",
            "_________________________________________________________________\n",
            " Layer (type)                Output Shape              Param #   \n",
            "=================================================================\n",
            " flatten (Flatten)           (None, 784)               0         \n",
            "                                                                 \n",
            " dense (Dense)               (None, 128)               100480    \n",
            "                                                                 \n",
            " dense_1 (Dense)             (None, 1)                 129       \n",
            "                                                                 \n",
            "=================================================================\n",
            "Total params: 100609 (393.00 KB)\n",
            "Trainable params: 100609 (393.00 KB)\n",
            "Non-trainable params: 0 (0.00 Byte)\n",
            "_________________________________________________________________\n"
          ]
        }
      ],
      "source": [
        "batch_size = 128\n",
        "num_classes = 1\n",
        "epochs = 20\n",
        "\n",
        "model = tf.keras.Sequential([\n",
        "    tf.keras.layers.Flatten(input_shape=input_shape),\n",
        "    tf.keras.layers.Dense(128, activation='relu'),\n",
        "    tf.keras.layers.Dense(num_classes, activation='sigmoid')\n",
        "])\n",
        "model.summary()\n",
        "\n",
        "model.compile(optimizer='sgd',\n",
        "              loss='binary_crossentropy',\n",
        "              metrics=['accuracy']) # Loss Function and Optimisers"
      ]
    },
    {
      "cell_type": "markdown",
      "metadata": {
        "id": "HF0LIsmIP-qg"
      },
      "source": [
        "## Measure the Performance of the NN"
      ]
    },
    {
      "cell_type": "code",
      "execution_count": 9,
      "metadata": {
        "id": "ZMJYa4IuP-qh"
      },
      "outputs": [],
      "source": [
        "x_val = x_train[50000:]\n",
        "x_train_1 = x_train[:50000]\n",
        "y_val = y_train[50000:]\n",
        "y_train_1 = y_train[:50000]"
      ]
    },
    {
      "cell_type": "code",
      "execution_count": 10,
      "metadata": {
        "colab": {
          "base_uri": "https://localhost:8080/",
          "height": 734
        },
        "id": "MLiUMjpdP-qr",
        "outputId": "a1438c57-d0fd-4d35-b5c8-add281da5c04",
        "scrolled": false
      },
      "outputs": [
        {
          "name": "stdout",
          "output_type": "stream",
          "text": [
            "Epoch 1/20\n",
            "391/391 [==============================] - 2s 3ms/step - loss: 0.2584 - accuracy: 0.9075 - val_loss: 0.1999 - val_accuracy: 0.9124\n",
            "Epoch 2/20\n",
            "391/391 [==============================] - 1s 3ms/step - loss: 0.1717 - accuracy: 0.9299 - val_loss: 0.1514 - val_accuracy: 0.9470\n",
            "Epoch 3/20\n",
            "391/391 [==============================] - 1s 3ms/step - loss: 0.1395 - accuracy: 0.9505 - val_loss: 0.1291 - val_accuracy: 0.9583\n",
            "Epoch 4/20\n",
            "391/391 [==============================] - 1s 3ms/step - loss: 0.1222 - accuracy: 0.9587 - val_loss: 0.1159 - val_accuracy: 0.9643\n",
            "Epoch 5/20\n",
            "391/391 [==============================] - 1s 3ms/step - loss: 0.1110 - accuracy: 0.9634 - val_loss: 0.1070 - val_accuracy: 0.9676\n",
            "Epoch 6/20\n",
            "391/391 [==============================] - 1s 3ms/step - loss: 0.1028 - accuracy: 0.9663 - val_loss: 0.1003 - val_accuracy: 0.9693\n",
            "Epoch 7/20\n",
            "391/391 [==============================] - 1s 3ms/step - loss: 0.0961 - accuracy: 0.9690 - val_loss: 0.0947 - val_accuracy: 0.9726\n",
            "Epoch 8/20\n",
            "391/391 [==============================] - 1s 3ms/step - loss: 0.0906 - accuracy: 0.9712 - val_loss: 0.0901 - val_accuracy: 0.9739\n",
            "Epoch 9/20\n",
            "391/391 [==============================] - 1s 4ms/step - loss: 0.0858 - accuracy: 0.9729 - val_loss: 0.0861 - val_accuracy: 0.9757\n",
            "Epoch 10/20\n",
            "391/391 [==============================] - 2s 4ms/step - loss: 0.0815 - accuracy: 0.9744 - val_loss: 0.0826 - val_accuracy: 0.9775\n",
            "Epoch 11/20\n",
            "391/391 [==============================] - 2s 6ms/step - loss: 0.0777 - accuracy: 0.9755 - val_loss: 0.0794 - val_accuracy: 0.9792\n",
            "Epoch 12/20\n",
            "391/391 [==============================] - 5s 12ms/step - loss: 0.0742 - accuracy: 0.9763 - val_loss: 0.0768 - val_accuracy: 0.9795\n",
            "Epoch 13/20\n",
            "391/391 [==============================] - 3s 8ms/step - loss: 0.0711 - accuracy: 0.9775 - val_loss: 0.0739 - val_accuracy: 0.9803\n",
            "Epoch 14/20\n",
            "391/391 [==============================] - 4s 10ms/step - loss: 0.0682 - accuracy: 0.9785 - val_loss: 0.0715 - val_accuracy: 0.9805\n",
            "Epoch 15/20\n",
            "391/391 [==============================] - 3s 7ms/step - loss: 0.0655 - accuracy: 0.9797 - val_loss: 0.0692 - val_accuracy: 0.9816\n",
            "Epoch 16/20\n",
            "391/391 [==============================] - 3s 7ms/step - loss: 0.0631 - accuracy: 0.9805 - val_loss: 0.0672 - val_accuracy: 0.9816\n",
            "Epoch 17/20\n",
            "391/391 [==============================] - 2s 6ms/step - loss: 0.0608 - accuracy: 0.9812 - val_loss: 0.0652 - val_accuracy: 0.9822\n",
            "Epoch 18/20\n",
            "391/391 [==============================] - 3s 9ms/step - loss: 0.0587 - accuracy: 0.9817 - val_loss: 0.0633 - val_accuracy: 0.9830\n",
            "Epoch 19/20\n",
            "391/391 [==============================] - 3s 9ms/step - loss: 0.0568 - accuracy: 0.9824 - val_loss: 0.0617 - val_accuracy: 0.9831\n",
            "Epoch 20/20\n",
            "391/391 [==============================] - 4s 9ms/step - loss: 0.0549 - accuracy: 0.9831 - val_loss: 0.0604 - val_accuracy: 0.9830\n"
          ]
        }
      ],
      "source": [
        "h = model.fit(x_train_1,\n",
        "              y_train_1,\n",
        "              epochs=epochs,\n",
        "              batch_size=batch_size,\n",
        "              validation_data=(x_val, y_val))"
      ]
    },
    {
      "cell_type": "markdown",
      "metadata": {
        "id": "wWUkFhgtP-qw"
      },
      "source": [
        "## Visualisation Performance"
      ]
    },
    {
      "cell_type": "code",
      "execution_count": 11,
      "metadata": {
        "id": "YIxOnsrUP-qx"
      },
      "outputs": [],
      "source": [
        "import matplotlib.pyplot as plt\n",
        "loss_values = h.history['loss']\n",
        "val_loss_values = h.history['val_loss']\n",
        "\n",
        "epochs = range(1, len(h.history['accuracy']) + 1)"
      ]
    },
    {
      "cell_type": "code",
      "execution_count": 12,
      "metadata": {
        "colab": {
          "base_uri": "https://localhost:8080/",
          "height": 286
        },
        "id": "KU3pyT2vP-q1",
        "outputId": "f4959488-f78f-45cf-d3ff-d40f3c22bdad"
      },
      "outputs": [
        {
          "data": {
            "image/png": "[encoded data removed]",
            "text/plain": [
              "<Figure size 640x480 with 1 Axes>"
            ]
          },
          "metadata": {},
          "output_type": "display_data"
        }
      ],
      "source": [
        "plt.style.use('ggplot')\n",
        "plt.plot(epochs, loss_values, 'bo',\n",
        "         label='Training Loss')\n",
        "plt.plot(epochs, val_loss_values, 'b',\n",
        "         label='Validation Loss')\n",
        "plt.xlabel('Epochs')\n",
        "plt.ylabel('Loss')\n",
        "plt.legend();"
      ]
    },
    {
      "cell_type": "code",
      "execution_count": 13,
      "metadata": {
        "colab": {
          "base_uri": "https://localhost:8080/",
          "height": 286
        },
        "id": "7YW1Gv6aP-q5",
        "outputId": "9d2db4bf-3222-40f6-e67a-eec534050ae4"
      },
      "outputs": [
        {
          "data": {
            "image/png": "[encoded data removed]",
            "text/plain": [
              "<Figure size 640x480 with 1 Axes>"
            ]
          },
          "metadata": {},
          "output_type": "display_data"
        }
      ],
      "source": [
        "plt.clf()\n",
        "acc_values = h.history['accuracy']\n",
        "val_acc_values = h.history['val_accuracy']\n",
        "\n",
        "plt.plot(epochs, acc_values, 'bo',\n",
        "         label='Training Accuracy')\n",
        "plt.plot(epochs, val_acc_values, 'b',\n",
        "         label='Validation Accuracy')\n",
        "plt.xlabel('Epochs')\n",
        "plt.ylabel('Accuracy')\n",
        "plt.legend();"
      ]
    },
    {
      "cell_type": "markdown",
      "metadata": {
        "id": "zVOrlZtuP-q8"
      },
      "source": [
        "***"
      ]
    },
    {
      "cell_type": "markdown",
      "metadata": {},
      "source": []
    }
  ],
  "metadata": {
    "accelerator": "GPU",
    "colab": {
      "provenance": [],
      "toc_visible": true
    },
    "kernelspec": {
      "display_name": "Python 3",
      "name": "python3"
    },
    "language_info": {
      "codemirror_mode": {
        "name": "ipython",
        "version": 3
      },
      "file_extension": ".py",
      "mimetype": "text/x-python",
      "name": "python",
      "nbconvert_exporter": "python",
      "pygments_lexer": "ipython3",
      "version": "3.9.19"
    }
  },
  "nbformat": 4,
  "nbformat_minor": 0
}
