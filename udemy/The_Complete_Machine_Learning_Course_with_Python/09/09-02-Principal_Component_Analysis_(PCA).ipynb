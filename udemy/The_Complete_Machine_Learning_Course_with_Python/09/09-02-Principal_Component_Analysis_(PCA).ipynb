{
  "nbformat": 4,
  "nbformat_minor": 0,
  "metadata": {
    "kernelspec": {
      "display_name": "Python 3",
      "language": "python",
      "name": "python3"
    },
    "language_info": {
      "codemirror_mode": {
        "name": "ipython",
        "version": 3
      },
      "file_extension": ".py",
      "mimetype": "text/x-python",
      "name": "python",
      "nbconvert_exporter": "python",
      "pygments_lexer": "ipython3",
      "version": "3.6.5"
    },
    "colab": {
      "provenance": []
    }
  },
  "cells": [
    {
      "cell_type": "markdown",
      "metadata": {
        "id": "1TmqxrLXKm_m"
      },
      "source": [
        "# Principal Component Analysis (PCA) - Linear\n",
        "\n",
        "[scikit-learn Doc](http://scikit-learn.org/stable/modules/decomposition.html#pca)\n",
        "\n",
        "[scikit-learn Parameters](http://scikit-learn.org/stable/modules/generated/sklearn.decomposition.PCA.html#sklearn.decomposition.PCA)\n",
        "\n",
        "* Linear dimensionality reduction using Singular Value Decomposition of the data to project it to a lower dimensional space.\n",
        "\n",
        "\n",
        "1901 by Karl Pearson\n",
        "\n",
        "* Unsupervised Machine Learning\n",
        "\n",
        "[Wikipedia](https://en.wikipedia.org/wiki/Principal_component_analysis)\n",
        "\n",
        "\n",
        "* Statistical procedure that utilise [orthogonal transformation](https://en.wikipedia.org/wiki/Orthogonal_transformation) technology\n",
        "\n",
        "* Convert possible correlated features (predictors) into linearly uncorrelated features (predictors) called **principal components**\n",
        "\n",
        "* \\# of principal components <= number of features (predictors)\n",
        "\n",
        "* First principal component explains the largest possible variance\n",
        "\n",
        "* Each subsequent component has the highest variance subject to the restriction that it must be orthogonal to the preceding components.\n",
        "\n",
        "* A collection of the components are called vectors.\n",
        "\n",
        "* Sensitive to scaling\n"
      ]
    },
    {
      "cell_type": "markdown",
      "metadata": {
        "id": "Bc94_9OVKm_n"
      },
      "source": [
        "**Note:**\n",
        "\n",
        "* Used in exploratory data analysis (EDA)\n",
        "\n",
        "* Visualize genetic distance and relatedness between populations.\n",
        "\n",
        "\n",
        "* Method:\n",
        "\n",
        "  * Eigenvalue decomposition of a data covariance (or correlation) matrix\n",
        "\n",
        "  * Singular value decomposition of a data matrix (After mean centering / normalizing ) the data matrix for each attribute.\n",
        "\n",
        "\n",
        "* Output\n",
        "\n",
        "  * Component scores, sometimes called **factor scores** (the transformed variable values)\n",
        "  \n",
        "  * **loadings** (the weight)\n",
        "\n",
        "* Data compression and information preservation\n",
        "\n",
        "* Visualization\n",
        "\n",
        "* Noise filtering\n",
        "\n",
        "* Feature extraction and engineering"
      ]
    },
    {
      "cell_type": "code",
      "metadata": {
        "id": "4QahuL2DKm_o"
      },
      "source": [
        "import numpy as np\n",
        "import matplotlib.pyplot as plt\n",
        "%matplotlib inline\n",
        "import pandas as pd\n",
        "import seaborn as sns\n",
        "sns.set()"
      ],
      "execution_count": null,
      "outputs": []
    },
    {
      "cell_type": "code",
      "metadata": {
        "id": "8WnKzCXNKm_r"
      },
      "source": [
        "rnd_num = np.random.RandomState(42)\n",
        "X = np.dot(rnd_num.rand(2,2), rnd_num.randn(2, 500)).T"
      ],
      "execution_count": null,
      "outputs": []
    },
    {
      "cell_type": "code",
      "metadata": {
        "id": "oJaWofiAKm_t"
      },
      "source": [
        "X"
      ],
      "execution_count": null,
      "outputs": []
    },
    {
      "cell_type": "code",
      "metadata": {
        "id": "CxUl1kfeKm_y"
      },
      "source": [
        "X[:, 0] = - X[:, 0]"
      ],
      "execution_count": null,
      "outputs": []
    },
    {
      "cell_type": "code",
      "metadata": {
        "id": "K0nsXhi0Km_1",
        "outputId": "dc18e254-e613-4e6b-9a3c-fa0656d19dd6",
        "colab": {
          "base_uri": "https://localhost:8080/",
          "height": 274
        }
      },
      "source": [
        "plt.scatter(X[:, 0], X[:, 1]);\n",
        "plt.axis('equal');"
      ],
      "execution_count": null,
      "outputs": [
        {
          "output_type": "display_data",
          "data": {
            "image/png": "[encoded data removed]",
            "text/plain": [
              "<Figure size 432x288 with 1 Axes>"
            ]
          },
          "metadata": {
            "tags": []
          }
        }
      ]
    },
    {
      "cell_type": "markdown",
      "metadata": {
        "id": "-OEdNu4GKm_3"
      },
      "source": [
        "## Principal Components Identification"
      ]
    },
    {
      "cell_type": "code",
      "metadata": {
        "id": "vbSDEKZ-Km_4"
      },
      "source": [
        "from sklearn.decomposition import PCA"
      ],
      "execution_count": null,
      "outputs": []
    },
    {
      "cell_type": "code",
      "metadata": {
        "id": "TcvPaUF_Km_6",
        "outputId": "0a07f434-6342-4a61-df4c-668edc9333b2",
        "colab": {
          "base_uri": "https://localhost:8080/",
          "height": 51
        }
      },
      "source": [
        "pca = PCA(n_components=2)\n",
        "pca.fit(X)"
      ],
      "execution_count": null,
      "outputs": [
        {
          "output_type": "execute_result",
          "data": {
            "text/plain": [
              "PCA(copy=True, iterated_power='auto', n_components=2, random_state=None,\n",
              "    svd_solver='auto', tol=0.0, whiten=False)"
            ]
          },
          "metadata": {
            "tags": []
          },
          "execution_count": 7
        }
      ]
    },
    {
      "cell_type": "code",
      "metadata": {
        "id": "GxcXZpApKm_8",
        "outputId": "8fce0360-1d0b-49b8-c7ae-efc2fa76854f",
        "colab": {
          "base_uri": "https://localhost:8080/",
          "height": 51
        }
      },
      "source": [
        "print(pca.components_)"
      ],
      "execution_count": null,
      "outputs": [
        {
          "output_type": "stream",
          "text": [
            "[[-0.74062812  0.67191517]\n",
            " [-0.67191517 -0.74062812]]\n"
          ],
          "name": "stdout"
        }
      ]
    },
    {
      "cell_type": "code",
      "metadata": {
        "id": "KxGK2TtOKm__",
        "outputId": "cb5dd596-4c84-4351-8fc6-316ea08b0535",
        "colab": {
          "base_uri": "https://localhost:8080/",
          "height": 34
        }
      },
      "source": [
        "print(pca.explained_variance_)"
      ],
      "execution_count": null,
      "outputs": [
        {
          "output_type": "stream",
          "text": [
            "[1.62123504 0.12581594]\n"
          ],
          "name": "stdout"
        }
      ]
    },
    {
      "cell_type": "code",
      "metadata": {
        "id": "ggg6F6-PKnAC",
        "outputId": "98a9e1a5-b8c2-4546-e234-869410953120",
        "colab": {
          "base_uri": "https://localhost:8080/",
          "height": 34
        }
      },
      "source": [
        "print(pca.explained_variance_ratio_)"
      ],
      "execution_count": null,
      "outputs": [
        {
          "output_type": "stream",
          "text": [
            "[0.92798382 0.07201618]\n"
          ],
          "name": "stdout"
        }
      ]
    },
    {
      "cell_type": "code",
      "metadata": {
        "id": "_mMuigtxKnAF",
        "outputId": "c6cf8789-f1e0-4181-a915-030bd07d148c",
        "colab": {
          "base_uri": "https://localhost:8080/",
          "height": 274
        }
      },
      "source": [
        "plt.scatter(X[:, 0], X[:, 1], alpha=0.3)\n",
        "\n",
        "\n",
        "# plot data\n",
        "\n",
        "for k, v in zip(pca.explained_variance_, pca.components_):\n",
        "    vec = v * 3 * np.sqrt(k)\n",
        "\n",
        "    ax = plt.gca()\n",
        "    arrowprops=dict(arrowstyle='<-',\n",
        "                    linewidth=4,\n",
        "                    shrinkA=0, shrinkB=0)\n",
        "    ax.annotate('', pca.mean_, pca.mean_ + vec, arrowprops=arrowprops)\n",
        "    ax.text(-0.90, 1.2,'PC1', ha='center', va='center', rotation=-42, size=12)\n",
        "    ax.text(-0.1,-0.6,'PC2', ha='center', va='center', rotation=50, size=12)\n",
        "plt.axis('equal');"
      ],
      "execution_count": null,
      "outputs": [
        {
          "output_type": "display_data",
          "data": {
            "image/png": "[encoded data removed]",
            "text/plain": [
              "<Figure size 432x288 with 1 Axes>"
            ]
          },
          "metadata": {
            "tags": []
          }
        }
      ]
    },
    {
      "cell_type": "markdown",
      "metadata": {
        "id": "HzrUgRFCKnAH"
      },
      "source": [
        "* Two principal components\n",
        "* Length denotes the significance\n",
        "\n",
        "This transformation from data axes to principal axes is as an affine transformation, which basically means it is composed of a translation, rotation, and uniform scaling."
      ]
    },
    {
      "cell_type": "markdown",
      "metadata": {
        "id": "W9iqEMawKnAI"
      },
      "source": [
        "## Dimensionality Reduction with PCA"
      ]
    },
    {
      "cell_type": "code",
      "metadata": {
        "id": "2AKvq8dBKnAJ"
      },
      "source": [
        "pca = PCA(n_components=1)\n",
        "pca.fit(X)\n",
        "X_pca = pca.transform(X)"
      ],
      "execution_count": null,
      "outputs": []
    },
    {
      "cell_type": "code",
      "metadata": {
        "id": "AjzwpWVDKnAL",
        "outputId": "92a6b5b3-9d65-40fa-80fb-cb9084d401fc",
        "colab": {
          "base_uri": "https://localhost:8080/",
          "height": 34
        }
      },
      "source": [
        "X.shape"
      ],
      "execution_count": null,
      "outputs": [
        {
          "output_type": "execute_result",
          "data": {
            "text/plain": [
              "(500, 2)"
            ]
          },
          "metadata": {
            "tags": []
          },
          "execution_count": 14
        }
      ]
    },
    {
      "cell_type": "code",
      "metadata": {
        "id": "a_98or_AKnAO",
        "outputId": "8ba11af7-8dd9-4d10-d3f9-e294f1f8f425",
        "colab": {
          "base_uri": "https://localhost:8080/",
          "height": 34
        }
      },
      "source": [
        "X_pca.shape"
      ],
      "execution_count": null,
      "outputs": [
        {
          "output_type": "execute_result",
          "data": {
            "text/plain": [
              "(500, 1)"
            ]
          },
          "metadata": {
            "tags": []
          },
          "execution_count": 15
        }
      ]
    },
    {
      "cell_type": "code",
      "metadata": {
        "id": "VfSOuihcKnAS",
        "outputId": "8bf33f78-edc4-4e65-830b-0b85363bd139",
        "colab": {
          "base_uri": "https://localhost:8080/",
          "height": 274
        }
      },
      "source": [
        "X_new = pca.inverse_transform(X_pca)\n",
        "plt.scatter(X[:, 0], X[:, 1], alpha=0.2);\n",
        "plt.scatter(X_new[:, 0], X_new[:, 1], alpha=0.8)\n",
        "plt.axis('equal');"
      ],
      "execution_count": null,
      "outputs": [
        {
          "output_type": "display_data",
          "data": {
            "image/png": "[encoded data removed]",
            "text/plain": [
              "<Figure size 432x288 with 1 Axes>"
            ]
          },
          "metadata": {
            "tags": []
          }
        }
      ]
    },
    {
      "cell_type": "markdown",
      "metadata": {
        "id": "3FrF71VnKnAV"
      },
      "source": [
        "The Green is the PCA\n",
        "\n",
        "The light blue is the original data"
      ]
    },
    {
      "cell_type": "markdown",
      "metadata": {
        "id": "5c30G37iKnAW"
      },
      "source": [
        "***"
      ]
    }
  ]
}