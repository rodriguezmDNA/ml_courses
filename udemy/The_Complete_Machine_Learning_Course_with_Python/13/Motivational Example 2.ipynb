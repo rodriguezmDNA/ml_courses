{
 "cells": [
  {
   "cell_type": "markdown",
   "metadata": {},
   "source": [
    "# Motivational Example\n"
   ]
  },
  {
   "cell_type": "markdown",
   "metadata": {},
   "source": [
    "## Artificial Neural Networks (ANN)"
   ]
  },
  {
   "cell_type": "code",
   "execution_count": 1,
   "metadata": {},
   "outputs": [
    {
     "name": "stderr",
     "output_type": "stream",
     "text": [
      "2024-05-17 08:54:22.342267: I tensorflow/core/platform/cpu_feature_guard.cc:182] This TensorFlow binary is optimized to use available CPU instructions in performance-critical operations.\n",
      "To enable the following instructions: SSE4.1 SSE4.2 AVX AVX2 AVX512F AVX512_VNNI FMA, in other operations, rebuild TensorFlow with the appropriate compiler flags.\n"
     ]
    },
    {
     "name": "stdout",
     "output_type": "stream",
     "text": [
      "2.15.0\n"
     ]
    }
   ],
   "source": [
    "import numpy as np\n",
    "import keras\n",
    "print(keras.__version__)\n",
    "from keras.utils import to_categorical"
   ]
  },
  {
   "cell_type": "code",
   "execution_count": 2,
   "metadata": {},
   "outputs": [],
   "source": [
    "from keras.datasets import mnist\n",
    "(x_train, y_train), (x_test, y_test) = mnist.load_data()\n",
    "x_train = x_train.reshape((60000, 28 * 28))\n",
    "x_train = x_train.astype('float32') / 255\n",
    "x_test = x_test.reshape((10000, 28 * 28))\n",
    "x_test = x_test.astype('float32') / 255\n",
    "\n",
    "y_train = to_categorical(y_train)\n",
    "y_test = to_categorical(y_test)\n",
    "\n",
    "x_train_dat = x_train[:50000]\n",
    "x_val = x_train[50000:]\n",
    "y_train_dat = y_train[:50000]\n",
    "y_val = y_train[50000:]"
   ]
  },
  {
   "cell_type": "code",
   "execution_count": 3,
   "metadata": {},
   "outputs": [
    {
     "name": "stdout",
     "output_type": "stream",
     "text": [
      "Epoch 1/10\n",
      "782/782 [==============================] - 3s 4ms/step - loss: 0.2448 - accuracy: 0.9285 - val_loss: 0.1349 - val_accuracy: 0.9607\n",
      "Epoch 2/10\n",
      "782/782 [==============================] - 4s 5ms/step - loss: 0.1008 - accuracy: 0.9699 - val_loss: 0.0912 - val_accuracy: 0.9761\n",
      "Epoch 3/10\n",
      "782/782 [==============================] - 4s 5ms/step - loss: 0.0667 - accuracy: 0.9793 - val_loss: 0.0948 - val_accuracy: 0.9716\n",
      "Epoch 4/10\n",
      "782/782 [==============================] - 7s 9ms/step - loss: 0.0479 - accuracy: 0.9852 - val_loss: 0.0833 - val_accuracy: 0.9760\n",
      "Epoch 5/10\n",
      "782/782 [==============================] - 4s 5ms/step - loss: 0.0362 - accuracy: 0.9890 - val_loss: 0.0792 - val_accuracy: 0.9781\n",
      "Epoch 6/10\n",
      "782/782 [==============================] - 5s 7ms/step - loss: 0.0259 - accuracy: 0.9917 - val_loss: 0.0859 - val_accuracy: 0.9770\n",
      "Epoch 7/10\n",
      "782/782 [==============================] - 8s 10ms/step - loss: 0.0199 - accuracy: 0.9942 - val_loss: 0.0794 - val_accuracy: 0.9801\n",
      "Epoch 8/10\n",
      "782/782 [==============================] - 7s 9ms/step - loss: 0.0148 - accuracy: 0.9958 - val_loss: 0.0827 - val_accuracy: 0.9802\n",
      "Epoch 9/10\n",
      "782/782 [==============================] - 4s 5ms/step - loss: 0.0112 - accuracy: 0.9968 - val_loss: 0.0818 - val_accuracy: 0.9797\n",
      "Epoch 10/10\n",
      "782/782 [==============================] - 6s 8ms/step - loss: 0.0075 - accuracy: 0.9980 - val_loss: 0.0940 - val_accuracy: 0.9775\n",
      "Model: \"sequential\"\n",
      "_________________________________________________________________\n",
      " Layer (type)                Output Shape              Param #   \n",
      "=================================================================\n",
      " dense (Dense)               (None, 512)               401920    \n",
      "                                                                 \n",
      " dense_1 (Dense)             (None, 10)                5130      \n",
      "                                                                 \n",
      "=================================================================\n",
      "Total params: 407050 (1.55 MB)\n",
      "Trainable params: 407050 (1.55 MB)\n",
      "Non-trainable params: 0 (0.00 Byte)\n",
      "_________________________________________________________________\n",
      "None\n",
      "313/313 [==============================] - 2s 5ms/step - loss: 0.0803 - accuracy: 0.9798\n",
      "0.9797999858856201\n"
     ]
    }
   ],
   "source": [
    "from keras import models\n",
    "from keras.layers import Dense\n",
    "ann = models.Sequential()\n",
    "ann.add(Dense(units=512,activation='relu', input_shape=(28 * 28,)))\n",
    "ann.add(Dense(units=10, activation='softmax'))\n",
    "ann.compile(optimizer='rmsprop',\n",
    "            loss='categorical_crossentropy',\n",
    "            metrics=['accuracy'])\n",
    "ann.fit(x_train_dat, y_train_dat, epochs=10,\n",
    "        batch_size=64, \n",
    "        validation_data=(x_val, y_val));\n",
    "print(ann.summary())\n",
    "test_loss, test_acc = ann.evaluate(x_test, y_test)\n",
    "print(test_acc)"
   ]
  },
  {
   "cell_type": "markdown",
   "metadata": {},
   "source": [
    "## Convolutional Neural Networks (CNN)"
   ]
  },
  {
   "cell_type": "code",
   "execution_count": 4,
   "metadata": {},
   "outputs": [],
   "source": [
    "from keras.datasets import mnist\n",
    "(x_train, y_train), (x_test, y_test) = mnist.load_data()\n",
    "(x_train, y_train), (x_test, y_test) = mnist.load_data()\n",
    "x_train = x_train.reshape((60000, 28, 28, 1))\n",
    "x_train = x_train.astype('float32') / 255\n",
    "x_test = x_test.reshape((10000, 28, 28, 1))\n",
    "x_test = x_test.astype('float32') / 255\n",
    "\n",
    "y_train = to_categorical(y_train)\n",
    "y_test = to_categorical(y_test)\n",
    "\n",
    "x_train_dat = x_train[:50000]\n",
    "x_val = x_train[50000:]\n",
    "y_train_dat = y_train[:50000]\n",
    "y_val = y_train[50000:]"
   ]
  },
  {
   "cell_type": "markdown",
   "metadata": {},
   "source": [
    "Without padding"
   ]
  },
  {
   "cell_type": "code",
   "execution_count": 5,
   "metadata": {
    "scrolled": false
   },
   "outputs": [
    {
     "name": "stdout",
     "output_type": "stream",
     "text": [
      "Epoch 1/10\n",
      "782/782 [==============================] - 27s 33ms/step - loss: 0.2010 - accuracy: 0.9367 - val_loss: 0.0620 - val_accuracy: 0.9820\n",
      "Epoch 2/10\n",
      "782/782 [==============================] - 25s 32ms/step - loss: 0.0520 - accuracy: 0.9836 - val_loss: 0.0806 - val_accuracy: 0.9764\n",
      "Epoch 3/10\n",
      "782/782 [==============================] - 27s 34ms/step - loss: 0.0355 - accuracy: 0.9893 - val_loss: 0.0464 - val_accuracy: 0.9868\n",
      "Epoch 4/10\n",
      "782/782 [==============================] - 38s 49ms/step - loss: 0.0264 - accuracy: 0.9918 - val_loss: 0.0577 - val_accuracy: 0.9840\n",
      "Epoch 5/10\n",
      "782/782 [==============================] - 28s 36ms/step - loss: 0.0203 - accuracy: 0.9935 - val_loss: 0.0423 - val_accuracy: 0.9890\n",
      "Epoch 6/10\n",
      "782/782 [==============================] - 31s 40ms/step - loss: 0.0166 - accuracy: 0.9949 - val_loss: 0.0408 - val_accuracy: 0.9896\n",
      "Epoch 7/10\n",
      "782/782 [==============================] - 34s 43ms/step - loss: 0.0123 - accuracy: 0.9960 - val_loss: 0.0450 - val_accuracy: 0.9897\n",
      "Epoch 8/10\n",
      "782/782 [==============================] - 35s 45ms/step - loss: 0.0104 - accuracy: 0.9970 - val_loss: 0.0384 - val_accuracy: 0.9923\n",
      "Epoch 9/10\n",
      "782/782 [==============================] - 50s 63ms/step - loss: 0.0085 - accuracy: 0.9973 - val_loss: 0.0609 - val_accuracy: 0.9893\n",
      "Epoch 10/10\n",
      "782/782 [==============================] - 40s 52ms/step - loss: 0.0069 - accuracy: 0.9979 - val_loss: 0.0538 - val_accuracy: 0.9911\n",
      "Model: \"sequential_1\"\n",
      "_________________________________________________________________\n",
      " Layer (type)                Output Shape              Param #   \n",
      "=================================================================\n",
      " conv2d (Conv2D)             (None, 26, 26, 32)        320       \n",
      "                                                                 \n",
      " max_pooling2d (MaxPooling2  (None, 13, 13, 32)        0         \n",
      " D)                                                              \n",
      "                                                                 \n",
      " conv2d_1 (Conv2D)           (None, 11, 11, 64)        18496     \n",
      "                                                                 \n",
      " max_pooling2d_1 (MaxPoolin  (None, 5, 5, 64)          0         \n",
      " g2D)                                                            \n",
      "                                                                 \n",
      " conv2d_2 (Conv2D)           (None, 3, 3, 64)          36928     \n",
      "                                                                 \n",
      " flatten (Flatten)           (None, 576)               0         \n",
      "                                                                 \n",
      " dense_2 (Dense)             (None, 64)                36928     \n",
      "                                                                 \n",
      " dense_3 (Dense)             (None, 10)                650       \n",
      "                                                                 \n",
      "=================================================================\n",
      "Total params: 93322 (364.54 KB)\n",
      "Trainable params: 93322 (364.54 KB)\n",
      "Non-trainable params: 0 (0.00 Byte)\n",
      "_________________________________________________________________\n",
      "None\n",
      "313/313 [==============================] - 2s 8ms/step - loss: 0.0322 - accuracy: 0.9932\n",
      "0.9932000041007996\n"
     ]
    }
   ],
   "source": [
    "from keras import models\n",
    "from keras.layers import Conv2D, MaxPooling2D, Flatten, Dense\n",
    "cnn = models.Sequential()\n",
    "cnn.add(Conv2D(32, (3, 3), activation='relu', input_shape=(28, 28, 1)))\n",
    "cnn.add(MaxPooling2D(2, 2))\n",
    "cnn.add(Conv2D(64, (3, 3), activation='relu'))\n",
    "cnn.add(MaxPooling2D(2, 2))\n",
    "cnn.add(Conv2D(64, (3, 3), activation='relu'))\n",
    "cnn.add(Flatten())\n",
    "cnn.add(Dense(64, activation='relu'))\n",
    "cnn.add(Dense(10, activation='softmax'))\n",
    "cnn.compile(optimizer='rmsprop',\n",
    "            loss='categorical_crossentropy',\n",
    "            metrics=['accuracy'])\n",
    "cnn.fit(x_train_dat, y_train_dat, epochs=10,\n",
    "        batch_size=64, \n",
    "        validation_data=(x_val, y_val));\n",
    "print(cnn.summary())\n",
    "test_loss, test_acc = cnn.evaluate(x_test, y_test)\n",
    "print(test_acc)"
   ]
  },
  {
   "cell_type": "markdown",
   "metadata": {},
   "source": [
    "***"
   ]
  },
  {
   "cell_type": "markdown",
   "metadata": {},
   "source": [
    "With padding=\"same\""
   ]
  },
  {
   "cell_type": "code",
   "execution_count": 6,
   "metadata": {},
   "outputs": [
    {
     "name": "stdout",
     "output_type": "stream",
     "text": [
      "Epoch 1/10\n",
      "782/782 [==============================] - 54s 67ms/step - loss: 0.1833 - accuracy: 0.9429 - val_loss: 0.0526 - val_accuracy: 0.9853\n",
      "Epoch 2/10\n",
      "782/782 [==============================] - 64s 82ms/step - loss: 0.0473 - accuracy: 0.9850 - val_loss: 0.0478 - val_accuracy: 0.9866\n",
      "Epoch 3/10\n",
      "782/782 [==============================] - 41s 52ms/step - loss: 0.0335 - accuracy: 0.9896 - val_loss: 0.0338 - val_accuracy: 0.9902\n",
      "Epoch 4/10\n",
      "782/782 [==============================] - 31s 39ms/step - loss: 0.0243 - accuracy: 0.9927 - val_loss: 0.0331 - val_accuracy: 0.9906\n",
      "Epoch 5/10\n",
      "782/782 [==============================] - 30s 38ms/step - loss: 0.0192 - accuracy: 0.9939 - val_loss: 0.0338 - val_accuracy: 0.9919\n",
      "Epoch 6/10\n",
      "782/782 [==============================] - 28s 36ms/step - loss: 0.0146 - accuracy: 0.9957 - val_loss: 0.0344 - val_accuracy: 0.9903\n",
      "Epoch 7/10\n",
      "782/782 [==============================] - 33s 43ms/step - loss: 0.0120 - accuracy: 0.9961 - val_loss: 0.0367 - val_accuracy: 0.9922\n",
      "Epoch 8/10\n",
      "782/782 [==============================] - 56s 72ms/step - loss: 0.0086 - accuracy: 0.9971 - val_loss: 0.0472 - val_accuracy: 0.9904\n",
      "Epoch 9/10\n",
      "782/782 [==============================] - 63s 80ms/step - loss: 0.0076 - accuracy: 0.9976 - val_loss: 0.0519 - val_accuracy: 0.9897\n",
      "Epoch 10/10\n",
      "782/782 [==============================] - 66s 85ms/step - loss: 0.0066 - accuracy: 0.9981 - val_loss: 0.0435 - val_accuracy: 0.9927\n",
      "Model: \"sequential_2\"\n",
      "_________________________________________________________________\n",
      " Layer (type)                Output Shape              Param #   \n",
      "=================================================================\n",
      " conv2d_3 (Conv2D)           (None, 28, 28, 32)        320       \n",
      "                                                                 \n",
      " max_pooling2d_2 (MaxPoolin  (None, 14, 14, 32)        0         \n",
      " g2D)                                                            \n",
      "                                                                 \n",
      " conv2d_4 (Conv2D)           (None, 12, 12, 64)        18496     \n",
      "                                                                 \n",
      " max_pooling2d_3 (MaxPoolin  (None, 6, 6, 64)          0         \n",
      " g2D)                                                            \n",
      "                                                                 \n",
      " conv2d_5 (Conv2D)           (None, 4, 4, 64)          36928     \n",
      "                                                                 \n",
      " flatten_1 (Flatten)         (None, 1024)              0         \n",
      "                                                                 \n",
      " dense_4 (Dense)             (None, 64)                65600     \n",
      "                                                                 \n",
      " dense_5 (Dense)             (None, 10)                650       \n",
      "                                                                 \n",
      "=================================================================\n",
      "Total params: 121994 (476.54 KB)\n",
      "Trainable params: 121994 (476.54 KB)\n",
      "Non-trainable params: 0 (0.00 Byte)\n",
      "_________________________________________________________________\n",
      "None\n",
      "313/313 [==============================] - 5s 16ms/step - loss: 0.0356 - accuracy: 0.9930\n",
      "0.9929999709129333\n"
     ]
    }
   ],
   "source": [
    "from keras import models\n",
    "from keras.layers import Conv2D, MaxPooling2D, Flatten, Dense\n",
    "cnn = models.Sequential()\n",
    "cnn.add(Conv2D(32, (3, 3), padding='same', activation='relu', input_shape=(28, 28, 1)))\n",
    "cnn.add(MaxPooling2D(2, 2))\n",
    "cnn.add(Conv2D(64, (3, 3), activation='relu'))\n",
    "cnn.add(MaxPooling2D(2, 2))\n",
    "cnn.add(Conv2D(64, (3, 3), activation='relu'))\n",
    "cnn.add(Flatten())\n",
    "cnn.add(Dense(64, activation='relu'))\n",
    "cnn.add(Dense(10, activation='softmax'))\n",
    "cnn.compile(optimizer='rmsprop',\n",
    "            loss='categorical_crossentropy',\n",
    "            metrics=['accuracy'])\n",
    "cnn.fit(x_train_dat, y_train_dat, epochs=10,\n",
    "        batch_size=64, \n",
    "        validation_data=(x_val, y_val));\n",
    "print(cnn.summary())\n",
    "test_loss, test_acc = cnn.evaluate(x_test, y_test)\n",
    "print(test_acc)"
   ]
  },
  {
   "cell_type": "markdown",
   "metadata": {},
   "source": [
    "***"
   ]
  },
  {
   "cell_type": "markdown",
   "metadata": {},
   "source": []
  },
  {
   "cell_type": "markdown",
   "metadata": {},
   "source": []
  }
 ],
 "metadata": {
  "kernelspec": {
   "display_name": "Python 3",
   "language": "python",
   "name": "python3"
  },
  "language_info": {
   "codemirror_mode": {
    "name": "ipython",
    "version": 3
   },
   "file_extension": ".py",
   "mimetype": "text/x-python",
   "name": "python",
   "nbconvert_exporter": "python",
   "pygments_lexer": "ipython3",
   "version": "3.9.19"
  }
 },
 "nbformat": 4,
 "nbformat_minor": 2
}
