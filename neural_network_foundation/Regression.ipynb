{
 "cells": [
  {
   "cell_type": "markdown",
   "metadata": {},
   "source": [
    "# Regression"
   ]
  },
  {
   "cell_type": "markdown",
   "metadata": {},
   "source": [
    "Adapted from `Chollet's Deep Learning with Python`"
   ]
  },
  {
   "cell_type": "markdown",
   "metadata": {
    "heading_collapsed": true
   },
   "source": [
    "## Setting up"
   ]
  },
  {
   "cell_type": "code",
   "execution_count": 1,
   "metadata": {
    "hidden": true
   },
   "outputs": [
    {
     "name": "stderr",
     "output_type": "stream",
     "text": [
      "Using TensorFlow backend.\n"
     ]
    }
   ],
   "source": [
    "import keras"
   ]
  },
  {
   "cell_type": "code",
   "execution_count": 2,
   "metadata": {
    "hidden": true
   },
   "outputs": [
    {
     "data": {
      "text/plain": [
       "'2.2.0'"
      ]
     },
     "execution_count": 2,
     "metadata": {},
     "output_type": "execute_result"
    }
   ],
   "source": [
    "keras.__version__"
   ]
  },
  {
   "cell_type": "code",
   "execution_count": 3,
   "metadata": {
    "hidden": true
   },
   "outputs": [],
   "source": [
    "from keras.datasets import boston_housing"
   ]
  },
  {
   "cell_type": "code",
   "execution_count": 4,
   "metadata": {
    "hidden": true
   },
   "outputs": [],
   "source": [
    "#boston_housing.load_data?"
   ]
  },
  {
   "cell_type": "code",
   "execution_count": 5,
   "metadata": {
    "hidden": true
   },
   "outputs": [],
   "source": [
    "(x_train, y_train), (x_test, y_test) = boston_housing.load_data()"
   ]
  },
  {
   "cell_type": "code",
   "execution_count": 6,
   "metadata": {
    "hidden": true
   },
   "outputs": [
    {
     "data": {
      "text/plain": [
       "(404, 13)"
      ]
     },
     "execution_count": 6,
     "metadata": {},
     "output_type": "execute_result"
    }
   ],
   "source": [
    "x_train.shape"
   ]
  },
  {
   "cell_type": "code",
   "execution_count": 7,
   "metadata": {
    "hidden": true
   },
   "outputs": [
    {
     "data": {
      "text/plain": [
       "(102, 13)"
      ]
     },
     "execution_count": 7,
     "metadata": {},
     "output_type": "execute_result"
    }
   ],
   "source": [
    "x_test.shape"
   ]
  },
  {
   "cell_type": "code",
   "execution_count": 8,
   "metadata": {
    "hidden": true
   },
   "outputs": [
    {
     "data": {
      "text/plain": [
       "array([15.2, 42.3, 50. , 21.1, 17.7, 18.5, 11.3, 15.6, 15.6, 14.4, 12.1,\n",
       "       17.9, 23.1, 19.9, 15.7,  8.8, 50. , 22.5, 24.1, 27.5, 10.9, 30.8,\n",
       "       32.9, 24. , 18.5, 13.3, 22.9, 34.7, 16.6, 17.5, 22.3, 16.1, 14.9,\n",
       "       23.1, 34.9, 25. , 13.9, 13.1, 20.4, 20. , 15.2, 24.7, 22.2, 16.7,\n",
       "       12.7, 15.6, 18.4, 21. , 30.1, 15.1, 18.7,  9.6, 31.5, 24.8, 19.1,\n",
       "       22. , 14.5, 11. , 32. , 29.4, 20.3, 24.4, 14.6, 19.5, 14.1, 14.3,\n",
       "       15.6, 10.5,  6.3, 19.3, 19.3, 13.4, 36.4, 17.8, 13.5, 16.5,  8.3,\n",
       "       14.3, 16. , 13.4, 28.6, 43.5, 20.2, 22. , 23. , 20.7, 12.5, 48.5,\n",
       "       14.6, 13.4, 23.7, 50. , 21.7, 39.8, 38.7, 22.2, 34.9, 22.5, 31.1,\n",
       "       28.7, 46. , 41.7, 21. , 26.6, 15. , 24.4, 13.3, 21.2, 11.7, 21.7,\n",
       "       19.4, 50. , 22.8, 19.7, 24.7, 36.2, 14.2, 18.9, 18.3, 20.6, 24.6,\n",
       "       18.2,  8.7, 44. , 10.4, 13.2, 21.2, 37. , 30.7, 22.9, 20. , 19.3,\n",
       "       31.7, 32. , 23.1, 18.8, 10.9, 50. , 19.6,  5. , 14.4, 19.8, 13.8,\n",
       "       19.6, 23.9, 24.5, 25. , 19.9, 17.2, 24.6, 13.5, 26.6, 21.4, 11.9,\n",
       "       22.6, 19.6,  8.5, 23.7, 23.1, 22.4, 20.5, 23.6, 18.4, 35.2, 23.1,\n",
       "       27.9, 20.6, 23.7, 28. , 13.6, 27.1, 23.6, 20.6, 18.2, 21.7, 17.1,\n",
       "        8.4, 25.3, 13.8, 22.2, 18.4, 20.7, 31.6, 30.5, 20.3,  8.8, 19.2,\n",
       "       19.4, 23.1, 23. , 14.8, 48.8, 22.6, 33.4, 21.1, 13.6, 32.2, 13.1,\n",
       "       23.4, 18.9, 23.9, 11.8, 23.3, 22.8, 19.6, 16.7, 13.4, 22.2, 20.4,\n",
       "       21.8, 26.4, 14.9, 24.1, 23.8, 12.3, 29.1, 21. , 19.5, 23.3, 23.8,\n",
       "       17.8, 11.5, 21.7, 19.9, 25. , 33.4, 28.5, 21.4, 24.3, 27.5, 33.1,\n",
       "       16.2, 23.3, 48.3, 22.9, 22.8, 13.1, 12.7, 22.6, 15. , 15.3, 10.5,\n",
       "       24. , 18.5, 21.7, 19.5, 33.2, 23.2,  5. , 19.1, 12.7, 22.3, 10.2,\n",
       "       13.9, 16.3, 17. , 20.1, 29.9, 17.2, 37.3, 45.4, 17.8, 23.2, 29. ,\n",
       "       22. , 18. , 17.4, 34.6, 20.1, 25. , 15.6, 24.8, 28.2, 21.2, 21.4,\n",
       "       23.8, 31. , 26.2, 17.4, 37.9, 17.5, 20. ,  8.3, 23.9,  8.4, 13.8,\n",
       "        7.2, 11.7, 17.1, 21.6, 50. , 16.1, 20.4, 20.6, 21.4, 20.6, 36.5,\n",
       "        8.5, 24.8, 10.8, 21.9, 17.3, 18.9, 36.2, 14.9, 18.2, 33.3, 21.8,\n",
       "       19.7, 31.6, 24.8, 19.4, 22.8,  7.5, 44.8, 16.8, 18.7, 50. , 50. ,\n",
       "       19.5, 20.1, 50. , 17.2, 20.8, 19.3, 41.3, 20.4, 20.5, 13.8, 16.5,\n",
       "       23.9, 20.6, 31.5, 23.3, 16.8, 14. , 33.8, 36.1, 12.8, 18.3, 18.7,\n",
       "       19.1, 29. , 30.1, 50. , 50. , 22. , 11.9, 37.6, 50. , 22.7, 20.8,\n",
       "       23.5, 27.9, 50. , 19.3, 23.9, 22.6, 15.2, 21.7, 19.2, 43.8, 20.3,\n",
       "       33.2, 19.9, 22.5, 32.7, 22. , 17.1, 19. , 15. , 16.1, 25.1, 23.7,\n",
       "       28.7, 37.2, 22.6, 16.4, 25. , 29.8, 22.1, 17.4, 18.1, 30.3, 17.5,\n",
       "       24.7, 12.6, 26.5, 28.7, 13.3, 10.4, 24.4, 23. , 20. , 17.8,  7. ,\n",
       "       11.8, 24.4, 13.8, 19.4, 25.2, 19.4, 19.4, 29.1])"
      ]
     },
     "execution_count": 8,
     "metadata": {},
     "output_type": "execute_result"
    }
   ],
   "source": [
    "y_train"
   ]
  },
  {
   "cell_type": "code",
   "execution_count": 9,
   "metadata": {
    "hidden": true
   },
   "outputs": [
    {
     "data": {
      "text/plain": [
       "array([ 7.2, 18.8, 19. , 27. , 22.2, 24.5, 31.2, 22.9, 20.5, 23.2, 18.6,\n",
       "       14.5, 17.8, 50. , 20.8, 24.3, 24.2, 19.8, 19.1, 22.7, 12. , 10.2,\n",
       "       20. , 18.5, 20.9, 23. , 27.5, 30.1,  9.5, 22. , 21.2, 14.1, 33.1,\n",
       "       23.4, 20.1,  7.4, 15.4, 23.8, 20.1, 24.5, 33. , 28.4, 14.1, 46.7,\n",
       "       32.5, 29.6, 28.4, 19.8, 20.2, 25. , 35.4, 20.3,  9.7, 14.5, 34.9,\n",
       "       26.6,  7.2, 50. , 32.4, 21.6, 29.8, 13.1, 27.5, 21.2, 23.1, 21.9,\n",
       "       13. , 23.2,  8.1,  5.6, 21.7, 29.6, 19.6,  7. , 26.4, 18.9, 20.9,\n",
       "       28.1, 35.4, 10.2, 24.3, 43.1, 17.6, 15.4, 16.2, 27.1, 21.4, 21.5,\n",
       "       22.4, 25. , 16.6, 18.6, 22. , 42.8, 35.1, 21.5, 36. , 21.9, 24.1,\n",
       "       50. , 26.7, 25. ])"
      ]
     },
     "execution_count": 9,
     "metadata": {},
     "output_type": "execute_result"
    }
   ],
   "source": [
    "y_test"
   ]
  },
  {
   "cell_type": "markdown",
   "metadata": {},
   "source": [
    "## Data Preparation"
   ]
  },
  {
   "cell_type": "code",
   "execution_count": 10,
   "metadata": {},
   "outputs": [],
   "source": [
    "import numpy as np"
   ]
  },
  {
   "cell_type": "code",
   "execution_count": 11,
   "metadata": {},
   "outputs": [
    {
     "data": {
      "text/plain": [
       "array([3.74511057e+00, 1.14801980e+01, 1.11044307e+01, 6.18811881e-02,\n",
       "       5.57355941e-01, 6.26708168e+00, 6.90106436e+01, 3.74027079e+00,\n",
       "       9.44059406e+00, 4.05898515e+02, 1.84759901e+01, 3.54783168e+02,\n",
       "       1.27408168e+01])"
      ]
     },
     "execution_count": 11,
     "metadata": {},
     "output_type": "execute_result"
    }
   ],
   "source": [
    "mean = x_train.mean(axis=0)\n",
    "mean"
   ]
  },
  {
   "cell_type": "code",
   "execution_count": 12,
   "metadata": {},
   "outputs": [],
   "source": [
    "x_train -= mean"
   ]
  },
  {
   "cell_type": "code",
   "execution_count": 13,
   "metadata": {},
   "outputs": [
    {
     "data": {
      "text/plain": [
       "array([9.22929073e+00, 2.37382770e+01, 6.80287253e+00, 2.40939633e-01,\n",
       "       1.17147847e-01, 7.08908627e-01, 2.79060634e+01, 2.02770050e+00,\n",
       "       8.68758849e+00, 1.66168506e+02, 2.19765689e+00, 9.39946015e+01,\n",
       "       7.24556085e+00])"
      ]
     },
     "execution_count": 13,
     "metadata": {},
     "output_type": "execute_result"
    }
   ],
   "source": [
    "std = x_train.std(axis=0)\n",
    "std"
   ]
  },
  {
   "cell_type": "code",
   "execution_count": 14,
   "metadata": {},
   "outputs": [],
   "source": [
    "x_train /= std"
   ]
  },
  {
   "cell_type": "code",
   "execution_count": 15,
   "metadata": {},
   "outputs": [],
   "source": [
    "x_test -= mean"
   ]
  },
  {
   "cell_type": "code",
   "execution_count": 16,
   "metadata": {},
   "outputs": [],
   "source": [
    "x_test /= std"
   ]
  },
  {
   "cell_type": "code",
   "execution_count": 17,
   "metadata": {},
   "outputs": [
    {
     "data": {
      "text/plain": [
       "(404, 13)"
      ]
     },
     "execution_count": 17,
     "metadata": {},
     "output_type": "execute_result"
    }
   ],
   "source": [
    "x_train.shape"
   ]
  },
  {
   "cell_type": "markdown",
   "metadata": {},
   "source": [
    "## Network Architecture"
   ]
  },
  {
   "cell_type": "code",
   "execution_count": 18,
   "metadata": {},
   "outputs": [],
   "source": [
    "from keras import models, layers"
   ]
  },
  {
   "cell_type": "code",
   "execution_count": 19,
   "metadata": {},
   "outputs": [],
   "source": [
    "model = models.Sequential()"
   ]
  },
  {
   "cell_type": "code",
   "execution_count": 20,
   "metadata": {},
   "outputs": [],
   "source": [
    "model.add(layers.Dense(64, \n",
    "                       activation='relu',\n",
    "                       input_shape=(x_train.shape[1],)))\n",
    "model.add(layers.Dense(64, \n",
    "                       activation='relu'))\n",
    "model.add(layers.Dense(1))"
   ]
  },
  {
   "cell_type": "code",
   "execution_count": 21,
   "metadata": {},
   "outputs": [
    {
     "name": "stdout",
     "output_type": "stream",
     "text": [
      "_________________________________________________________________\n",
      "Layer (type)                 Output Shape              Param #   \n",
      "=================================================================\n",
      "dense_1 (Dense)              (None, 64)                896       \n",
      "_________________________________________________________________\n",
      "dense_2 (Dense)              (None, 64)                4160      \n",
      "_________________________________________________________________\n",
      "dense_3 (Dense)              (None, 1)                 65        \n",
      "=================================================================\n",
      "Total params: 5,121\n",
      "Trainable params: 5,121\n",
      "Non-trainable params: 0\n",
      "_________________________________________________________________\n"
     ]
    }
   ],
   "source": [
    "model.summary()"
   ]
  },
  {
   "cell_type": "markdown",
   "metadata": {},
   "source": [
    "What are activation functions?\n",
    "\n",
    "`relu`: non-linear. So the NN model can learn non-linear features\n",
    "\n",
    "Else it will be purely linear (affine) in nature"
   ]
  },
  {
   "cell_type": "markdown",
   "metadata": {},
   "source": [
    "## Loss Function and Optimisers"
   ]
  },
  {
   "cell_type": "code",
   "execution_count": 22,
   "metadata": {},
   "outputs": [],
   "source": [
    "from keras import optimizers"
   ]
  },
  {
   "cell_type": "code",
   "execution_count": 23,
   "metadata": {},
   "outputs": [],
   "source": [
    "model.compile(optimizer='rmsprop',\n",
    "              loss='mse',\n",
    "              metrics=['mae'])"
   ]
  },
  {
   "cell_type": "markdown",
   "metadata": {},
   "source": [
    "## Measure the Performance of the NN"
   ]
  },
  {
   "cell_type": "markdown",
   "metadata": {},
   "source": [
    "Let's use some of the training data for validation"
   ]
  },
  {
   "cell_type": "code",
   "execution_count": 24,
   "metadata": {},
   "outputs": [],
   "source": [
    "x_val = x_train[:x_train.shape[0]//4]\n",
    "x_train_1 = x_train[x_train.shape[0]//4:]"
   ]
  },
  {
   "cell_type": "code",
   "execution_count": 25,
   "metadata": {},
   "outputs": [],
   "source": [
    "y_val = y_train[:x_train.shape[0]//4]\n",
    "y_train_1 = y_train[x_train.shape[0]//4:]"
   ]
  },
  {
   "cell_type": "code",
   "execution_count": 26,
   "metadata": {},
   "outputs": [
    {
     "data": {
      "text/plain": [
       "(303, 13)"
      ]
     },
     "execution_count": 26,
     "metadata": {},
     "output_type": "execute_result"
    }
   ],
   "source": [
    "x_train_1.shape"
   ]
  },
  {
   "cell_type": "code",
   "execution_count": 27,
   "metadata": {},
   "outputs": [
    {
     "data": {
      "text/plain": [
       "(303,)"
      ]
     },
     "execution_count": 27,
     "metadata": {},
     "output_type": "execute_result"
    }
   ],
   "source": [
    "y_train_1.shape"
   ]
  },
  {
   "cell_type": "code",
   "execution_count": 28,
   "metadata": {},
   "outputs": [
    {
     "data": {
      "text/plain": [
       "array([-0.27224633, -0.48361547, -0.43576161, -0.25683275, -0.1652266 ,\n",
       "       -0.1764426 ,  0.81306188,  0.1166983 , -0.62624905, -0.59517003,\n",
       "        1.14850044,  0.44807713,  0.8252202 ])"
      ]
     },
     "execution_count": 28,
     "metadata": {},
     "output_type": "execute_result"
    }
   ],
   "source": [
    "x_train[0]"
   ]
  },
  {
   "cell_type": "code",
   "execution_count": 29,
   "metadata": {
    "scrolled": false
   },
   "outputs": [
    {
     "name": "stdout",
     "output_type": "stream",
     "text": [
      "Train on 303 samples, validate on 101 samples\n",
      "Epoch 1/100\n",
      "303/303 [==============================] - 2s 6ms/step - loss: 202.3814 - mean_absolute_error: 10.7722 - val_loss: 35.6699 - val_mean_absolute_error: 4.0277\n",
      "Epoch 2/100\n",
      "303/303 [==============================] - 1s 2ms/step - loss: 30.2373 - mean_absolute_error: 3.8334 - val_loss: 20.8735 - val_mean_absolute_error: 3.1098\n",
      "Epoch 3/100\n",
      "303/303 [==============================] - 1s 2ms/step - loss: 21.3092 - mean_absolute_error: 3.1753 - val_loss: 20.0278 - val_mean_absolute_error: 2.9640\n",
      "Epoch 4/100\n",
      "303/303 [==============================] - 1s 2ms/step - loss: 18.2486 - mean_absolute_error: 2.8959 - val_loss: 18.2133 - val_mean_absolute_error: 2.7662\n",
      "Epoch 5/100\n",
      "303/303 [==============================] - 1s 2ms/step - loss: 16.6024 - mean_absolute_error: 2.6640 - val_loss: 14.4925 - val_mean_absolute_error: 2.6143\n",
      "Epoch 6/100\n",
      "303/303 [==============================] - 1s 2ms/step - loss: 15.4888 - mean_absolute_error: 2.5713 - val_loss: 15.5081 - val_mean_absolute_error: 2.8297\n",
      "Epoch 7/100\n",
      "303/303 [==============================] - 1s 2ms/step - loss: 14.2158 - mean_absolute_error: 2.5346 - val_loss: 11.6177 - val_mean_absolute_error: 2.1780\n",
      "Epoch 8/100\n",
      "303/303 [==============================] - 1s 2ms/step - loss: 13.8676 - mean_absolute_error: 2.4219 - val_loss: 10.9579 - val_mean_absolute_error: 2.2124\n",
      "Epoch 9/100\n",
      "303/303 [==============================] - 1s 2ms/step - loss: 13.3236 - mean_absolute_error: 2.4053 - val_loss: 11.0290 - val_mean_absolute_error: 2.4079\n",
      "Epoch 10/100\n",
      "303/303 [==============================] - 1s 2ms/step - loss: 12.2322 - mean_absolute_error: 2.3711 - val_loss: 10.7856 - val_mean_absolute_error: 2.4768\n",
      "Epoch 11/100\n",
      "303/303 [==============================] - 1s 2ms/step - loss: 12.0429 - mean_absolute_error: 2.2840 - val_loss: 11.0054 - val_mean_absolute_error: 2.6437\n",
      "Epoch 12/100\n",
      "303/303 [==============================] - 1s 2ms/step - loss: 11.0378 - mean_absolute_error: 2.2667 - val_loss: 12.1238 - val_mean_absolute_error: 2.1944\n",
      "Epoch 13/100\n",
      "303/303 [==============================] - 1s 2ms/step - loss: 11.0410 - mean_absolute_error: 2.2168 - val_loss: 10.0324 - val_mean_absolute_error: 2.3531\n",
      "Epoch 14/100\n",
      "303/303 [==============================] - 1s 2ms/step - loss: 10.9247 - mean_absolute_error: 2.1709 - val_loss: 9.9728 - val_mean_absolute_error: 1.9888\n",
      "Epoch 15/100\n",
      "303/303 [==============================] - 1s 2ms/step - loss: 10.8698 - mean_absolute_error: 2.1458 - val_loss: 8.8595 - val_mean_absolute_error: 2.0924\n",
      "Epoch 16/100\n",
      "303/303 [==============================] - 1s 2ms/step - loss: 10.0222 - mean_absolute_error: 2.1528 - val_loss: 11.2212 - val_mean_absolute_error: 2.1394\n",
      "Epoch 17/100\n",
      "303/303 [==============================] - 1s 2ms/step - loss: 10.6232 - mean_absolute_error: 2.0763 - val_loss: 9.4834 - val_mean_absolute_error: 2.3191\n",
      "Epoch 18/100\n",
      "303/303 [==============================] - 1s 2ms/step - loss: 10.1178 - mean_absolute_error: 2.0736 - val_loss: 10.3359 - val_mean_absolute_error: 2.2372\n",
      "Epoch 19/100\n",
      "303/303 [==============================] - 1s 2ms/step - loss: 9.7737 - mean_absolute_error: 2.0347 - val_loss: 8.7322 - val_mean_absolute_error: 2.0579\n",
      "Epoch 20/100\n",
      "303/303 [==============================] - 1s 2ms/step - loss: 9.7840 - mean_absolute_error: 2.0008 - val_loss: 9.1137 - val_mean_absolute_error: 2.2349\n",
      "Epoch 21/100\n",
      "303/303 [==============================] - 1s 2ms/step - loss: 9.2096 - mean_absolute_error: 2.0093 - val_loss: 8.7604 - val_mean_absolute_error: 2.2353\n",
      "Epoch 22/100\n",
      "303/303 [==============================] - 1s 2ms/step - loss: 8.9584 - mean_absolute_error: 2.0102 - val_loss: 8.4853 - val_mean_absolute_error: 1.9784\n",
      "Epoch 23/100\n",
      "303/303 [==============================] - 1s 2ms/step - loss: 9.6401 - mean_absolute_error: 1.9862 - val_loss: 9.4946 - val_mean_absolute_error: 1.9904\n",
      "Epoch 24/100\n",
      "303/303 [==============================] - 1s 2ms/step - loss: 8.7674 - mean_absolute_error: 1.9614 - val_loss: 9.0507 - val_mean_absolute_error: 1.9598\n",
      "Epoch 25/100\n",
      "303/303 [==============================] - 1s 2ms/step - loss: 8.4997 - mean_absolute_error: 1.9485 - val_loss: 10.2136 - val_mean_absolute_error: 2.4811\n",
      "Epoch 26/100\n",
      "303/303 [==============================] - 1s 2ms/step - loss: 8.9046 - mean_absolute_error: 1.9507 - val_loss: 9.5939 - val_mean_absolute_error: 2.0976\n",
      "Epoch 27/100\n",
      "303/303 [==============================] - 1s 2ms/step - loss: 8.3395 - mean_absolute_error: 1.8963 - val_loss: 7.8219 - val_mean_absolute_error: 2.0805\n",
      "Epoch 28/100\n",
      "303/303 [==============================] - 1s 2ms/step - loss: 7.9938 - mean_absolute_error: 1.8877 - val_loss: 10.2078 - val_mean_absolute_error: 2.5343\n",
      "Epoch 29/100\n",
      "303/303 [==============================] - 1s 2ms/step - loss: 8.2561 - mean_absolute_error: 1.8483 - val_loss: 9.4016 - val_mean_absolute_error: 2.2593\n",
      "Epoch 30/100\n",
      "303/303 [==============================] - 1s 2ms/step - loss: 8.1531 - mean_absolute_error: 1.8470 - val_loss: 8.9889 - val_mean_absolute_error: 2.0760\n",
      "Epoch 31/100\n",
      "303/303 [==============================] - 1s 2ms/step - loss: 8.0918 - mean_absolute_error: 1.8821 - val_loss: 8.3211 - val_mean_absolute_error: 1.8413\n",
      "Epoch 32/100\n",
      "303/303 [==============================] - 1s 2ms/step - loss: 7.7916 - mean_absolute_error: 1.7844 - val_loss: 8.1176 - val_mean_absolute_error: 1.9159\n",
      "Epoch 33/100\n",
      "303/303 [==============================] - 1s 2ms/step - loss: 7.6513 - mean_absolute_error: 1.8420 - val_loss: 8.4504 - val_mean_absolute_error: 2.1325\n",
      "Epoch 34/100\n",
      "303/303 [==============================] - 1s 2ms/step - loss: 7.5455 - mean_absolute_error: 1.8289 - val_loss: 8.8618 - val_mean_absolute_error: 1.8850\n",
      "Epoch 35/100\n",
      "303/303 [==============================] - 1s 2ms/step - loss: 7.6217 - mean_absolute_error: 1.7378 - val_loss: 7.8906 - val_mean_absolute_error: 1.9406\n",
      "Epoch 36/100\n",
      "303/303 [==============================] - 1s 2ms/step - loss: 7.4117 - mean_absolute_error: 1.7156 - val_loss: 8.2792 - val_mean_absolute_error: 2.0886\n",
      "Epoch 37/100\n",
      "303/303 [==============================] - 1s 2ms/step - loss: 7.5525 - mean_absolute_error: 1.7246 - val_loss: 9.2203 - val_mean_absolute_error: 2.2074\n",
      "Epoch 38/100\n",
      "303/303 [==============================] - 1s 2ms/step - loss: 7.3294 - mean_absolute_error: 1.7586 - val_loss: 8.1605 - val_mean_absolute_error: 2.0040\n",
      "Epoch 39/100\n",
      "303/303 [==============================] - 1s 2ms/step - loss: 7.0032 - mean_absolute_error: 1.7166 - val_loss: 8.7078 - val_mean_absolute_error: 2.0729\n",
      "Epoch 40/100\n",
      "303/303 [==============================] - 1s 2ms/step - loss: 7.3476 - mean_absolute_error: 1.7488 - val_loss: 8.9813 - val_mean_absolute_error: 2.0173\n",
      "Epoch 41/100\n",
      "303/303 [==============================] - 1s 2ms/step - loss: 6.9204 - mean_absolute_error: 1.7225 - val_loss: 9.5421 - val_mean_absolute_error: 2.2342\n",
      "Epoch 42/100\n",
      "303/303 [==============================] - 1s 2ms/step - loss: 6.9406 - mean_absolute_error: 1.7144 - val_loss: 9.3374 - val_mean_absolute_error: 2.1584\n",
      "Epoch 43/100\n",
      "303/303 [==============================] - 1s 2ms/step - loss: 6.9939 - mean_absolute_error: 1.7253 - val_loss: 9.4204 - val_mean_absolute_error: 2.0813\n",
      "Epoch 44/100\n",
      "303/303 [==============================] - 1s 2ms/step - loss: 6.8918 - mean_absolute_error: 1.6638 - val_loss: 8.9182 - val_mean_absolute_error: 2.1378\n",
      "Epoch 45/100\n",
      "303/303 [==============================] - 1s 2ms/step - loss: 6.5687 - mean_absolute_error: 1.7021 - val_loss: 8.6706 - val_mean_absolute_error: 2.0170\n",
      "Epoch 46/100\n",
      "303/303 [==============================] - 1s 2ms/step - loss: 6.6289 - mean_absolute_error: 1.6692 - val_loss: 8.6144 - val_mean_absolute_error: 2.0193\n",
      "Epoch 47/100\n",
      "303/303 [==============================] - 1s 2ms/step - loss: 6.4872 - mean_absolute_error: 1.6286 - val_loss: 9.1923 - val_mean_absolute_error: 2.1354\n",
      "Epoch 48/100\n",
      "303/303 [==============================] - 1s 2ms/step - loss: 6.5865 - mean_absolute_error: 1.6014 - val_loss: 8.9666 - val_mean_absolute_error: 2.0876\n",
      "Epoch 49/100\n",
      "303/303 [==============================] - 1s 2ms/step - loss: 6.6735 - mean_absolute_error: 1.6515 - val_loss: 7.9339 - val_mean_absolute_error: 2.0190\n"
     ]
    },
    {
     "name": "stdout",
     "output_type": "stream",
     "text": [
      "Epoch 50/100\n",
      "303/303 [==============================] - 1s 2ms/step - loss: 6.5820 - mean_absolute_error: 1.7012 - val_loss: 9.0582 - val_mean_absolute_error: 2.1258\n",
      "Epoch 51/100\n",
      "303/303 [==============================] - 1s 2ms/step - loss: 6.4808 - mean_absolute_error: 1.6267 - val_loss: 8.9928 - val_mean_absolute_error: 2.2110\n",
      "Epoch 52/100\n",
      "303/303 [==============================] - 1s 2ms/step - loss: 6.3355 - mean_absolute_error: 1.6529 - val_loss: 7.9733 - val_mean_absolute_error: 1.8948\n",
      "Epoch 53/100\n",
      "303/303 [==============================] - 1s 2ms/step - loss: 5.9795 - mean_absolute_error: 1.6531 - val_loss: 14.9157 - val_mean_absolute_error: 3.1194\n",
      "Epoch 54/100\n",
      "303/303 [==============================] - 1s 2ms/step - loss: 6.5591 - mean_absolute_error: 1.6040 - val_loss: 7.7643 - val_mean_absolute_error: 1.9258\n",
      "Epoch 55/100\n",
      "303/303 [==============================] - 1s 2ms/step - loss: 6.4371 - mean_absolute_error: 1.6016 - val_loss: 8.9263 - val_mean_absolute_error: 2.1386\n",
      "Epoch 56/100\n",
      "303/303 [==============================] - 1s 2ms/step - loss: 6.0576 - mean_absolute_error: 1.6010 - val_loss: 8.0537 - val_mean_absolute_error: 1.9640\n",
      "Epoch 57/100\n",
      "303/303 [==============================] - 1s 2ms/step - loss: 6.2085 - mean_absolute_error: 1.5999 - val_loss: 8.9845 - val_mean_absolute_error: 2.1605\n",
      "Epoch 58/100\n",
      "303/303 [==============================] - 1s 2ms/step - loss: 5.8585 - mean_absolute_error: 1.5200 - val_loss: 9.2011 - val_mean_absolute_error: 2.1318\n",
      "Epoch 59/100\n",
      "303/303 [==============================] - 1s 2ms/step - loss: 5.9597 - mean_absolute_error: 1.5694 - val_loss: 9.0991 - val_mean_absolute_error: 2.1520\n",
      "Epoch 60/100\n",
      "303/303 [==============================] - 1s 2ms/step - loss: 6.2807 - mean_absolute_error: 1.5781 - val_loss: 9.2640 - val_mean_absolute_error: 1.9497\n",
      "Epoch 61/100\n",
      "303/303 [==============================] - 1s 2ms/step - loss: 6.1632 - mean_absolute_error: 1.5948 - val_loss: 8.8727 - val_mean_absolute_error: 2.1502\n",
      "Epoch 62/100\n",
      "303/303 [==============================] - 1s 2ms/step - loss: 6.0431 - mean_absolute_error: 1.4960 - val_loss: 8.3326 - val_mean_absolute_error: 2.0093\n",
      "Epoch 63/100\n",
      "303/303 [==============================] - 1s 2ms/step - loss: 5.4033 - mean_absolute_error: 1.5748 - val_loss: 8.2898 - val_mean_absolute_error: 2.0375\n",
      "Epoch 64/100\n",
      "303/303 [==============================] - 1s 2ms/step - loss: 5.8849 - mean_absolute_error: 1.5851 - val_loss: 8.4194 - val_mean_absolute_error: 2.0678\n",
      "Epoch 65/100\n",
      "303/303 [==============================] - 1s 2ms/step - loss: 5.7638 - mean_absolute_error: 1.5806 - val_loss: 7.7839 - val_mean_absolute_error: 1.9529\n",
      "Epoch 66/100\n",
      "303/303 [==============================] - 1s 2ms/step - loss: 5.6050 - mean_absolute_error: 1.5762 - val_loss: 8.2449 - val_mean_absolute_error: 2.1070\n",
      "Epoch 67/100\n",
      "303/303 [==============================] - 1s 2ms/step - loss: 5.4479 - mean_absolute_error: 1.4771 - val_loss: 8.7926 - val_mean_absolute_error: 2.1618\n",
      "Epoch 68/100\n",
      "303/303 [==============================] - 1s 2ms/step - loss: 5.2724 - mean_absolute_error: 1.4710 - val_loss: 8.2927 - val_mean_absolute_error: 2.0118\n",
      "Epoch 69/100\n",
      "303/303 [==============================] - 1s 2ms/step - loss: 5.5825 - mean_absolute_error: 1.4698 - val_loss: 7.7787 - val_mean_absolute_error: 2.0927\n",
      "Epoch 70/100\n",
      "303/303 [==============================] - 1s 2ms/step - loss: 5.6530 - mean_absolute_error: 1.4516 - val_loss: 8.1723 - val_mean_absolute_error: 2.0142\n",
      "Epoch 71/100\n",
      "303/303 [==============================] - 1s 2ms/step - loss: 5.4686 - mean_absolute_error: 1.5062 - val_loss: 8.7926 - val_mean_absolute_error: 2.1148\n",
      "Epoch 72/100\n",
      "303/303 [==============================] - 1s 2ms/step - loss: 5.3648 - mean_absolute_error: 1.4565 - val_loss: 8.8046 - val_mean_absolute_error: 2.1531\n",
      "Epoch 73/100\n",
      "303/303 [==============================] - 1s 2ms/step - loss: 5.2525 - mean_absolute_error: 1.4372 - val_loss: 9.1539 - val_mean_absolute_error: 2.1955\n",
      "Epoch 74/100\n",
      "303/303 [==============================] - 1s 2ms/step - loss: 5.1318 - mean_absolute_error: 1.4939 - val_loss: 9.2450 - val_mean_absolute_error: 2.1775\n",
      "Epoch 75/100\n",
      "303/303 [==============================] - 1s 2ms/step - loss: 5.0953 - mean_absolute_error: 1.5147 - val_loss: 8.0042 - val_mean_absolute_error: 2.1145\n",
      "Epoch 76/100\n",
      "303/303 [==============================] - 1s 2ms/step - loss: 5.3934 - mean_absolute_error: 1.4860 - val_loss: 8.0099 - val_mean_absolute_error: 2.0336\n",
      "Epoch 77/100\n",
      "303/303 [==============================] - 1s 2ms/step - loss: 5.2305 - mean_absolute_error: 1.4204 - val_loss: 7.6903 - val_mean_absolute_error: 2.0564\n",
      "Epoch 78/100\n",
      "303/303 [==============================] - 1s 2ms/step - loss: 5.4523 - mean_absolute_error: 1.5135 - val_loss: 8.7649 - val_mean_absolute_error: 2.1148\n",
      "Epoch 79/100\n",
      "303/303 [==============================] - 1s 2ms/step - loss: 4.9771 - mean_absolute_error: 1.4175 - val_loss: 9.9444 - val_mean_absolute_error: 2.3058\n",
      "Epoch 80/100\n",
      "303/303 [==============================] - 1s 2ms/step - loss: 5.0669 - mean_absolute_error: 1.4414 - val_loss: 9.4546 - val_mean_absolute_error: 2.2748\n",
      "Epoch 81/100\n",
      "303/303 [==============================] - 1s 2ms/step - loss: 5.1745 - mean_absolute_error: 1.4330 - val_loss: 7.5396 - val_mean_absolute_error: 2.0704\n",
      "Epoch 82/100\n",
      "303/303 [==============================] - 1s 2ms/step - loss: 4.9792 - mean_absolute_error: 1.4754 - val_loss: 8.8004 - val_mean_absolute_error: 2.1202\n",
      "Epoch 83/100\n",
      "303/303 [==============================] - 1s 2ms/step - loss: 5.0759 - mean_absolute_error: 1.4530 - val_loss: 8.1285 - val_mean_absolute_error: 2.0428\n",
      "Epoch 84/100\n",
      "303/303 [==============================] - 1s 2ms/step - loss: 4.8945 - mean_absolute_error: 1.4513 - val_loss: 7.7911 - val_mean_absolute_error: 2.0131\n",
      "Epoch 85/100\n",
      "303/303 [==============================] - 1s 2ms/step - loss: 4.9236 - mean_absolute_error: 1.3894 - val_loss: 8.1319 - val_mean_absolute_error: 2.0124\n",
      "Epoch 86/100\n",
      "303/303 [==============================] - 1s 2ms/step - loss: 5.0557 - mean_absolute_error: 1.4540 - val_loss: 8.1291 - val_mean_absolute_error: 1.9858\n",
      "Epoch 87/100\n",
      "303/303 [==============================] - 1s 2ms/step - loss: 4.9589 - mean_absolute_error: 1.4398 - val_loss: 8.0710 - val_mean_absolute_error: 2.0262\n",
      "Epoch 88/100\n",
      "303/303 [==============================] - 1s 2ms/step - loss: 4.6951 - mean_absolute_error: 1.3556 - val_loss: 9.3129 - val_mean_absolute_error: 2.1276\n",
      "Epoch 89/100\n",
      "303/303 [==============================] - 1s 2ms/step - loss: 4.8018 - mean_absolute_error: 1.3758 - val_loss: 10.0407 - val_mean_absolute_error: 2.3350\n",
      "Epoch 90/100\n",
      "303/303 [==============================] - 1s 2ms/step - loss: 4.5727 - mean_absolute_error: 1.4072 - val_loss: 9.8757 - val_mean_absolute_error: 2.3651\n",
      "Epoch 91/100\n",
      "303/303 [==============================] - 1s 2ms/step - loss: 4.8274 - mean_absolute_error: 1.4134 - val_loss: 8.4332 - val_mean_absolute_error: 2.1605\n",
      "Epoch 92/100\n",
      "303/303 [==============================] - 1s 2ms/step - loss: 4.2261 - mean_absolute_error: 1.4142 - val_loss: 11.1692 - val_mean_absolute_error: 2.4405\n",
      "Epoch 93/100\n",
      "303/303 [==============================] - 1s 2ms/step - loss: 4.3343 - mean_absolute_error: 1.3967 - val_loss: 8.7725 - val_mean_absolute_error: 2.1582\n",
      "Epoch 94/100\n",
      "303/303 [==============================] - 1s 2ms/step - loss: 4.7743 - mean_absolute_error: 1.3777 - val_loss: 8.7838 - val_mean_absolute_error: 2.2469\n",
      "Epoch 95/100\n",
      "303/303 [==============================] - 1s 2ms/step - loss: 4.0427 - mean_absolute_error: 1.3264 - val_loss: 8.7843 - val_mean_absolute_error: 2.2519\n",
      "Epoch 96/100\n",
      "303/303 [==============================] - 1s 2ms/step - loss: 4.4616 - mean_absolute_error: 1.3707 - val_loss: 8.5713 - val_mean_absolute_error: 2.1432\n",
      "Epoch 97/100\n",
      "303/303 [==============================] - 1s 2ms/step - loss: 4.4341 - mean_absolute_error: 1.3784 - val_loss: 8.7889 - val_mean_absolute_error: 2.2283\n",
      "Epoch 98/100\n",
      "303/303 [==============================] - 1s 2ms/step - loss: 4.1975 - mean_absolute_error: 1.3820 - val_loss: 8.3712 - val_mean_absolute_error: 2.1036\n",
      "Epoch 99/100\n",
      "303/303 [==============================] - 1s 2ms/step - loss: 4.3981 - mean_absolute_error: 1.3560 - val_loss: 8.4952 - val_mean_absolute_error: 2.0399\n",
      "Epoch 100/100\n",
      "303/303 [==============================] - 1s 2ms/step - loss: 4.2397 - mean_absolute_error: 1.3375 - val_loss: 7.9761 - val_mean_absolute_error: 2.0957\n"
     ]
    }
   ],
   "source": [
    "history = model.fit(x_train_1,\n",
    "                    y_train_1,\n",
    "                    epochs=100,\n",
    "                    batch_size=1,\n",
    "                    validation_data=(x_val, y_val))"
   ]
  },
  {
   "cell_type": "code",
   "execution_count": 30,
   "metadata": {},
   "outputs": [],
   "source": [
    "history_dict = history.history"
   ]
  },
  {
   "cell_type": "code",
   "execution_count": 31,
   "metadata": {},
   "outputs": [
    {
     "data": {
      "text/plain": [
       "dict_keys(['val_loss', 'val_mean_absolute_error', 'loss', 'mean_absolute_error'])"
      ]
     },
     "execution_count": 31,
     "metadata": {},
     "output_type": "execute_result"
    }
   ],
   "source": [
    "history_dict.keys()"
   ]
  },
  {
   "cell_type": "markdown",
   "metadata": {},
   "source": [
    "## Visualisation Performance"
   ]
  },
  {
   "cell_type": "code",
   "execution_count": 32,
   "metadata": {},
   "outputs": [],
   "source": [
    "import matplotlib.pyplot as plt"
   ]
  },
  {
   "cell_type": "code",
   "execution_count": 33,
   "metadata": {},
   "outputs": [],
   "source": [
    "epochs = range(1, len(history_dict['mean_absolute_error']) + 1)"
   ]
  },
  {
   "cell_type": "code",
   "execution_count": 39,
   "metadata": {},
   "outputs": [
    {
     "data": {
      "image/png": "[encoded data removed]",
      "text/plain": [
       "<Figure size 432x288 with 1 Axes>"
      ]
     },
     "metadata": {},
     "output_type": "display_data"
    }
   ],
   "source": [
    "plt.style.use('ggplot')\n",
    "plt.plot(epochs[1:], history_dict['loss'][1:], 'bo', \n",
    "         label='Loss')\n",
    "plt.plot(epochs[1:], history_dict['val_loss'][1:], 'b',\n",
    "         label='Validation Loss')\n",
    "plt.xlabel('Epochs')\n",
    "plt.ylabel('Loss')\n",
    "plt.legend();"
   ]
  },
  {
   "cell_type": "code",
   "execution_count": 42,
   "metadata": {},
   "outputs": [
    {
     "data": {
      "image/png": "[encoded data removed]",
      "text/plain": [
       "<Figure size 432x288 with 1 Axes>"
      ]
     },
     "metadata": {},
     "output_type": "display_data"
    }
   ],
   "source": [
    "plt.clf()\n",
    "mae_values = history_dict['mean_absolute_error']\n",
    "val_mae_values = history_dict['val_loss']\n",
    "\n",
    "plt.plot(epochs[1:], mae_values[1:], 'bo', \n",
    "         label='Training MAE')\n",
    "plt.plot(epochs[1:], val_mae_values[1:], 'b',\n",
    "         label='Validation MAE')\n",
    "plt.xlabel('Epochs')\n",
    "plt.ylabel('MAE')\n",
    "plt.legend();"
   ]
  },
  {
   "cell_type": "code",
   "execution_count": 37,
   "metadata": {},
   "outputs": [
    {
     "name": "stdout",
     "output_type": "stream",
     "text": [
      "102/102 [==============================] - 0s 59us/step\n"
     ]
    }
   ],
   "source": [
    "test_mse_score, test_mae_score = model.evaluate(x_test, y_test)"
   ]
  },
  {
   "cell_type": "code",
   "execution_count": 38,
   "metadata": {},
   "outputs": [
    {
     "data": {
      "text/plain": [
       "2.270709645514395"
      ]
     },
     "execution_count": 38,
     "metadata": {},
     "output_type": "execute_result"
    }
   ],
   "source": [
    "test_mae_score"
   ]
  },
  {
   "cell_type": "markdown",
   "metadata": {},
   "source": [
    "***"
   ]
  }
 ],
 "metadata": {
  "kernelspec": {
   "display_name": "Python 3",
   "language": "python",
   "name": "python3"
  },
  "language_info": {
   "codemirror_mode": {
    "name": "ipython",
    "version": 3
   },
   "file_extension": ".py",
   "mimetype": "text/x-python",
   "name": "python",
   "nbconvert_exporter": "python",
   "pygments_lexer": "ipython3",
   "version": "3.6.5"
  }
 },
 "nbformat": 4,
 "nbformat_minor": 2
}
