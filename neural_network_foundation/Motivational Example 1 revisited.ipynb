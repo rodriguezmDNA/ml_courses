{
 "cells": [
  {
   "cell_type": "markdown",
   "metadata": {},
   "source": [
    "# Motivational Example\n"
   ]
  },
  {
   "cell_type": "markdown",
   "metadata": {},
   "source": [
    "## Download Data"
   ]
  },
  {
   "cell_type": "markdown",
   "metadata": {},
   "source": [
    "reference: [chollet](https://github.com/fchollet/deep-learning-with-python-notebooks)"
   ]
  },
  {
   "cell_type": "code",
   "execution_count": 1,
   "metadata": {},
   "outputs": [
    {
     "name": "stderr",
     "output_type": "stream",
     "text": [
      "Using TensorFlow backend.\n"
     ]
    },
    {
     "data": {
      "text/plain": [
       "'2.1.5'"
      ]
     },
     "execution_count": 1,
     "metadata": {},
     "output_type": "execute_result"
    }
   ],
   "source": [
    "import numpy as np\n",
    "import keras\n",
    "keras.__version__"
   ]
  },
  {
   "cell_type": "code",
   "execution_count": 2,
   "metadata": {},
   "outputs": [],
   "source": [
    "from keras.datasets import mnist\n",
    "(x_train, y_train), (x_test, y_test) = mnist.load_data()"
   ]
  },
  {
   "cell_type": "markdown",
   "metadata": {},
   "source": [
    "## Comparing Different NN Architecture"
   ]
  },
  {
   "cell_type": "code",
   "execution_count": 3,
   "metadata": {},
   "outputs": [],
   "source": [
    "x_train_input = x_train.reshape((60000, 28 * 28))\n",
    "x_train_input = x_train_input.astype('float32') / 255\n",
    "x_test_input = x_test.reshape((10000, 28 * 28))\n",
    "x_test_input = x_test_input.astype('float32') / 255\n",
    "from keras.utils import to_categorical\n",
    "y_train = to_categorical(y_train)\n",
    "y_test = to_categorical(y_test)"
   ]
  },
  {
   "cell_type": "code",
   "execution_count": 4,
   "metadata": {
    "scrolled": false
   },
   "outputs": [
    {
     "name": "stdout",
     "output_type": "stream",
     "text": [
      "_________________________________________________________________\n",
      "Layer (type)                 Output Shape              Param #   \n",
      "=================================================================\n",
      "dense_1 (Dense)              (None, 512)               401920    \n",
      "_________________________________________________________________\n",
      "dense_2 (Dense)              (None, 10)                5130      \n",
      "=================================================================\n",
      "Total params: 407,050\n",
      "Trainable params: 407,050\n",
      "Non-trainable params: 0\n",
      "_________________________________________________________________\n",
      "Train on 60000 samples, validate on 10000 samples\n",
      "Epoch 1/10\n",
      "60000/60000 [==============================] - 3s 47us/step - loss: 0.3933 - acc: 0.8891 - val_loss: 0.2184 - val_acc: 0.9342\n",
      "Epoch 2/10\n",
      "60000/60000 [==============================] - 3s 46us/step - loss: 0.1734 - acc: 0.9501 - val_loss: 0.1448 - val_acc: 0.9552\n",
      "Epoch 3/10\n",
      "60000/60000 [==============================] - 3s 46us/step - loss: 0.1174 - acc: 0.9664 - val_loss: 0.1475 - val_acc: 0.9546\n",
      "Epoch 4/10\n",
      "60000/60000 [==============================] - 3s 46us/step - loss: 0.0887 - acc: 0.9741 - val_loss: 0.1149 - val_acc: 0.9623\n",
      "Epoch 5/10\n",
      "60000/60000 [==============================] - 3s 46us/step - loss: 0.0691 - acc: 0.9799 - val_loss: 0.1025 - val_acc: 0.9679\n",
      "Epoch 6/10\n",
      "60000/60000 [==============================] - 3s 51us/step - loss: 0.0561 - acc: 0.9835 - val_loss: 0.0817 - val_acc: 0.9748\n",
      "Epoch 7/10\n",
      "60000/60000 [==============================] - 3s 52us/step - loss: 0.0450 - acc: 0.9871 - val_loss: 0.0865 - val_acc: 0.9721\n",
      "Epoch 8/10\n",
      "60000/60000 [==============================] - 3s 46us/step - loss: 0.0368 - acc: 0.9894 - val_loss: 0.0999 - val_acc: 0.9669\n",
      "Epoch 9/10\n",
      "60000/60000 [==============================] - 3s 46us/step - loss: 0.0306 - acc: 0.9915 - val_loss: 0.0691 - val_acc: 0.9779\n",
      "Epoch 10/10\n",
      "60000/60000 [==============================] - 3s 46us/step - loss: 0.0252 - acc: 0.9933 - val_loss: 0.0729 - val_acc: 0.9772\n"
     ]
    }
   ],
   "source": [
    "from keras import models\n",
    "from keras import layers\n",
    "\n",
    "model = models.Sequential()\n",
    "model.add(layers.Dense(units=512, activation='relu', input_shape=(28 * 28,)))\n",
    "model.add(layers.Dense(units=10, activation='softmax'))\n",
    "model.summary()\n",
    "\n",
    "model.compile(optimizer='rmsprop',\n",
    "              loss='categorical_crossentropy',\n",
    "              metrics=['accuracy'])\n",
    "history = model.fit(x_train_input, y_train,\n",
    "                    epochs=10, batch_size=512,\n",
    "                    validation_data=(x_test_input, y_test))"
   ]
  },
  {
   "cell_type": "code",
   "execution_count": 5,
   "metadata": {
    "scrolled": false
   },
   "outputs": [
    {
     "name": "stdout",
     "output_type": "stream",
     "text": [
      "_________________________________________________________________\n",
      "Layer (type)                 Output Shape              Param #   \n",
      "=================================================================\n",
      "dense_3 (Dense)              (None, 4)                 3140      \n",
      "_________________________________________________________________\n",
      "dense_4 (Dense)              (None, 10)                50        \n",
      "=================================================================\n",
      "Total params: 3,190\n",
      "Trainable params: 3,190\n",
      "Non-trainable params: 0\n",
      "_________________________________________________________________\n",
      "Train on 60000 samples, validate on 10000 samples\n",
      "Epoch 1/10\n",
      "60000/60000 [==============================] - 1s 9us/step - loss: 1.8985 - acc: 0.3359 - val_loss: 1.6496 - val_acc: 0.4375\n",
      "Epoch 2/10\n",
      "60000/60000 [==============================] - 0s 8us/step - loss: 1.4741 - acc: 0.5252 - val_loss: 1.3065 - val_acc: 0.6022\n",
      "Epoch 3/10\n",
      "60000/60000 [==============================] - 0s 8us/step - loss: 1.1837 - acc: 0.6340 - val_loss: 1.0544 - val_acc: 0.6738\n",
      "Epoch 4/10\n",
      "60000/60000 [==============================] - 0s 8us/step - loss: 0.9555 - acc: 0.7030 - val_loss: 0.8579 - val_acc: 0.7356\n",
      "Epoch 5/10\n",
      "60000/60000 [==============================] - 0s 8us/step - loss: 0.8124 - acc: 0.7505 - val_loss: 0.7536 - val_acc: 0.7694\n",
      "Epoch 6/10\n",
      "60000/60000 [==============================] - 0s 8us/step - loss: 0.7377 - acc: 0.7768 - val_loss: 0.7014 - val_acc: 0.7868\n",
      "Epoch 7/10\n",
      "60000/60000 [==============================] - 0s 8us/step - loss: 0.6928 - acc: 0.7934 - val_loss: 0.6658 - val_acc: 0.7968\n",
      "Epoch 8/10\n",
      "60000/60000 [==============================] - 0s 8us/step - loss: 0.6619 - acc: 0.8054 - val_loss: 0.6419 - val_acc: 0.8087\n",
      "Epoch 9/10\n",
      "60000/60000 [==============================] - 0s 8us/step - loss: 0.6387 - acc: 0.8128 - val_loss: 0.6238 - val_acc: 0.8175\n",
      "Epoch 10/10\n",
      "60000/60000 [==============================] - 0s 8us/step - loss: 0.6203 - acc: 0.8202 - val_loss: 0.6053 - val_acc: 0.8215\n"
     ]
    }
   ],
   "source": [
    "smaller_model = models.Sequential()\n",
    "smaller_model.add(layers.Dense(4, activation='relu', input_shape=(28 * 28,)))\n",
    "smaller_model.add(layers.Dense(10, activation='softmax'))\n",
    "smaller_model.summary()\n",
    "\n",
    "smaller_model.compile(optimizer='rmsprop',\n",
    "                      loss='categorical_crossentropy',\n",
    "                      metrics=['accuracy'])\n",
    "smaller_model_history = smaller_model.fit(x_train_input, y_train,\n",
    "                                          epochs=10, batch_size=512,\n",
    "                                          validation_data=(x_test_input, y_test))"
   ]
  },
  {
   "cell_type": "code",
   "execution_count": 6,
   "metadata": {},
   "outputs": [],
   "source": [
    "epochs = range(1, 11)\n",
    "original_model_val_loss = history.history['val_loss']\n",
    "smaller_model_val_loss = smaller_model_history.history['val_loss']"
   ]
  },
  {
   "cell_type": "markdown",
   "metadata": {},
   "source": [
    "From the picture below, we can see that the smaller model takes longer to learn and may not reach the same level of loss as the original model."
   ]
  },
  {
   "cell_type": "markdown",
   "metadata": {},
   "source": [
    "### Validation Loss - Original vs Larger Model"
   ]
  },
  {
   "cell_type": "code",
   "execution_count": 7,
   "metadata": {},
   "outputs": [
    {
     "data": {
      "image/png": "[encoded data removed]",
      "text/plain": [
       "<matplotlib.figure.Figure at 0x118473588>"
      ]
     },
     "metadata": {},
     "output_type": "display_data"
    }
   ],
   "source": [
    "import matplotlib.pyplot as plt\n",
    "%matplotlib inline\n",
    "plt.style.use(\"ggplot\")\n",
    "\n",
    "plt.plot(epochs, original_model_val_loss, 'b+', label='Original model')\n",
    "plt.plot(epochs, smaller_model_val_loss, 'ro', label='Smaller model')\n",
    "plt.xlabel('Epochs')\n",
    "plt.ylabel('Validation loss')\n",
    "plt.legend();"
   ]
  },
  {
   "cell_type": "code",
   "execution_count": 8,
   "metadata": {
    "scrolled": false
   },
   "outputs": [
    {
     "name": "stdout",
     "output_type": "stream",
     "text": [
      "_________________________________________________________________\n",
      "Layer (type)                 Output Shape              Param #   \n",
      "=================================================================\n",
      "dense_5 (Dense)              (None, 2048)              1607680   \n",
      "_________________________________________________________________\n",
      "dense_6 (Dense)              (None, 1024)              2098176   \n",
      "_________________________________________________________________\n",
      "dense_7 (Dense)              (None, 10)                10250     \n",
      "=================================================================\n",
      "Total params: 3,716,106\n",
      "Trainable params: 3,716,106\n",
      "Non-trainable params: 0\n",
      "_________________________________________________________________\n",
      "Train on 60000 samples, validate on 10000 samples\n",
      "Epoch 1/10\n",
      "60000/60000 [==============================] - 25s 421us/step - loss: 0.3747 - acc: 0.8910 - val_loss: 0.1256 - val_acc: 0.9590\n",
      "Epoch 2/10\n",
      "60000/60000 [==============================] - 26s 431us/step - loss: 0.1051 - acc: 0.9683 - val_loss: 0.1144 - val_acc: 0.9672\n",
      "Epoch 3/10\n",
      "60000/60000 [==============================] - 25s 420us/step - loss: 0.0612 - acc: 0.9810 - val_loss: 0.1043 - val_acc: 0.9696\n",
      "Epoch 4/10\n",
      "60000/60000 [==============================] - 25s 424us/step - loss: 0.0422 - acc: 0.9864 - val_loss: 0.0692 - val_acc: 0.9809\n",
      "Epoch 5/10\n",
      "60000/60000 [==============================] - 25s 421us/step - loss: 0.0286 - acc: 0.9907 - val_loss: 0.0796 - val_acc: 0.9788\n",
      "Epoch 6/10\n",
      "60000/60000 [==============================] - 25s 422us/step - loss: 0.0234 - acc: 0.9926 - val_loss: 0.0770 - val_acc: 0.9808\n",
      "Epoch 7/10\n",
      "60000/60000 [==============================] - 25s 424us/step - loss: 0.0171 - acc: 0.9947 - val_loss: 0.0790 - val_acc: 0.9826\n",
      "Epoch 8/10\n",
      "60000/60000 [==============================] - 25s 421us/step - loss: 0.0152 - acc: 0.9954 - val_loss: 0.0782 - val_acc: 0.9824\n",
      "Epoch 9/10\n",
      "60000/60000 [==============================] - 25s 423us/step - loss: 0.0148 - acc: 0.9957 - val_loss: 0.1365 - val_acc: 0.9731\n",
      "Epoch 10/10\n",
      "60000/60000 [==============================] - 25s 423us/step - loss: 0.0113 - acc: 0.9966 - val_loss: 0.1193 - val_acc: 0.9762\n"
     ]
    }
   ],
   "source": [
    "larger_model = models.Sequential()\n",
    "larger_model.add(layers.Dense(2048, activation='relu', input_shape=(28 * 28,)))\n",
    "larger_model.add(layers.Dense(1024, activation='relu'))\n",
    "larger_model.add(layers.Dense(10, activation='softmax'))\n",
    "larger_model.summary()\n",
    "\n",
    "larger_model.compile(optimizer='rmsprop',\n",
    "                      loss='categorical_crossentropy',\n",
    "                      metrics=['accuracy'])\n",
    "larger_model_history = larger_model.fit(x_train_input, y_train,\n",
    "                                        epochs=10, batch_size=512,\n",
    "                                        validation_data=(x_test_input, y_test))"
   ]
  },
  {
   "cell_type": "markdown",
   "metadata": {},
   "source": [
    "Note the larger model has a larger validation loss, indicating overfitting. From epoch 4 onwards the larger was overfitting the training data"
   ]
  },
  {
   "cell_type": "markdown",
   "metadata": {},
   "source": [
    "### Validation Loss - Original vs Larger Model"
   ]
  },
  {
   "cell_type": "code",
   "execution_count": 9,
   "metadata": {},
   "outputs": [
    {
     "data": {
      "image/png": "[encoded data removed]",
      "text/plain": [
       "<matplotlib.figure.Figure at 0x11cc6b2e8>"
      ]
     },
     "metadata": {},
     "output_type": "display_data"
    }
   ],
   "source": [
    "larger_model_history_val_loss = larger_model_history.history['val_loss']\n",
    "\n",
    "plt.plot(epochs, original_model_val_loss, 'b+', label='Original model')\n",
    "plt.plot(epochs, larger_model_history_val_loss, 'ro', label='Larger model')\n",
    "plt.xlabel('Epochs')\n",
    "plt.ylabel('Validation loss')\n",
    "plt.legend();"
   ]
  },
  {
   "cell_type": "markdown",
   "metadata": {},
   "source": [
    "### Training Loss"
   ]
  },
  {
   "cell_type": "markdown",
   "metadata": {},
   "source": [
    "The picture below shows that larger model learn faster because of its larger capacity. The loss value for the larger model drop towards zero faster"
   ]
  },
  {
   "cell_type": "code",
   "execution_count": 10,
   "metadata": {},
   "outputs": [
    {
     "data": {
      "image/png": "[encoded data removed]",
      "text/plain": [
       "<matplotlib.figure.Figure at 0x11c21b0b8>"
      ]
     },
     "metadata": {},
     "output_type": "display_data"
    }
   ],
   "source": [
    "original_train_loss = history.history['loss']\n",
    "larger_model_history_loss = larger_model_history.history['loss']\n",
    "\n",
    "plt.plot(epochs[2:], original_train_loss[2:], 'b+', label='Original model')\n",
    "plt.plot(epochs[2:], larger_model_history_loss[2:], 'bo', label='Larger model')\n",
    "plt.xlabel('Epochs')\n",
    "plt.ylabel('Training loss')\n",
    "plt.legend()\n",
    "\n",
    "plt.show()"
   ]
  },
  {
   "cell_type": "markdown",
   "metadata": {},
   "source": [
    "## Regularisation"
   ]
  },
  {
   "cell_type": "code",
   "execution_count": 11,
   "metadata": {
    "scrolled": false
   },
   "outputs": [
    {
     "name": "stdout",
     "output_type": "stream",
     "text": [
      "_________________________________________________________________\n",
      "Layer (type)                 Output Shape              Param #   \n",
      "=================================================================\n",
      "dense_8 (Dense)              (None, 2048)              1607680   \n",
      "_________________________________________________________________\n",
      "dense_9 (Dense)              (None, 1024)              2098176   \n",
      "_________________________________________________________________\n",
      "dense_10 (Dense)             (None, 10)                10250     \n",
      "=================================================================\n",
      "Total params: 3,716,106\n",
      "Trainable params: 3,716,106\n",
      "Non-trainable params: 0\n",
      "_________________________________________________________________\n",
      "Train on 60000 samples, validate on 10000 samples\n",
      "Epoch 1/10\n",
      "60000/60000 [==============================] - 30s 504us/step - loss: 1.3412 - acc: 0.8758 - val_loss: 0.6118 - val_acc: 0.9198\n",
      "Epoch 2/10\n",
      "60000/60000 [==============================] - 29s 490us/step - loss: 0.4387 - acc: 0.9426 - val_loss: 0.4271 - val_acc: 0.9207\n",
      "Epoch 3/10\n",
      "60000/60000 [==============================] - 29s 490us/step - loss: 0.3069 - acc: 0.9553 - val_loss: 0.2566 - val_acc: 0.9645\n",
      "Epoch 4/10\n",
      "60000/60000 [==============================] - 30s 492us/step - loss: 0.2488 - acc: 0.9628 - val_loss: 0.2625 - val_acc: 0.9556\n",
      "Epoch 5/10\n",
      "60000/60000 [==============================] - 30s 497us/step - loss: 0.2219 - acc: 0.9660 - val_loss: 0.4233 - val_acc: 0.8985\n",
      "Epoch 6/10\n",
      "60000/60000 [==============================] - 30s 503us/step - loss: 0.2000 - acc: 0.9693 - val_loss: 0.2465 - val_acc: 0.9535\n",
      "Epoch 7/10\n",
      "60000/60000 [==============================] - 30s 495us/step - loss: 0.1820 - acc: 0.9731 - val_loss: 0.1948 - val_acc: 0.9671\n",
      "Epoch 8/10\n",
      "60000/60000 [==============================] - 30s 495us/step - loss: 0.1696 - acc: 0.9746 - val_loss: 0.2021 - val_acc: 0.9647\n",
      "Epoch 9/10\n",
      "60000/60000 [==============================] - 30s 499us/step - loss: 0.1608 - acc: 0.9753 - val_loss: 0.1974 - val_acc: 0.9637\n",
      "Epoch 10/10\n",
      "60000/60000 [==============================] - 31s 516us/step - loss: 0.1506 - acc: 0.9778 - val_loss: 0.1611 - val_acc: 0.9737\n"
     ]
    }
   ],
   "source": [
    "from keras import regularizers\n",
    "\n",
    "l2_model = models.Sequential()\n",
    "l2_model.add(layers.Dense(units=2048, kernel_regularizer=regularizers.l2(0.001), \n",
    "                          activation='relu', input_shape=(28 * 28,)))\n",
    "#l1_model.add(layers.Dense(units=2048, kernel_regularizer=regularizers.l1(0.001), \n",
    "#                          activation='relu', input_shape=(28 * 28,)))\n",
    "#l1_l2_model.add(layers.Dense(units=2048, kernel_regularizer=regularizers.l1_l2(l1=0.001, l2=0.001), \n",
    "#                          activation='relu', input_shape=(28 * 28,)))\n",
    "l2_model.add(layers.Dense(units=1024, kernel_regularizer=regularizers.l2(0.001), \n",
    "                          activation='relu'))\n",
    "l2_model.add(layers.Dense(units=10, activation='softmax'))\n",
    "l2_model.summary()\n",
    "\n",
    "l2_model.compile(optimizer='rmsprop',\n",
    "                 loss='categorical_crossentropy',\n",
    "                 metrics=['accuracy'])\n",
    "l2_model_history = l2_model.fit(x_train_input, y_train,\n",
    "                                epochs=10, batch_size=512,\n",
    "                                validation_data=(x_test_input, y_test))\n"
   ]
  },
  {
   "cell_type": "code",
   "execution_count": 12,
   "metadata": {},
   "outputs": [
    {
     "data": {
      "image/png": "[encoded data removed]",
      "text/plain": [
       "<matplotlib.figure.Figure at 0x11bb12be0>"
      ]
     },
     "metadata": {},
     "output_type": "display_data"
    }
   ],
   "source": [
    "l2_model_history_val_loss = l2_model_history.history['val_loss']\n",
    "\n",
    "plt.plot(epochs, original_model_val_loss, 'g*', label='Original model')\n",
    "plt.plot(epochs, larger_model_history_val_loss, 'b+', label='Larger model')\n",
    "plt.plot(epochs, l2_model_history_val_loss, 'bo', label='L2 regularised model')\n",
    "plt.xlabel('Epochs')\n",
    "plt.ylabel('Validation loss')\n",
    "plt.legend();"
   ]
  },
  {
   "cell_type": "markdown",
   "metadata": {},
   "source": [
    "***"
   ]
  },
  {
   "cell_type": "code",
   "execution_count": 13,
   "metadata": {
    "scrolled": false
   },
   "outputs": [
    {
     "name": "stdout",
     "output_type": "stream",
     "text": [
      "_________________________________________________________________\n",
      "Layer (type)                 Output Shape              Param #   \n",
      "=================================================================\n",
      "dense_11 (Dense)             (None, 2048)              1607680   \n",
      "_________________________________________________________________\n",
      "dense_12 (Dense)             (None, 1024)              2098176   \n",
      "_________________________________________________________________\n",
      "dense_13 (Dense)             (None, 10)                10250     \n",
      "=================================================================\n",
      "Total params: 3,716,106\n",
      "Trainable params: 3,716,106\n",
      "Non-trainable params: 0\n",
      "_________________________________________________________________\n",
      "Train on 60000 samples, validate on 10000 samples\n",
      "Epoch 1/10\n",
      "60000/60000 [==============================] - 32s 532us/step - loss: 7.2087 - acc: 0.7959 - val_loss: 2.0204 - val_acc: 0.8463\n",
      "Epoch 2/10\n",
      "60000/60000 [==============================] - 32s 527us/step - loss: 1.7835 - acc: 0.8903 - val_loss: 1.6323 - val_acc: 0.9178\n",
      "Epoch 3/10\n",
      "60000/60000 [==============================] - 32s 530us/step - loss: 1.6089 - acc: 0.9133 - val_loss: 1.6114 - val_acc: 0.9087\n",
      "Epoch 4/10\n",
      "60000/60000 [==============================] - 32s 536us/step - loss: 1.5251 - acc: 0.9255 - val_loss: 1.5547 - val_acc: 0.9089\n",
      "Epoch 5/10\n",
      "60000/60000 [==============================] - 32s 539us/step - loss: 1.4719 - acc: 0.9338 - val_loss: 1.4986 - val_acc: 0.9211\n",
      "Epoch 6/10\n",
      "60000/60000 [==============================] - 32s 528us/step - loss: 1.4341 - acc: 0.9395 - val_loss: 1.4506 - val_acc: 0.9305\n",
      "Epoch 7/10\n",
      "60000/60000 [==============================] - 32s 529us/step - loss: 1.4046 - acc: 0.9457 - val_loss: 1.4237 - val_acc: 0.9312\n",
      "Epoch 8/10\n",
      "60000/60000 [==============================] - 31s 517us/step - loss: 1.3834 - acc: 0.9491 - val_loss: 1.4098 - val_acc: 0.9382\n",
      "Epoch 9/10\n",
      "60000/60000 [==============================] - 30s 504us/step - loss: 1.3650 - acc: 0.9524 - val_loss: 1.3733 - val_acc: 0.9459\n",
      "Epoch 10/10\n",
      "60000/60000 [==============================] - 30s 503us/step - loss: 1.3502 - acc: 0.9549 - val_loss: 1.3810 - val_acc: 0.9424\n"
     ]
    }
   ],
   "source": [
    "from keras import regularizers\n",
    "\n",
    "l1_l2_model = models.Sequential()\n",
    "l1_l2_model.add(layers.Dense(units=2048, kernel_regularizer=regularizers.l2(0.001), \n",
    "                          activation='relu', input_shape=(28 * 28,)))\n",
    "l1_l2_model.add(layers.Dense(units=1024, kernel_regularizer=regularizers.l1_l2(l1=0.001, l2=0.001), \n",
    "                         activation='relu'))\n",
    "l1_l2_model.add(layers.Dense(units=10, activation='softmax'))\n",
    "l1_l2_model.summary()\n",
    "\n",
    "l1_l2_model.compile(optimizer='rmsprop',\n",
    "                 loss='categorical_crossentropy',\n",
    "                 metrics=['accuracy'])\n",
    "l1_l2_model_history = l1_l2_model.fit(x_train_input, y_train,\n",
    "                                epochs=10, batch_size=512,\n",
    "                                validation_data=(x_test_input, y_test))\n"
   ]
  },
  {
   "cell_type": "code",
   "execution_count": 14,
   "metadata": {},
   "outputs": [
    {
     "data": {
      "image/png": "[encoded data removed]",
      "text/plain": [
       "<matplotlib.figure.Figure at 0x11bbaea90>"
      ]
     },
     "metadata": {},
     "output_type": "display_data"
    }
   ],
   "source": [
    "l1_l2_model_history_val_loss = l1_l2_model_history.history['val_loss']\n",
    "\n",
    "plt.plot(epochs, original_model_val_loss, 'g*', label='Original model')\n",
    "plt.plot(epochs, larger_model_history_val_loss, 'b+', label='Larger model')\n",
    "plt.plot(epochs, l1_l2_model_history_val_loss, 'bo', label='L1_L2 regularised model')\n",
    "plt.xlabel('Epochs')\n",
    "plt.ylabel('Validation loss')\n",
    "plt.legend();"
   ]
  },
  {
   "cell_type": "markdown",
   "metadata": {},
   "source": [
    "## Dropouts"
   ]
  },
  {
   "cell_type": "code",
   "execution_count": 15,
   "metadata": {},
   "outputs": [
    {
     "name": "stdout",
     "output_type": "stream",
     "text": [
      "_________________________________________________________________\n",
      "Layer (type)                 Output Shape              Param #   \n",
      "=================================================================\n",
      "dense_14 (Dense)             (None, 2048)              1607680   \n",
      "_________________________________________________________________\n",
      "dropout_1 (Dropout)          (None, 2048)              0         \n",
      "_________________________________________________________________\n",
      "dense_15 (Dense)             (None, 1024)              2098176   \n",
      "_________________________________________________________________\n",
      "dropout_2 (Dropout)          (None, 1024)              0         \n",
      "_________________________________________________________________\n",
      "dense_16 (Dense)             (None, 10)                10250     \n",
      "=================================================================\n",
      "Total params: 3,716,106\n",
      "Trainable params: 3,716,106\n",
      "Non-trainable params: 0\n",
      "_________________________________________________________________\n",
      "Train on 60000 samples, validate on 10000 samples\n",
      "Epoch 1/10\n",
      "60000/60000 [==============================] - 27s 457us/step - loss: 0.3925 - acc: 0.8806 - val_loss: 0.1364 - val_acc: 0.9566\n",
      "Epoch 2/10\n",
      "60000/60000 [==============================] - 27s 444us/step - loss: 0.1379 - acc: 0.9584 - val_loss: 0.0954 - val_acc: 0.9687\n",
      "Epoch 3/10\n",
      "60000/60000 [==============================] - 27s 445us/step - loss: 0.0983 - acc: 0.9691 - val_loss: 0.0874 - val_acc: 0.9727\n",
      "Epoch 4/10\n",
      "60000/60000 [==============================] - 27s 446us/step - loss: 0.0802 - acc: 0.9761 - val_loss: 0.0734 - val_acc: 0.9776\n",
      "Epoch 5/10\n",
      "60000/60000 [==============================] - 27s 450us/step - loss: 0.0658 - acc: 0.9800 - val_loss: 0.0697 - val_acc: 0.9799\n",
      "Epoch 6/10\n",
      "60000/60000 [==============================] - 27s 447us/step - loss: 0.0603 - acc: 0.9815 - val_loss: 0.0863 - val_acc: 0.9777\n",
      "Epoch 7/10\n",
      "60000/60000 [==============================] - 27s 456us/step - loss: 0.0527 - acc: 0.9839 - val_loss: 0.0737 - val_acc: 0.9792\n",
      "Epoch 8/10\n",
      "60000/60000 [==============================] - 28s 467us/step - loss: 0.0470 - acc: 0.9850 - val_loss: 0.0750 - val_acc: 0.9800\n",
      "Epoch 9/10\n",
      "60000/60000 [==============================] - 27s 454us/step - loss: 0.0435 - acc: 0.9864 - val_loss: 0.0700 - val_acc: 0.9828\n",
      "Epoch 10/10\n",
      "60000/60000 [==============================] - 27s 450us/step - loss: 0.0397 - acc: 0.9879 - val_loss: 0.0716 - val_acc: 0.9835\n"
     ]
    }
   ],
   "source": [
    "from keras import regularizers\n",
    "\n",
    "do_model = models.Sequential()\n",
    "do_model.add(layers.Dense(units=2048, activation='relu', input_shape=(28 * 28,)))\n",
    "do_model.add(layers.Dropout(0.5))\n",
    "do_model.add(layers.Dense(units=1024, activation='relu'))\n",
    "do_model.add(layers.Dropout(0.5))\n",
    "do_model.add(layers.Dense(units=10, activation='softmax'))\n",
    "do_model.summary()\n",
    "\n",
    "do_model.compile(optimizer='rmsprop',\n",
    "                 loss='categorical_crossentropy',\n",
    "                 metrics=['accuracy'])\n",
    "do_model_history = do_model.fit(x_train_input, y_train,\n",
    "                                epochs=10, batch_size=512,\n",
    "                                validation_data=(x_test_input, y_test))"
   ]
  },
  {
   "cell_type": "code",
   "execution_count": 16,
   "metadata": {},
   "outputs": [
    {
     "data": {
      "image/png": "[encoded data removed]",
      "text/plain": [
       "<matplotlib.figure.Figure at 0x11ccc9d30>"
      ]
     },
     "metadata": {},
     "output_type": "display_data"
    }
   ],
   "source": [
    "do_model_history_val_loss = do_model_history.history['val_loss']\n",
    "\n",
    "plt.plot(epochs, original_model_val_loss, 'g*', label='Original model')\n",
    "plt.plot(epochs, larger_model_history_val_loss, 'b+', label='Larger model')\n",
    "plt.plot(epochs, do_model_history_val_loss, 'bo', label='Dropout model')\n",
    "plt.xlabel('Epochs')\n",
    "plt.ylabel('Validation loss')\n",
    "plt.legend();"
   ]
  },
  {
   "cell_type": "markdown",
   "metadata": {},
   "source": [
    "***"
   ]
  },
  {
   "cell_type": "code",
   "execution_count": 17,
   "metadata": {},
   "outputs": [
    {
     "name": "stdout",
     "output_type": "stream",
     "text": [
      "[0.21837620306015015, 0.14481844553947448, 0.14748659710884093, 0.11492474496364594, 0.102519975233078, 0.08172686407566071, 0.086543260407447808, 0.099910108637809747, 0.069104908573627472, 0.072891588735580451]\n"
     ]
    }
   ],
   "source": [
    "print(original_model_val_loss)"
   ]
  },
  {
   "cell_type": "code",
   "execution_count": 18,
   "metadata": {},
   "outputs": [
    {
     "name": "stdout",
     "output_type": "stream",
     "text": [
      "[0.13641935634613037, 0.095416248822212224, 0.087362579774856564, 0.073384588146209712, 0.069698130989074708, 0.086345831394195563, 0.073700748085975654, 0.074982979154586793, 0.069960251474380494, 0.071643053901195519]\n"
     ]
    }
   ],
   "source": [
    "print(do_model_history_val_loss)"
   ]
  },
  {
   "cell_type": "code",
   "execution_count": 23,
   "metadata": {},
   "outputs": [
    {
     "data": {
      "text/plain": [
       "array([[ 0.2183762 ,  0.13641936],\n",
       "       [ 0.14481845,  0.09541625],\n",
       "       [ 0.1474866 ,  0.08736258],\n",
       "       [ 0.11492474,  0.07338459],\n",
       "       [ 0.10251998,  0.06969813],\n",
       "       [ 0.08172686,  0.08634583],\n",
       "       [ 0.08654326,  0.07370075],\n",
       "       [ 0.09991011,  0.07498298],\n",
       "       [ 0.06910491,  0.06996025],\n",
       "       [ 0.07289159,  0.07164305]])"
      ]
     },
     "execution_count": 23,
     "metadata": {},
     "output_type": "execute_result"
    }
   ],
   "source": [
    "np.vstack([original_model_val_loss, do_model_history_val_loss]).T"
   ]
  },
  {
   "cell_type": "code",
   "execution_count": null,
   "metadata": {},
   "outputs": [],
   "source": []
  }
 ],
 "metadata": {
  "kernelspec": {
   "display_name": "Python 3",
   "language": "python",
   "name": "python3"
  },
  "language_info": {
   "codemirror_mode": {
    "name": "ipython",
    "version": 3
   },
   "file_extension": ".py",
   "mimetype": "text/x-python",
   "name": "python",
   "nbconvert_exporter": "python",
   "pygments_lexer": "ipython3",
   "version": "3.6.3"
  }
 },
 "nbformat": 4,
 "nbformat_minor": 2
}
